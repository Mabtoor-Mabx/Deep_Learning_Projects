{
  "nbformat": 4,
  "nbformat_minor": 0,
  "metadata": {
    "colab": {
      "name": "Eye_Cancer_Detection_Model.ipynb",
      "provenance": [],
      "collapsed_sections": []
    },
    "kernelspec": {
      "name": "python3",
      "display_name": "Python 3"
    },
    "language_info": {
      "name": "python"
    },
    "accelerator": "GPU"
  },
  "cells": [
    {
      "cell_type": "markdown",
      "source": [
        "## **1-Import libraries**"
      ],
      "metadata": {
        "id": "sIQp92pKzTsS"
      }
    },
    {
      "cell_type": "code",
      "execution_count": 1,
      "metadata": {
        "id": "_7NIVY64zHde"
      },
      "outputs": [],
      "source": [
        "import tensorflow as tf\n",
        "import numpy as np\n",
        "import pandas as pd\n",
        "import matplotlib.pyplot as plt\n",
        "import seaborn as sns"
      ]
    },
    {
      "cell_type": "markdown",
      "source": [
        "\n",
        "## **2-Load Helper Function**"
      ],
      "metadata": {
        "id": "yE7jmx6RzXyx"
      }
    },
    {
      "cell_type": "code",
      "source": [
        "!wget https://raw.githubusercontent.com/mrdbourke/tensorflow-deep-learning/main/extras/helper_functions.py"
      ],
      "metadata": {
        "colab": {
          "base_uri": "https://localhost:8080/"
        },
        "id": "-tLSSsa4zWHq",
        "outputId": "a186d13c-b652-4afc-a9c9-7164cefac716"
      },
      "execution_count": 2,
      "outputs": [
        {
          "output_type": "stream",
          "name": "stdout",
          "text": [
            "--2022-04-13 09:56:44--  https://raw.githubusercontent.com/mrdbourke/tensorflow-deep-learning/main/extras/helper_functions.py\n",
            "Resolving raw.githubusercontent.com (raw.githubusercontent.com)... 185.199.108.133, 185.199.109.133, 185.199.110.133, ...\n",
            "Connecting to raw.githubusercontent.com (raw.githubusercontent.com)|185.199.108.133|:443... connected.\n",
            "HTTP request sent, awaiting response... 200 OK\n",
            "Length: 10246 (10K) [text/plain]\n",
            "Saving to: ‘helper_functions.py’\n",
            "\n",
            "helper_functions.py 100%[===================>]  10.01K  --.-KB/s    in 0s      \n",
            "\n",
            "2022-04-13 09:56:45 (47.4 MB/s) - ‘helper_functions.py’ saved [10246/10246]\n",
            "\n"
          ]
        }
      ]
    },
    {
      "cell_type": "markdown",
      "source": [
        "## **3-Import Functions Using Helper Functions**"
      ],
      "metadata": {
        "id": "YNCFDMrgzje7"
      }
    },
    {
      "cell_type": "code",
      "source": [
        "# Import series of helper functions for our notebook\n",
        "from helper_functions import create_tensorboard_callback, plot_loss_curves, unzip_data, compare_historys, walk_through_dir"
      ],
      "metadata": {
        "id": "fM_v_B_Jzgr2"
      },
      "execution_count": 3,
      "outputs": []
    },
    {
      "cell_type": "markdown",
      "source": [
        "## **4-Install and Import Split Folders**"
      ],
      "metadata": {
        "id": "ajm-sJI3z5Hp"
      }
    },
    {
      "cell_type": "code",
      "source": [
        "pip install split-folders"
      ],
      "metadata": {
        "colab": {
          "base_uri": "https://localhost:8080/"
        },
        "id": "BXFn1FWvzliz",
        "outputId": "7498feb0-52f9-401a-f4a0-4773065d21c2"
      },
      "execution_count": 4,
      "outputs": [
        {
          "output_type": "stream",
          "name": "stdout",
          "text": [
            "Collecting split-folders\n",
            "  Downloading split_folders-0.5.1-py3-none-any.whl (8.4 kB)\n",
            "Installing collected packages: split-folders\n",
            "Successfully installed split-folders-0.5.1\n"
          ]
        }
      ]
    },
    {
      "cell_type": "code",
      "source": [
        "import splitfolders"
      ],
      "metadata": {
        "id": "zeHUn2g-z7vd"
      },
      "execution_count": 5,
      "outputs": []
    },
    {
      "cell_type": "markdown",
      "source": [
        "## **5-Mount Data From Google Drive**"
      ],
      "metadata": {
        "id": "9-LeLDNqz_Tt"
      }
    },
    {
      "cell_type": "code",
      "source": [
        "from google.colab import drive\n",
        "drive.mount('/content/drive')"
      ],
      "metadata": {
        "colab": {
          "base_uri": "https://localhost:8080/"
        },
        "id": "y0GxcQqFz9nq",
        "outputId": "7f55e59a-cf31-4e2a-c92e-e12c148e85a7"
      },
      "execution_count": 6,
      "outputs": [
        {
          "output_type": "stream",
          "name": "stdout",
          "text": [
            "Mounted at /content/drive\n"
          ]
        }
      ]
    },
    {
      "cell_type": "markdown",
      "source": [
        "## **6-Load Data from Google Drive**"
      ],
      "metadata": {
        "id": "DvUNnr0P0SSB"
      }
    },
    {
      "cell_type": "code",
      "source": [
        "import zipfile\n",
        "\n",
        "# unzip the downloaded file\n",
        "zip_ref = zipfile.ZipFile(\"/content/drive/MyDrive/Deep_Learning_Datasets_For_Practice_Purposes/eye-cancer.zip\")\n",
        "zip_ref.extractall()\n",
        "zip_ref.close()"
      ],
      "metadata": {
        "id": "g2CJVLkY0CJ9"
      },
      "execution_count": 7,
      "outputs": []
    },
    {
      "cell_type": "markdown",
      "source": [
        "## **7-Get Class Names Programmatically**"
      ],
      "metadata": {
        "id": "Q3TdjVFJ2POw"
      }
    },
    {
      "cell_type": "code",
      "source": [
        "# get the class names prgrammatically\n",
        "import pathlib\n",
        "import numpy as np\n",
        "data_dir = pathlib.Path(\"/content/dataset\")\n",
        "class_names = np.array(sorted([item.name for item in data_dir.glob(\"*\")])) # create a list of class_names from the subdirectories\n",
        "print(class_names)"
      ],
      "metadata": {
        "colab": {
          "base_uri": "https://localhost:8080/"
        },
        "id": "ecZQ94yr2ILu",
        "outputId": "b0e910e7-0c00-4105-e8d3-82a4cff542a3"
      },
      "execution_count": 8,
      "outputs": [
        {
          "output_type": "stream",
          "name": "stdout",
          "text": [
            "['.ipynb_checkpoints' 'images']\n"
          ]
        }
      ]
    },
    {
      "cell_type": "markdown",
      "source": [
        "## **8-Visualize Our Images**"
      ],
      "metadata": {
        "id": "EFBx5qCJ2b4-"
      }
    },
    {
      "cell_type": "code",
      "source": [
        "# let's visualize our image\n",
        "import matplotlib.pyplot as plt\n",
        "import matplotlib.image as mpimg\n",
        "import random\n",
        "import os\n",
        "\n",
        "def view_random_image(target_dir, target_class):\n",
        "  # setup the target directory (we'll view images from here)\n",
        "  target_folder = target_dir+target_class\n",
        "\n",
        "  # get a random image path\n",
        "  random_image = random.sample(os.listdir(target_folder), 1) # this line means randomly sample one item form the target folder\n",
        "  print(random_image)\n",
        "\n",
        "  # read in the image and plot it using matplotlib\n",
        "  img = mpimg.imread(target_folder + \"/\" + random_image[0])\n",
        "  plt.imshow(img)\n",
        "  plt.title(target_class)\n",
        "  plt.axis(\"off\")\n",
        "\n",
        "  print(f\"Image shape: {img.shape}\") # show thw shape of the image\n",
        "\n",
        "  return img "
      ],
      "metadata": {
        "id": "gvaV5oav2YjD"
      },
      "execution_count": 9,
      "outputs": []
    },
    {
      "cell_type": "markdown",
      "source": [
        "## **9-Split The Folders into Train , Validation and Test Datasets**"
      ],
      "metadata": {
        "id": "6nbRJhwF2hGz"
      }
    },
    {
      "cell_type": "code",
      "source": [
        "splitfolders.ratio(\"/content/dataset/\", output=\"eye_cancer_dataset_model\",\n",
        "    seed=1337, ratio=(.8, .1, .1), group_prefix=None, move=False)"
      ],
      "metadata": {
        "colab": {
          "base_uri": "https://localhost:8080/"
        },
        "id": "IyjrsAGb2ekE",
        "outputId": "1d32e4fd-135b-4fac-bd05-a4ac79b83028"
      },
      "execution_count": 11,
      "outputs": [
        {
          "output_type": "stream",
          "name": "stderr",
          "text": [
            "Copying files: 712 files [00:01, 634.52 files/s]\n"
          ]
        }
      ]
    },
    {
      "cell_type": "markdown",
      "source": [
        "## **10-Set Train, Test and Validation Paths**"
      ],
      "metadata": {
        "id": "lC2lqHla26HY"
      }
    },
    {
      "cell_type": "code",
      "source": [
        "train_dir = \"/content/eye_cancer_dataset_model/train\"\n",
        "test_dir = '/content/eye_cancer_dataset_model/test/'\n",
        "val_dir = '/content/eye_cancer_dataset_model/val/'"
      ],
      "metadata": {
        "id": "pxMJ5QLf2q4c"
      },
      "execution_count": 12,
      "outputs": []
    },
    {
      "cell_type": "markdown",
      "source": [
        "## **11-Checking Number of Images**"
      ],
      "metadata": {
        "id": "vqA3NQeR3aDX"
      }
    },
    {
      "cell_type": "code",
      "source": [
        "# How many images/classes are there?\n",
        "walk_through_dir(\"/content/dataset/images\")"
      ],
      "metadata": {
        "colab": {
          "base_uri": "https://localhost:8080/"
        },
        "id": "1VRPwpBb3TmW",
        "outputId": "b2b5d8a5-7a0d-4ca2-bda6-4ea4aa6e1734"
      },
      "execution_count": 14,
      "outputs": [
        {
          "output_type": "stream",
          "name": "stdout",
          "text": [
            "There are 0 directories and 712 images in '/content/dataset/images'.\n"
          ]
        }
      ]
    },
    {
      "cell_type": "markdown",
      "source": [
        "## **12-Set Data Inputs**"
      ],
      "metadata": {
        "id": "eq-5Oud83iXZ"
      }
    },
    {
      "cell_type": "code",
      "source": [
        "# Set up data inputs\n",
        "import tensorflow as tf\n",
        "IMG_SIZE = (224, 224)\n",
        "train_data = tf.keras.preprocessing.image_dataset_from_directory(train_dir,\n",
        "                                                                                label_mode=\"categorical\",\n",
        "                                                                                image_size=IMG_SIZE)\n",
        "test_data =  tf.keras.preprocessing.image_dataset_from_directory(test_dir,\n",
        "                                                                 label_mode=\"categorical\",\n",
        "                                                                 image_size=IMG_SIZE,\n",
        "                                                                 shuffle=False) # don't shuffle test data for prediction analysis"
      ],
      "metadata": {
        "colab": {
          "base_uri": "https://localhost:8080/"
        },
        "id": "tYtZ4Aae3f1Z",
        "outputId": "4e43f39b-6fad-40aa-9608-a03331ce70fb"
      },
      "execution_count": 15,
      "outputs": [
        {
          "output_type": "stream",
          "name": "stdout",
          "text": [
            "Found 569 files belonging to 2 classes.\n",
            "Found 72 files belonging to 2 classes.\n"
          ]
        }
      ]
    },
    {
      "cell_type": "markdown",
      "source": [
        "## **13-Create Checkpoint Callback**"
      ],
      "metadata": {
        "id": "HUUyagpB3oKn"
      }
    },
    {
      "cell_type": "code",
      "source": [
        "\n",
        "# Create a checkpoint callback\n",
        "checkpoint_path = \"eye_cancer_classification_model\"\n",
        "checkpoint_callback = tf.keras.callbacks.ModelCheckpoint(checkpoint_path,\n",
        "                                                         save_weights_only=True,\n",
        "                                                         monitor=\"val_accuracy\",\n",
        "                                                         save_best_only=True)"
      ],
      "metadata": {
        "id": "vASRwgd63lHq"
      },
      "execution_count": 16,
      "outputs": []
    },
    {
      "cell_type": "markdown",
      "source": [
        "## **14-Make Data Augmentation**"
      ],
      "metadata": {
        "id": "Hr-6psyF30Em"
      }
    },
    {
      "cell_type": "code",
      "source": [
        "# Create a data augmentation layer to incorporate it right into the model\n",
        "from tensorflow.keras import layers\n",
        "from tensorflow.keras.layers.experimental import preprocessing\n",
        "from tensorflow.keras.models import Sequential\n",
        "\n",
        "# Setup data augmentation\n",
        "data_augmentation = Sequential([\n",
        "   preprocessing.RandomFlip(\"horizontal\"),\n",
        "   preprocessing.RandomRotation(0.2),\n",
        "   preprocessing.RandomHeight(0.2),\n",
        "   preprocessing.RandomWidth(0.2),\n",
        "   preprocessing.RandomZoom(0.2),\n",
        "  # preprocessing.Rescaling(1/255.)  # rescale inputs of images between 1 & 0, required for models like ResNet50                            \n",
        "], name= \"data_augmentation\")\n",
        "\n"
      ],
      "metadata": {
        "id": "T1DQEAZw3yVy"
      },
      "execution_count": 17,
      "outputs": []
    },
    {
      "cell_type": "markdown",
      "source": [
        "## **15-Setup Base Model (Feature Extraction)**"
      ],
      "metadata": {
        "id": "i4uSdwVC3513"
      }
    },
    {
      "cell_type": "code",
      "source": [
        "base_model = tf.keras.applications.EfficientNetB0(include_top=False)\n",
        "base_model.trainable = False\n",
        "\n",
        "inputs = layers.Input(shape=(224, 224, 3), name=\"input_layer\")\n",
        "x = data_augmentation(inputs)\n",
        "x = base_model(x, training=False)\n",
        "x = layers.GlobalAveragePooling2D(name=\"global_avg_pooling_layer\")(x)\n",
        "outputs = layers.Dense(len(train_data.class_names), activation=\"softmax\", name=\"output_layer\")(x)\n",
        "model=tf.keras.Model(inputs, outputs)"
      ],
      "metadata": {
        "id": "ppmj_bYG33FS",
        "colab": {
          "base_uri": "https://localhost:8080/"
        },
        "outputId": "c9bced9e-ebfe-4ffc-e8b3-76e3f52023e6"
      },
      "execution_count": 18,
      "outputs": [
        {
          "output_type": "stream",
          "name": "stdout",
          "text": [
            "Downloading data from https://storage.googleapis.com/keras-applications/efficientnetb0_notop.h5\n",
            "16711680/16705208 [==============================] - 0s 0us/step\n",
            "16719872/16705208 [==============================] - 0s 0us/step\n"
          ]
        }
      ]
    },
    {
      "cell_type": "code",
      "source": [
        "# Get a summary of model we've been created\n",
        "model.summary()"
      ],
      "metadata": {
        "colab": {
          "base_uri": "https://localhost:8080/"
        },
        "id": "t9EsGEJr37vU",
        "outputId": "4c561c38-6cc5-4607-d4e9-7d07e3c3abb4"
      },
      "execution_count": 19,
      "outputs": [
        {
          "output_type": "stream",
          "name": "stdout",
          "text": [
            "Model: \"model\"\n",
            "_________________________________________________________________\n",
            " Layer (type)                Output Shape              Param #   \n",
            "=================================================================\n",
            " input_layer (InputLayer)    [(None, 224, 224, 3)]     0         \n",
            "                                                                 \n",
            " data_augmentation (Sequenti  (None, 224, 224, 3)      0         \n",
            " al)                                                             \n",
            "                                                                 \n",
            " efficientnetb0 (Functional)  (None, None, None, 1280)  4049571  \n",
            "                                                                 \n",
            " global_avg_pooling_layer (G  (None, 1280)             0         \n",
            " lobalAveragePooling2D)                                          \n",
            "                                                                 \n",
            " output_layer (Dense)        (None, 2)                 2562      \n",
            "                                                                 \n",
            "=================================================================\n",
            "Total params: 4,052,133\n",
            "Trainable params: 2,562\n",
            "Non-trainable params: 4,049,571\n",
            "_________________________________________________________________\n"
          ]
        }
      ]
    },
    {
      "cell_type": "markdown",
      "source": [
        "## **16-Import Metrics**"
      ],
      "metadata": {
        "id": "DQG9YZga4CZm"
      }
    },
    {
      "cell_type": "code",
      "source": [
        "from tensorflow.keras import metrics"
      ],
      "metadata": {
        "id": "XTRLgWG43-7p"
      },
      "execution_count": 20,
      "outputs": []
    },
    {
      "cell_type": "code",
      "source": [
        "METRICS = [\n",
        "  metrics.TruePositives(name=\"tp\"),\n",
        "  metrics.FalsePositives(name=\"fp\"),\n",
        "  metrics.TrueNegatives(name=\"tn\"),\n",
        "  metrics.FalseNegatives(name=\"fn\"),\n",
        "  metrics.CategoricalAccuracy(name=\"accuracy\"),\n",
        "  metrics.Precision(name=\"precision\"),\n",
        "  metrics.Recall(name=\"recall\"),\n",
        "  metrics.AUC(name=\"auc\")\n",
        "]"
      ],
      "metadata": {
        "id": "D4HKOKXU4E_m"
      },
      "execution_count": 21,
      "outputs": []
    },
    {
      "cell_type": "markdown",
      "source": [
        "## **17-Compile and Fit The Model**"
      ],
      "metadata": {
        "id": "iyynRe_v4I8V"
      }
    },
    {
      "cell_type": "code",
      "source": [
        "# Compile\n",
        "model.compile(loss=\"categorical_crossentropy\",\n",
        "              optimizer=tf.keras.optimizers.Adam(),\n",
        "              metrics=METRICS)\n",
        "\n",
        "# Fit\n",
        "history_for_feature_extraction = model.fit(train_data,\n",
        "                                           epochs=5, \n",
        "                                           validation_data=test_data,\n",
        "                                           validation_steps=len(test_data))\n",
        "                                           "
      ],
      "metadata": {
        "colab": {
          "base_uri": "https://localhost:8080/"
        },
        "id": "TaPEiBhz4G77",
        "outputId": "fd0627a8-dea9-46a9-fb03-e52efe255575"
      },
      "execution_count": 22,
      "outputs": [
        {
          "output_type": "stream",
          "name": "stdout",
          "text": [
            "Epoch 1/5\n",
            "18/18 [==============================] - 40s 1s/step - loss: 0.2678 - tp: 503.0000 - fp: 66.0000 - tn: 503.0000 - fn: 66.0000 - accuracy: 0.8840 - precision: 0.8840 - recall: 0.8840 - auc: 0.9632 - val_loss: 0.0128 - val_tp: 72.0000 - val_fp: 0.0000e+00 - val_tn: 72.0000 - val_fn: 0.0000e+00 - val_accuracy: 1.0000 - val_precision: 1.0000 - val_recall: 1.0000 - val_auc: 1.0000\n",
            "Epoch 2/5\n",
            "18/18 [==============================] - 16s 695ms/step - loss: 0.0088 - tp: 569.0000 - fp: 0.0000e+00 - tn: 569.0000 - fn: 0.0000e+00 - accuracy: 1.0000 - precision: 1.0000 - recall: 1.0000 - auc: 1.0000 - val_loss: 0.0032 - val_tp: 72.0000 - val_fp: 0.0000e+00 - val_tn: 72.0000 - val_fn: 0.0000e+00 - val_accuracy: 1.0000 - val_precision: 1.0000 - val_recall: 1.0000 - val_auc: 1.0000\n",
            "Epoch 3/5\n",
            "18/18 [==============================] - 16s 671ms/step - loss: 0.0039 - tp: 569.0000 - fp: 0.0000e+00 - tn: 569.0000 - fn: 0.0000e+00 - accuracy: 1.0000 - precision: 1.0000 - recall: 1.0000 - auc: 1.0000 - val_loss: 0.0022 - val_tp: 72.0000 - val_fp: 0.0000e+00 - val_tn: 72.0000 - val_fn: 0.0000e+00 - val_accuracy: 1.0000 - val_precision: 1.0000 - val_recall: 1.0000 - val_auc: 1.0000\n",
            "Epoch 4/5\n",
            "18/18 [==============================] - 16s 650ms/step - loss: 0.0032 - tp: 569.0000 - fp: 0.0000e+00 - tn: 569.0000 - fn: 0.0000e+00 - accuracy: 1.0000 - precision: 1.0000 - recall: 1.0000 - auc: 1.0000 - val_loss: 0.0018 - val_tp: 72.0000 - val_fp: 0.0000e+00 - val_tn: 72.0000 - val_fn: 0.0000e+00 - val_accuracy: 1.0000 - val_precision: 1.0000 - val_recall: 1.0000 - val_auc: 1.0000\n",
            "Epoch 5/5\n",
            "18/18 [==============================] - 15s 614ms/step - loss: 0.0026 - tp: 569.0000 - fp: 0.0000e+00 - tn: 569.0000 - fn: 0.0000e+00 - accuracy: 1.0000 - precision: 1.0000 - recall: 1.0000 - auc: 1.0000 - val_loss: 0.0016 - val_tp: 72.0000 - val_fp: 0.0000e+00 - val_tn: 72.0000 - val_fn: 0.0000e+00 - val_accuracy: 1.0000 - val_precision: 1.0000 - val_recall: 1.0000 - val_auc: 1.0000\n"
          ]
        }
      ]
    },
    {
      "cell_type": "markdown",
      "source": [
        "## **18-Evaluate The Model**"
      ],
      "metadata": {
        "id": "aINm4W_H5bPd"
      }
    },
    {
      "cell_type": "code",
      "source": [
        "# Evaluate on the whole test dataset  ##its a feature extraction instead of fine tune\n",
        "feature_extraction_results = model.evaluate(test_data)\n",
        "feature_extraction_results"
      ],
      "metadata": {
        "colab": {
          "base_uri": "https://localhost:8080/"
        },
        "id": "zQDCw_gd5bAc",
        "outputId": "147477bf-1ba4-4e83-fab5-4fb5a96b40bc"
      },
      "execution_count": 23,
      "outputs": [
        {
          "output_type": "stream",
          "name": "stdout",
          "text": [
            "3/3 [==============================] - 1s 304ms/step - loss: 0.0016 - tp: 72.0000 - fp: 0.0000e+00 - tn: 72.0000 - fn: 0.0000e+00 - accuracy: 1.0000 - precision: 1.0000 - recall: 1.0000 - auc: 1.0000\n"
          ]
        },
        {
          "output_type": "execute_result",
          "data": {
            "text/plain": [
              "[0.0015978246228769422, 72.0, 0.0, 72.0, 0.0, 1.0, 1.0, 1.0, 1.0]"
            ]
          },
          "metadata": {},
          "execution_count": 23
        }
      ]
    },
    {
      "cell_type": "markdown",
      "source": [
        "## **19-Plot The Graph**"
      ],
      "metadata": {
        "id": "zwlVtN8L6wRs"
      }
    },
    {
      "cell_type": "code",
      "source": [
        "plot_loss_curves(history_for_feature_extraction)"
      ],
      "metadata": {
        "colab": {
          "base_uri": "https://localhost:8080/",
          "height": 573
        },
        "id": "qd865GWr4Lgw",
        "outputId": "d66c9aee-5fb2-4814-c65b-3648af186dac"
      },
      "execution_count": 24,
      "outputs": [
        {
          "output_type": "display_data",
          "data": {
            "text/plain": [
              "<Figure size 432x288 with 1 Axes>"
            ],
            "image/png": "[encoded data removed]"
          },
          "metadata": {
            "needs_background": "light"
          }
        },
        {
          "output_type": "display_data",
          "data": {
            "text/plain": [
              "<Figure size 432x288 with 1 Axes>"
            ],
            "image/png": "[encoded data removed]"
          },
          "metadata": {
            "needs_background": "light"
          }
        }
      ]
    },
    {
      "cell_type": "markdown",
      "source": [
        "## **20-Unfreeze Some Layers**"
      ],
      "metadata": {
        "id": "MK2IEZCM63-x"
      }
    },
    {
      "cell_type": "code",
      "source": [
        "base_model.trainable=True\n",
        "\n",
        "for layer in base_model.layers[:-5]:\n",
        "  layer.trainable=False"
      ],
      "metadata": {
        "id": "2v-IOjMv6yNQ"
      },
      "execution_count": 25,
      "outputs": []
    },
    {
      "cell_type": "markdown",
      "source": [
        "## **21-Recompile and Fit The Model**"
      ],
      "metadata": {
        "id": "c9zh9mAt68pj"
      }
    },
    {
      "cell_type": "code",
      "source": [
        "model.compile(loss=\"categorical_crossentropy\",\n",
        "              optimizer=tf.keras.optimizers.Adam(learning_rate=0.0001), # learning rate lower by 10x\n",
        "              metrics=METRICS)"
      ],
      "metadata": {
        "id": "cI8L4qh_667D"
      },
      "execution_count": 26,
      "outputs": []
    },
    {
      "cell_type": "code",
      "source": [
        "# What layers in the model are trainable?\n",
        "for layer in model.layers:\n",
        "  print(layer.name, layer.trainable)"
      ],
      "metadata": {
        "colab": {
          "base_uri": "https://localhost:8080/"
        },
        "id": "eXgUSMf17APa",
        "outputId": "35d599dd-1d75-49aa-8fb8-dc39d81a0930"
      },
      "execution_count": 27,
      "outputs": [
        {
          "output_type": "stream",
          "name": "stdout",
          "text": [
            "input_layer True\n",
            "data_augmentation True\n",
            "efficientnetb0 True\n",
            "global_avg_pooling_layer True\n",
            "output_layer True\n"
          ]
        }
      ]
    },
    {
      "cell_type": "code",
      "source": [
        "# Check which layers in our model is trainable\n",
        "for layer_number, layer in enumerate(model.layers[1].layers):\n",
        "  print(layer_number, layer.name, layer.trainable )"
      ],
      "metadata": {
        "colab": {
          "base_uri": "https://localhost:8080/"
        },
        "id": "m5FHPU-L7CB5",
        "outputId": "ec578c1e-7a52-4fc7-f8a1-fe4f16519bd3"
      },
      "execution_count": 28,
      "outputs": [
        {
          "output_type": "stream",
          "name": "stdout",
          "text": [
            "0 random_flip True\n",
            "1 random_rotation True\n",
            "2 random_height True\n",
            "3 random_width True\n",
            "4 random_zoom True\n"
          ]
        }
      ]
    },
    {
      "cell_type": "code",
      "source": [
        "# Fine-tune for more 5 epochs\n",
        "fine_tune_epochs = 10 # model has already done the 5 epochs (feature extraction), this is the total number of epochs we're after (5 + 5 =10)\n",
        "\n",
        "# Fine-tune our model\n",
        "history_for_fine_tune = model.fit(train_data,\n",
        "                                                     epochs=fine_tune_epochs,\n",
        "                                                     validation_data=test_data,\n",
        "                                                     validation_steps=len(test_data),\n",
        "                                                     initial_epoch=history_for_feature_extraction.epoch[-1])"
      ],
      "metadata": {
        "colab": {
          "base_uri": "https://localhost:8080/"
        },
        "id": "qk31Ufhs7D6b",
        "outputId": "3e51058a-9da2-436f-e1bc-06288ac65836"
      },
      "execution_count": 29,
      "outputs": [
        {
          "output_type": "stream",
          "name": "stdout",
          "text": [
            "Epoch 5/10\n",
            "18/18 [==============================] - 35s 1s/step - loss: 3.5015e-04 - tp: 641.0000 - fp: 0.0000e+00 - tn: 641.0000 - fn: 0.0000e+00 - accuracy: 1.0000 - precision: 1.0000 - recall: 1.0000 - auc: 1.0000 - val_loss: 4.5646e-06 - val_tp: 72.0000 - val_fp: 0.0000e+00 - val_tn: 72.0000 - val_fn: 0.0000e+00 - val_accuracy: 1.0000 - val_precision: 1.0000 - val_recall: 1.0000 - val_auc: 1.0000\n",
            "Epoch 6/10\n",
            "18/18 [==============================] - 16s 639ms/step - loss: 7.0491e-06 - tp: 569.0000 - fp: 0.0000e+00 - tn: 569.0000 - fn: 0.0000e+00 - accuracy: 1.0000 - precision: 1.0000 - recall: 1.0000 - auc: 1.0000 - val_loss: 9.6691e-07 - val_tp: 72.0000 - val_fp: 0.0000e+00 - val_tn: 72.0000 - val_fn: 0.0000e+00 - val_accuracy: 1.0000 - val_precision: 1.0000 - val_recall: 1.0000 - val_auc: 1.0000\n",
            "Epoch 7/10\n",
            "18/18 [==============================] - 15s 617ms/step - loss: 2.3317e-06 - tp: 569.0000 - fp: 0.0000e+00 - tn: 569.0000 - fn: 0.0000e+00 - accuracy: 1.0000 - precision: 1.0000 - recall: 1.0000 - auc: 1.0000 - val_loss: 6.4902e-07 - val_tp: 72.0000 - val_fp: 0.0000e+00 - val_tn: 72.0000 - val_fn: 0.0000e+00 - val_accuracy: 1.0000 - val_precision: 1.0000 - val_recall: 1.0000 - val_auc: 1.0000\n",
            "Epoch 8/10\n",
            "18/18 [==============================] - 15s 603ms/step - loss: 8.0366e-07 - tp: 569.0000 - fp: 0.0000e+00 - tn: 569.0000 - fn: 0.0000e+00 - accuracy: 1.0000 - precision: 1.0000 - recall: 1.0000 - auc: 1.0000 - val_loss: 5.8445e-07 - val_tp: 72.0000 - val_fp: 0.0000e+00 - val_tn: 72.0000 - val_fn: 0.0000e+00 - val_accuracy: 1.0000 - val_precision: 1.0000 - val_recall: 1.0000 - val_auc: 1.0000\n",
            "Epoch 9/10\n",
            "18/18 [==============================] - 15s 631ms/step - loss: 1.1502e-06 - tp: 569.0000 - fp: 0.0000e+00 - tn: 569.0000 - fn: 0.0000e+00 - accuracy: 1.0000 - precision: 1.0000 - recall: 1.0000 - auc: 1.0000 - val_loss: 5.3644e-07 - val_tp: 72.0000 - val_fp: 0.0000e+00 - val_tn: 72.0000 - val_fn: 0.0000e+00 - val_accuracy: 1.0000 - val_precision: 1.0000 - val_recall: 1.0000 - val_auc: 1.0000\n",
            "Epoch 10/10\n",
            "18/18 [==============================] - 14s 588ms/step - loss: 1.0691e-06 - tp: 569.0000 - fp: 0.0000e+00 - tn: 569.0000 - fn: 0.0000e+00 - accuracy: 1.0000 - precision: 1.0000 - recall: 1.0000 - auc: 1.0000 - val_loss: 5.0498e-07 - val_tp: 72.0000 - val_fp: 0.0000e+00 - val_tn: 72.0000 - val_fn: 0.0000e+00 - val_accuracy: 1.0000 - val_precision: 1.0000 - val_recall: 1.0000 - val_auc: 1.0000\n"
          ]
        }
      ]
    },
    {
      "cell_type": "markdown",
      "source": [
        "## **22-Re_Evaluate The Model**"
      ],
      "metadata": {
        "id": "FbQMiSgm7a3m"
      }
    },
    {
      "cell_type": "code",
      "source": [
        "# Evaluate on the whole test dataset\n",
        "fine_tune_results =model.evaluate(test_data)\n",
        "fine_tune_results"
      ],
      "metadata": {
        "colab": {
          "base_uri": "https://localhost:8080/"
        },
        "id": "5jUB0cQi7IRY",
        "outputId": "5c97f656-cefe-4a53-a85f-c2cf77d3491f"
      },
      "execution_count": 30,
      "outputs": [
        {
          "output_type": "stream",
          "name": "stdout",
          "text": [
            "3/3 [==============================] - 1s 325ms/step - loss: 5.0498e-07 - tp: 72.0000 - fp: 0.0000e+00 - tn: 72.0000 - fn: 0.0000e+00 - accuracy: 1.0000 - precision: 1.0000 - recall: 1.0000 - auc: 1.0000\n"
          ]
        },
        {
          "output_type": "execute_result",
          "data": {
            "text/plain": [
              "[5.049810738455562e-07, 72.0, 0.0, 72.0, 0.0, 1.0, 1.0, 1.0, 1.0]"
            ]
          },
          "metadata": {},
          "execution_count": 30
        }
      ]
    },
    {
      "cell_type": "markdown",
      "source": [
        "## **23-Compare Histories**"
      ],
      "metadata": {
        "id": "TIqRxgh18_UD"
      }
    },
    {
      "cell_type": "code",
      "source": [
        "# Compare the historys of feature extraction model with fine-tuning model \n",
        "compare_historys(original_history=history_for_feature_extraction,\n",
        "                 new_history=history_for_fine_tune,\n",
        "                 initial_epochs=5)"
      ],
      "metadata": {
        "colab": {
          "base_uri": "https://localhost:8080/",
          "height": 513
        },
        "id": "49AvNQCv87HR",
        "outputId": "e4f719a7-c951-4c18-b402-5426e1397425"
      },
      "execution_count": 31,
      "outputs": [
        {
          "output_type": "display_data",
          "data": {
            "text/plain": [
              "<Figure size 576x576 with 2 Axes>"
            ],
            "image/png": "[encoded data removed]"
          },
          "metadata": {
            "needs_background": "light"
          }
        }
      ]
    },
    {
      "cell_type": "markdown",
      "source": [
        "## **24-Save The Model**"
      ],
      "metadata": {
        "id": "rn2xgfEE9QsC"
      }
    },
    {
      "cell_type": "code",
      "source": [
        "# Save our fine-tuning model\n",
        "model.save(\"drive/MyDrive/Deep_Learning_Models_h5/eye_cancer_detection_model.h5\")"
      ],
      "metadata": {
        "id": "PfUqvhBB9CGZ"
      },
      "execution_count": 32,
      "outputs": []
    },
    {
      "cell_type": "markdown",
      "source": [
        "## **25-Load The Model**"
      ],
      "metadata": {
        "id": "zcE3b_Az-Uy-"
      }
    },
    {
      "cell_type": "code",
      "source": [
        "# Load and evaluate saved model\n",
        "loaded_model =tf.keras.models.load_model(\"drive/MyDrive/Deep_Learning_Models_h5/eye_cancer_detection_model.h5\")"
      ],
      "metadata": {
        "id": "h6KYh5UJ97u5"
      },
      "execution_count": 33,
      "outputs": []
    },
    {
      "cell_type": "code",
      "source": [
        "# Evaluate loaded model and compare performance to pre-saved model\n",
        "loaded_model_results = loaded_model.evaluate(test_data)\n",
        "loaded_model_results"
      ],
      "metadata": {
        "colab": {
          "base_uri": "https://localhost:8080/"
        },
        "id": "9ZKxbxPC-cpJ",
        "outputId": "56335f78-8f1a-4453-a95d-0b4d1771b8da"
      },
      "execution_count": 34,
      "outputs": [
        {
          "output_type": "stream",
          "name": "stdout",
          "text": [
            "3/3 [==============================] - 4s 300ms/step - loss: 5.0498e-07 - tp: 72.0000 - fp: 0.0000e+00 - tn: 72.0000 - fn: 0.0000e+00 - accuracy: 1.0000 - precision: 1.0000 - recall: 1.0000 - auc: 1.0000\n"
          ]
        },
        {
          "output_type": "execute_result",
          "data": {
            "text/plain": [
              "[5.049810738455562e-07, 72.0, 0.0, 72.0, 0.0, 1.0, 1.0, 1.0, 1.0]"
            ]
          },
          "metadata": {},
          "execution_count": 34
        }
      ]
    },
    {
      "cell_type": "code",
      "source": [
        "# The results from the saved model (Above) should be very similar to the results below\n",
        "fine_tune_results"
      ],
      "metadata": {
        "colab": {
          "base_uri": "https://localhost:8080/"
        },
        "id": "yAgBWqkb-h0I",
        "outputId": "bb3db50f-faab-477e-954f-d267597159f3"
      },
      "execution_count": 35,
      "outputs": [
        {
          "output_type": "execute_result",
          "data": {
            "text/plain": [
              "[5.049810738455562e-07, 72.0, 0.0, 72.0, 0.0, 1.0, 1.0, 1.0, 1.0]"
            ]
          },
          "metadata": {},
          "execution_count": 35
        }
      ]
    },
    {
      "cell_type": "markdown",
      "source": [
        "## **26-Make Prediction Probabilites**"
      ],
      "metadata": {
        "id": "rY_L2i7w-pz_"
      }
    },
    {
      "cell_type": "code",
      "source": [
        "# Make predictions with model\n",
        "preds_probs = model.predict(test_data, verbose=1) # set verbosity to see how long it left"
      ],
      "metadata": {
        "colab": {
          "base_uri": "https://localhost:8080/"
        },
        "id": "_uIVeFtX-nGn",
        "outputId": "7ede56f8-b49b-41a1-ed78-898b4b34088b"
      },
      "execution_count": 36,
      "outputs": [
        {
          "output_type": "stream",
          "name": "stdout",
          "text": [
            "3/3 [==============================] - 3s 347ms/step\n"
          ]
        }
      ]
    },
    {
      "cell_type": "code",
      "source": [
        "len(test_data)"
      ],
      "metadata": {
        "colab": {
          "base_uri": "https://localhost:8080/"
        },
        "id": "zvxvTYDP-rvQ",
        "outputId": "903c98c2-4a3e-4c2d-f208-790febd41fd7"
      },
      "execution_count": 37,
      "outputs": [
        {
          "output_type": "execute_result",
          "data": {
            "text/plain": [
              "3"
            ]
          },
          "metadata": {},
          "execution_count": 37
        }
      ]
    },
    {
      "cell_type": "code",
      "source": [
        "# How many predictions are there?\n",
        "len(preds_probs)"
      ],
      "metadata": {
        "colab": {
          "base_uri": "https://localhost:8080/"
        },
        "id": "Xw5UZR1e-uN1",
        "outputId": "9fb66295-96a7-4fab-dcf1-0d45c083503c"
      },
      "execution_count": 38,
      "outputs": [
        {
          "output_type": "execute_result",
          "data": {
            "text/plain": [
              "72"
            ]
          },
          "metadata": {},
          "execution_count": 38
        }
      ]
    },
    {
      "cell_type": "code",
      "source": [
        "# What's the shape of our predictions?\n",
        "preds_probs.shape"
      ],
      "metadata": {
        "colab": {
          "base_uri": "https://localhost:8080/"
        },
        "id": "IbBnSC0y-v3g",
        "outputId": "d4835fe0-ee97-4bea-b3d4-52c04809238c"
      },
      "execution_count": 39,
      "outputs": [
        {
          "output_type": "execute_result",
          "data": {
            "text/plain": [
              "(72, 2)"
            ]
          },
          "metadata": {},
          "execution_count": 39
        }
      ]
    },
    {
      "cell_type": "code",
      "source": [
        "# Let's see whats the first 10 predictions looks like\n",
        "preds_probs[:10]"
      ],
      "metadata": {
        "colab": {
          "base_uri": "https://localhost:8080/"
        },
        "id": "1BOoi9hi-xfe",
        "outputId": "188c80a3-0da7-4857-b781-20bee811f57c"
      },
      "execution_count": 40,
      "outputs": [
        {
          "output_type": "execute_result",
          "data": {
            "text/plain": [
              "array([[5.7150022e-09, 1.0000000e+00],\n",
              "       [1.8593428e-07, 9.9999976e-01],\n",
              "       [3.7277658e-07, 9.9999964e-01],\n",
              "       [2.7433666e-07, 9.9999976e-01],\n",
              "       [2.8291108e-08, 1.0000000e+00],\n",
              "       [5.1739800e-08, 1.0000000e+00],\n",
              "       [1.5792896e-06, 9.9999845e-01],\n",
              "       [6.4259439e-08, 9.9999988e-01],\n",
              "       [2.0156949e-07, 9.9999976e-01],\n",
              "       [5.8998609e-07, 9.9999940e-01]], dtype=float32)"
            ]
          },
          "metadata": {},
          "execution_count": 40
        }
      ]
    },
    {
      "cell_type": "code",
      "source": [
        "# What does the first prediction probability array look like?\n",
        "preds_probs[0], len(preds_probs[0]), sum(preds_probs[0])"
      ],
      "metadata": {
        "colab": {
          "base_uri": "https://localhost:8080/"
        },
        "id": "Y4jItVoA-y-b",
        "outputId": "73b3a48a-0ab7-4e78-e507-7a0d62fd82fa"
      },
      "execution_count": 41,
      "outputs": [
        {
          "output_type": "execute_result",
          "data": {
            "text/plain": [
              "(array([5.7150022e-09, 1.0000000e+00], dtype=float32), 2, 1.0000000057150022)"
            ]
          },
          "metadata": {},
          "execution_count": 41
        }
      ]
    },
    {
      "cell_type": "code",
      "source": [
        "# We get one prediction probability per class(in our case there's 101 prediction probabilities)\n",
        "print(f\"Number of prediction probabilites for sample 0: {len(preds_probs[0])}\")\n",
        "print(f\"What prediction probabilites sample 0 looks like:\\n {preds_probs[0]}\")\n",
        "print(f\"The class with highest predicted probability by the model for sample 0: {preds_probs[0].argmax()}\")\n"
      ],
      "metadata": {
        "colab": {
          "base_uri": "https://localhost:8080/"
        },
        "id": "Fcw_ZtXj-23x",
        "outputId": "17ac31ec-0fe8-4d13-b406-8137cc9d8467"
      },
      "execution_count": 42,
      "outputs": [
        {
          "output_type": "stream",
          "name": "stdout",
          "text": [
            "Number of prediction probabilites for sample 0: 2\n",
            "What prediction probabilites sample 0 looks like:\n",
            " [5.7150022e-09 1.0000000e+00]\n",
            "The class with highest predicted probability by the model for sample 0: 1\n"
          ]
        }
      ]
    },
    {
      "cell_type": "code",
      "source": [
        "# Get the pred classes of each model\n",
        "pred_classes = preds_probs.argmax(axis=1)\n",
        "\n",
        "# How do they look like?\n",
        "pred_classes[:10]"
      ],
      "metadata": {
        "colab": {
          "base_uri": "https://localhost:8080/"
        },
        "id": "BD-626aO-4vD",
        "outputId": "59da7786-6714-402d-bde0-f4b6289ea2cc"
      },
      "execution_count": 43,
      "outputs": [
        {
          "output_type": "execute_result",
          "data": {
            "text/plain": [
              "array([1, 1, 1, 1, 1, 1, 1, 1, 1, 1])"
            ]
          },
          "metadata": {},
          "execution_count": 43
        }
      ]
    },
    {
      "cell_type": "code",
      "source": [
        "# How many pred classes we have?\n",
        "len(pred_classes)"
      ],
      "metadata": {
        "colab": {
          "base_uri": "https://localhost:8080/"
        },
        "id": "g45JYoqs-6he",
        "outputId": "71b5390e-5413-4aed-ad47-81a17f4e8489"
      },
      "execution_count": 44,
      "outputs": [
        {
          "output_type": "execute_result",
          "data": {
            "text/plain": [
              "72"
            ]
          },
          "metadata": {},
          "execution_count": 44
        }
      ]
    },
    {
      "cell_type": "code",
      "source": [
        "# To get our test dataset labels we need to unravel our test_data BatchDataset\n",
        "y_labels = []\n",
        "for images, labels in test_data.unbatch():\n",
        "  y_labels.append(labels.numpy().argmax()) # currently test labels look like: [0, 0, 0, 1,.....0,0], we want the index value where the index value \"1\" occurs\n",
        "y_labels[:10] # look at the first 10 "
      ],
      "metadata": {
        "colab": {
          "base_uri": "https://localhost:8080/"
        },
        "id": "_gptfVEG-8tz",
        "outputId": "4c63606b-e1d2-4133-e567-c12bb5394e27"
      },
      "execution_count": 45,
      "outputs": [
        {
          "output_type": "execute_result",
          "data": {
            "text/plain": [
              "[1, 1, 1, 1, 1, 1, 1, 1, 1, 1]"
            ]
          },
          "metadata": {},
          "execution_count": 45
        }
      ]
    },
    {
      "cell_type": "code",
      "source": [
        "# How many y_labels are there?\n",
        "len(y_labels)"
      ],
      "metadata": {
        "colab": {
          "base_uri": "https://localhost:8080/"
        },
        "id": "3kIVNSrc-_v5",
        "outputId": "88b1e0c6-1963-45e1-a223-59d60d565b23"
      },
      "execution_count": 46,
      "outputs": [
        {
          "output_type": "execute_result",
          "data": {
            "text/plain": [
              "72"
            ]
          },
          "metadata": {},
          "execution_count": 46
        }
      ]
    },
    {
      "cell_type": "code",
      "source": [
        "test_data"
      ],
      "metadata": {
        "colab": {
          "base_uri": "https://localhost:8080/"
        },
        "id": "0g9kgFUN_CEM",
        "outputId": "69f1c7e2-0994-4418-f5cc-61b1f523f55f"
      },
      "execution_count": 47,
      "outputs": [
        {
          "output_type": "execute_result",
          "data": {
            "text/plain": [
              "<BatchDataset element_spec=(TensorSpec(shape=(None, 224, 224, 3), dtype=tf.float32, name=None), TensorSpec(shape=(None, 2), dtype=tf.float32, name=None))>"
            ]
          },
          "metadata": {},
          "execution_count": 47
        }
      ]
    },
    {
      "cell_type": "code",
      "source": [
        "len(test_data)"
      ],
      "metadata": {
        "colab": {
          "base_uri": "https://localhost:8080/"
        },
        "id": "Hl-wOuM8_FEr",
        "outputId": "cbd76dbe-64af-40bf-8c50-20537918fbd3"
      },
      "execution_count": 48,
      "outputs": [
        {
          "output_type": "execute_result",
          "data": {
            "text/plain": [
              "3"
            ]
          },
          "metadata": {},
          "execution_count": 48
        }
      ]
    },
    {
      "cell_type": "markdown",
      "source": [
        "## **27-Make Confusion Matrix**"
      ],
      "metadata": {
        "id": "VpCrTh-a_JP5"
      }
    },
    {
      "cell_type": "code",
      "source": [
        "from helper_functions import make_confusion_matrix"
      ],
      "metadata": {
        "id": "IDW2L-LP_HLp"
      },
      "execution_count": 49,
      "outputs": []
    },
    {
      "cell_type": "code",
      "source": [
        "# Get a list of class names\n",
        "class_names =test_data.class_names\n",
        "class_names[:10]"
      ],
      "metadata": {
        "colab": {
          "base_uri": "https://localhost:8080/"
        },
        "id": "VWDdf_xG_Lgs",
        "outputId": "da2bbdc4-c235-4020-8d39-c395375df625"
      },
      "execution_count": 50,
      "outputs": [
        {
          "output_type": "execute_result",
          "data": {
            "text/plain": [
              "['.ipynb_checkpoints', 'images']"
            ]
          },
          "metadata": {},
          "execution_count": 50
        }
      ]
    },
    {
      "cell_type": "code",
      "source": [
        "import itertools\n",
        "import matplotlib.pyplot as plt\n",
        "import numpy as np\n",
        "from sklearn.metrics import confusion_matrix\n",
        "\n",
        "# We need to make some changes to our make_confusion_matrix function to ensure the x-label print verticaly\n",
        "def make_confusion_matrix(y_true, y_pred, classes=None, figsize=(10, 10), text_size=15, norm=False, savefig=False): \n",
        "  \"\"\"Makes a labelled confusion matrix comparing predictions and ground truth labels.\n",
        "\n",
        "  If classes is passed, confusion matrix will be labelled, if not, integer class values\n",
        "  will be used.\n",
        "\n",
        "  Args:\n",
        "    y_true: Array of truth labels (must be same shape as y_pred).\n",
        "    y_pred: Array of predicted labels (must be same shape as y_true).\n",
        "    classes: Array of class labels (e.g. string form). If `None`, integer labels are used.\n",
        "    figsize: Size of output figure (default=(10, 10)).\n",
        "    text_size: Size of output figure text (default=15).\n",
        "    norm: normalize values or not (default=False).\n",
        "    savefig: save confusion matrix to file (default=False).\n",
        "  \n",
        "  Returns:\n",
        "    A labelled confusion matrix plot comparing y_true and y_pred.\n",
        "\n",
        "  Example usage:\n",
        "    make_confusion_matrix(y_true=test_labels, # ground truth test labels\n",
        "                          y_pred=y_preds, # predicted labels\n",
        "                          classes=class_names, # array of class label names\n",
        "                          figsize=(15, 15),\n",
        "                          text_size=10)\n",
        "  \"\"\"  \n",
        "  # Create the confustion matrix\n",
        "  cm = confusion_matrix(y_true, y_pred)\n",
        "  cm_norm = cm.astype(\"float\") / cm.sum(axis=1)[:, np.newaxis] # normalize it\n",
        "  n_classes = cm.shape[0] # find the number of classes we're dealing with\n",
        "\n",
        "  # Plot the figure and make it pretty\n",
        "  fig, ax = plt.subplots(figsize=figsize)\n",
        "  cax = ax.matshow(cm, cmap=plt.cm.Blues) # colors will represent how 'correct' a class is, darker == better\n",
        "  fig.colorbar(cax)\n",
        "\n",
        "  # Are there a list of classes?\n",
        "  if classes:\n",
        "    labels = classes\n",
        "  else:\n",
        "    labels = np.arange(cm.shape[0])\n",
        "  \n",
        "  # Label the axes\n",
        "  ax.set(title=\"Confusion Matrix\",\n",
        "         xlabel=\"Predicted label\",\n",
        "         ylabel=\"True label\",\n",
        "         xticks=np.arange(n_classes), # create enough axis slots for each class\n",
        "         yticks=np.arange(n_classes), \n",
        "         xticklabels=labels, # axes will labeled with class names (if they exist) or ints\n",
        "         yticklabels=labels)\n",
        "  \n",
        "  # Make x-axis labels appear on bottom\n",
        "  ax.xaxis.set_label_position(\"bottom\")\n",
        "  ax.xaxis.tick_bottom()\n",
        "\n",
        "  ### changes (x-labels vertically) ###\n",
        "  plt.xticks(rotation=70, fontsize=text_size)\n",
        "  plt.yticks(fontsize=text_size)\n",
        "\n",
        "  # Set the threshold for different colors\n",
        "  threshold = (cm.max() + cm.min()) / 2.\n",
        "\n",
        "  # Plot the text on each cell\n",
        "  for i, j in itertools.product(range(cm.shape[0]), range(cm.shape[1])):\n",
        "    if norm:\n",
        "      plt.text(j, i, f\"{cm[i, j]} ({cm_norm[i, j]*100:.1f}%)\",\n",
        "              horizontalalignment=\"center\",\n",
        "              color=\"white\" if cm[i, j] > threshold else \"black\",\n",
        "              size=text_size)\n",
        "    else:\n",
        "      plt.text(j, i, f\"{cm[i, j]}\",\n",
        "              horizontalalignment=\"center\",\n",
        "              color=\"white\" if cm[i, j] > threshold else \"black\",\n",
        "              size=text_size)\n",
        "\n",
        "  # Save the figure to the current working directory\n",
        "  if savefig:\n",
        "    fig.savefig(\"confusion_matrix.png\")"
      ],
      "metadata": {
        "id": "FJgPPfuQ_NO_"
      },
      "execution_count": 51,
      "outputs": []
    },
    {
      "cell_type": "code",
      "source": [
        "make_confusion_matrix(y_true=y_labels,\n",
        "                       y_pred=pred_classes,\n",
        "                       classes=class_names,\n",
        "                      figsize=(10, 10),\n",
        "                      text_size=20,\n",
        "                      savefig=True)"
      ],
      "metadata": {
        "colab": {
          "base_uri": "https://localhost:8080/",
          "height": 734
        },
        "id": "CNVvbUt4_P84",
        "outputId": "0d75196f-b58a-4888-bbca-e372d0e245fe"
      },
      "execution_count": 52,
      "outputs": [
        {
          "output_type": "display_data",
          "data": {
            "text/plain": [
              "<Figure size 720x720 with 2 Axes>"
            ],
            "image/png": "[encoded data removed]"
          },
          "metadata": {
            "needs_background": "light"
          }
        }
      ]
    },
    {
      "cell_type": "markdown",
      "source": [
        "## **28-Make Classification Report**"
      ],
      "metadata": {
        "id": "2QEgbGRPAL95"
      }
    },
    {
      "cell_type": "code",
      "source": [
        "from sklearn.metrics import classification_report\n",
        "print(classification_report(y_true=y_labels,\n",
        "                            y_pred=pred_classes))"
      ],
      "metadata": {
        "colab": {
          "base_uri": "https://localhost:8080/"
        },
        "id": "BcVW8DGY_SYb",
        "outputId": "85ee9268-508f-4aed-9aa7-6541feb1a892"
      },
      "execution_count": 53,
      "outputs": [
        {
          "output_type": "stream",
          "name": "stdout",
          "text": [
            "              precision    recall  f1-score   support\n",
            "\n",
            "           1       1.00      1.00      1.00        72\n",
            "\n",
            "    accuracy                           1.00        72\n",
            "   macro avg       1.00      1.00      1.00        72\n",
            "weighted avg       1.00      1.00      1.00        72\n",
            "\n"
          ]
        }
      ]
    },
    {
      "cell_type": "code",
      "source": [
        "# Get a dictionary of the classification report\n",
        "classification_report_dict = classification_report(y_labels, pred_classes, output_dict=True)\n",
        "classification_report_dict"
      ],
      "metadata": {
        "colab": {
          "base_uri": "https://localhost:8080/"
        },
        "id": "9E675R-MANw5",
        "outputId": "15cc3828-fc78-4b0e-844f-44f947374186"
      },
      "execution_count": 54,
      "outputs": [
        {
          "output_type": "execute_result",
          "data": {
            "text/plain": [
              "{'1': {'f1-score': 1.0, 'precision': 1.0, 'recall': 1.0, 'support': 72},\n",
              " 'accuracy': 1.0,\n",
              " 'macro avg': {'f1-score': 1.0,\n",
              "  'precision': 1.0,\n",
              "  'recall': 1.0,\n",
              "  'support': 72},\n",
              " 'weighted avg': {'f1-score': 1.0,\n",
              "  'precision': 1.0,\n",
              "  'recall': 1.0,\n",
              "  'support': 72}}"
            ]
          },
          "metadata": {},
          "execution_count": 54
        }
      ]
    },
    {
      "cell_type": "code",
      "source": [
        "class_names[1]"
      ],
      "metadata": {
        "colab": {
          "base_uri": "https://localhost:8080/",
          "height": 35
        },
        "id": "G2obGwgDAViK",
        "outputId": "91810f11-fab1-41f5-d4ab-1b3ebafc69ab"
      },
      "execution_count": 56,
      "outputs": [
        {
          "output_type": "execute_result",
          "data": {
            "text/plain": [
              "'images'"
            ],
            "application/vnd.google.colaboratory.intrinsic+json": {
              "type": "string"
            }
          },
          "metadata": {},
          "execution_count": 56
        }
      ]
    },
    {
      "cell_type": "code",
      "source": [
        "classification_report_dict[\"1\"][\"f1-score\"]"
      ],
      "metadata": {
        "colab": {
          "base_uri": "https://localhost:8080/"
        },
        "id": "POk09KDcAY-c",
        "outputId": "07dd233a-595d-412b-bc60-f5e8191149be"
      },
      "execution_count": 58,
      "outputs": [
        {
          "output_type": "execute_result",
          "data": {
            "text/plain": [
              "1.0"
            ]
          },
          "metadata": {},
          "execution_count": 58
        }
      ]
    },
    {
      "cell_type": "code",
      "source": [
        "# Create empty dictionary\n",
        "class_f1_scores = {}\n",
        "# Loop through classification report dictionary items\n",
        "for k, v in classification_report_dict.items():\n",
        "  if k == \"accuracy\": # stop once we get to accuracy key\n",
        "    break\n",
        "  else:\n",
        "     # Add names and f1-scores to new dictionary\n",
        "     class_f1_scores[class_names[int(k)]] = v[\"f1-score\"]\n",
        "class_f1_scores     \n"
      ],
      "metadata": {
        "colab": {
          "base_uri": "https://localhost:8080/"
        },
        "id": "CxAohnLnAaRb",
        "outputId": "d565387e-abdc-4ef4-e573-8e4d2f181cec"
      },
      "execution_count": 59,
      "outputs": [
        {
          "output_type": "execute_result",
          "data": {
            "text/plain": [
              "{'images': 1.0}"
            ]
          },
          "metadata": {},
          "execution_count": 59
        }
      ]
    },
    {
      "cell_type": "code",
      "source": [
        "# Turn f1 scores into Dataframe visualization\n",
        "import pandas as pd\n",
        "f1_scores =pd.DataFrame({\"class_names\": list(class_f1_scores.keys()),\n",
        "                        \"f1-score\": list(class_f1_scores.values())}).sort_values(\"f1-score\", ascending=False)\n",
        "f1_scores                "
      ],
      "metadata": {
        "colab": {
          "base_uri": "https://localhost:8080/",
          "height": 81
        },
        "id": "OhU-1F5RAcJX",
        "outputId": "e226f841-65ec-4699-bfc3-0ff50a265fba"
      },
      "execution_count": 60,
      "outputs": [
        {
          "output_type": "execute_result",
          "data": {
            "text/plain": [
              "  class_names  f1-score\n",
              "0      images       1.0"
            ],
            "text/html": [
              "\n",
              "  <div id=\"df-fdbff063-3a4f-424c-988c-2e9dec94c042\">\n",
              "    <div class=\"colab-df-container\">\n",
              "      <div>\n",
              "<style scoped>\n",
              "    .dataframe tbody tr th:only-of-type {\n",
              "        vertical-align: middle;\n",
              "    }\n",
              "\n",
              "    .dataframe tbody tr th {\n",
              "        vertical-align: top;\n",
              "    }\n",
              "\n",
              "    .dataframe thead th {\n",
              "        text-align: right;\n",
              "    }\n",
              "</style>\n",
              "<table border=\"1\" class=\"dataframe\">\n",
              "  <thead>\n",
              "    <tr style=\"text-align: right;\">\n",
              "      <th></th>\n",
              "      <th>class_names</th>\n",
              "      <th>f1-score</th>\n",
              "    </tr>\n",
              "  </thead>\n",
              "  <tbody>\n",
              "    <tr>\n",
              "      <th>0</th>\n",
              "      <td>images</td>\n",
              "      <td>1.0</td>\n",
              "    </tr>\n",
              "  </tbody>\n",
              "</table>\n",
              "</div>\n",
              "      <button class=\"colab-df-convert\" onclick=\"convertToInteractive('df-fdbff063-3a4f-424c-988c-2e9dec94c042')\"\n",
              "              title=\"Convert this dataframe to an interactive table.\"\n",
              "              style=\"display:none;\">\n",
              "        \n",
              "  <svg xmlns=\"http://www.w3.org/2000/svg\" height=\"24px\"viewBox=\"0 0 24 24\"\n",
              "       width=\"24px\">\n",
              "    <path d=\"M0 0h24v24H0V0z\" fill=\"none\"/>\n",
              "    <path d=\"M18.56 5.44l.94 2.06.94-2.06 2.06-.94-2.06-.94-.94-2.06-.94 2.06-2.06.94zm-11 1L8.5 8.5l.94-2.06 2.06-.94-2.06-.94L8.5 2.5l-.94 2.06-2.06.94zm10 10l.94 2.06.94-2.06 2.06-.94-2.06-.94-.94-2.06-.94 2.06-2.06.94z\"/><path d=\"M17.41 7.96l-1.37-1.37c-.4-.4-.92-.59-1.43-.59-.52 0-1.04.2-1.43.59L10.3 9.45l-7.72 7.72c-.78.78-.78 2.05 0 2.83L4 21.41c.39.39.9.59 1.41.59.51 0 1.02-.2 1.41-.59l7.78-7.78 2.81-2.81c.8-.78.8-2.07 0-2.86zM5.41 20L4 18.59l7.72-7.72 1.47 1.35L5.41 20z\"/>\n",
              "  </svg>\n",
              "      </button>\n",
              "      \n",
              "  <style>\n",
              "    .colab-df-container {\n",
              "      display:flex;\n",
              "      flex-wrap:wrap;\n",
              "      gap: 12px;\n",
              "    }\n",
              "\n",
              "    .colab-df-convert {\n",
              "      background-color: #E8F0FE;\n",
              "      border: none;\n",
              "      border-radius: 50%;\n",
              "      cursor: pointer;\n",
              "      display: none;\n",
              "      fill: #1967D2;\n",
              "      height: 32px;\n",
              "      padding: 0 0 0 0;\n",
              "      width: 32px;\n",
              "    }\n",
              "\n",
              "    .colab-df-convert:hover {\n",
              "      background-color: #E2EBFA;\n",
              "      box-shadow: 0px 1px 2px rgba(60, 64, 67, 0.3), 0px 1px 3px 1px rgba(60, 64, 67, 0.15);\n",
              "      fill: #174EA6;\n",
              "    }\n",
              "\n",
              "    [theme=dark] .colab-df-convert {\n",
              "      background-color: #3B4455;\n",
              "      fill: #D2E3FC;\n",
              "    }\n",
              "\n",
              "    [theme=dark] .colab-df-convert:hover {\n",
              "      background-color: #434B5C;\n",
              "      box-shadow: 0px 1px 3px 1px rgba(0, 0, 0, 0.15);\n",
              "      filter: drop-shadow(0px 1px 2px rgba(0, 0, 0, 0.3));\n",
              "      fill: #FFFFFF;\n",
              "    }\n",
              "  </style>\n",
              "\n",
              "      <script>\n",
              "        const buttonEl =\n",
              "          document.querySelector('#df-fdbff063-3a4f-424c-988c-2e9dec94c042 button.colab-df-convert');\n",
              "        buttonEl.style.display =\n",
              "          google.colab.kernel.accessAllowed ? 'block' : 'none';\n",
              "\n",
              "        async function convertToInteractive(key) {\n",
              "          const element = document.querySelector('#df-fdbff063-3a4f-424c-988c-2e9dec94c042');\n",
              "          const dataTable =\n",
              "            await google.colab.kernel.invokeFunction('convertToInteractive',\n",
              "                                                     [key], {});\n",
              "          if (!dataTable) return;\n",
              "\n",
              "          const docLinkHtml = 'Like what you see? Visit the ' +\n",
              "            '<a target=\"_blank\" href=https://colab.research.google.com/notebooks/data_table.ipynb>data table notebook</a>'\n",
              "            + ' to learn more about interactive tables.';\n",
              "          element.innerHTML = '';\n",
              "          dataTable['output_type'] = 'display_data';\n",
              "          await google.colab.output.renderOutput(dataTable, element);\n",
              "          const docLink = document.createElement('div');\n",
              "          docLink.innerHTML = docLinkHtml;\n",
              "          element.appendChild(docLink);\n",
              "        }\n",
              "      </script>\n",
              "    </div>\n",
              "  </div>\n",
              "  "
            ]
          },
          "metadata": {},
          "execution_count": 60
        }
      ]
    },
    {
      "cell_type": "code",
      "source": [
        "f1_scores[:2]"
      ],
      "metadata": {
        "colab": {
          "base_uri": "https://localhost:8080/",
          "height": 81
        },
        "id": "oHS77qEXAegq",
        "outputId": "616d9071-466e-4fb9-ba05-50b0217feb65"
      },
      "execution_count": 61,
      "outputs": [
        {
          "output_type": "execute_result",
          "data": {
            "text/plain": [
              "  class_names  f1-score\n",
              "0      images       1.0"
            ],
            "text/html": [
              "\n",
              "  <div id=\"df-3ce963aa-c367-4631-a421-d618df77e60e\">\n",
              "    <div class=\"colab-df-container\">\n",
              "      <div>\n",
              "<style scoped>\n",
              "    .dataframe tbody tr th:only-of-type {\n",
              "        vertical-align: middle;\n",
              "    }\n",
              "\n",
              "    .dataframe tbody tr th {\n",
              "        vertical-align: top;\n",
              "    }\n",
              "\n",
              "    .dataframe thead th {\n",
              "        text-align: right;\n",
              "    }\n",
              "</style>\n",
              "<table border=\"1\" class=\"dataframe\">\n",
              "  <thead>\n",
              "    <tr style=\"text-align: right;\">\n",
              "      <th></th>\n",
              "      <th>class_names</th>\n",
              "      <th>f1-score</th>\n",
              "    </tr>\n",
              "  </thead>\n",
              "  <tbody>\n",
              "    <tr>\n",
              "      <th>0</th>\n",
              "      <td>images</td>\n",
              "      <td>1.0</td>\n",
              "    </tr>\n",
              "  </tbody>\n",
              "</table>\n",
              "</div>\n",
              "      <button class=\"colab-df-convert\" onclick=\"convertToInteractive('df-3ce963aa-c367-4631-a421-d618df77e60e')\"\n",
              "              title=\"Convert this dataframe to an interactive table.\"\n",
              "              style=\"display:none;\">\n",
              "        \n",
              "  <svg xmlns=\"http://www.w3.org/2000/svg\" height=\"24px\"viewBox=\"0 0 24 24\"\n",
              "       width=\"24px\">\n",
              "    <path d=\"M0 0h24v24H0V0z\" fill=\"none\"/>\n",
              "    <path d=\"M18.56 5.44l.94 2.06.94-2.06 2.06-.94-2.06-.94-.94-2.06-.94 2.06-2.06.94zm-11 1L8.5 8.5l.94-2.06 2.06-.94-2.06-.94L8.5 2.5l-.94 2.06-2.06.94zm10 10l.94 2.06.94-2.06 2.06-.94-2.06-.94-.94-2.06-.94 2.06-2.06.94z\"/><path d=\"M17.41 7.96l-1.37-1.37c-.4-.4-.92-.59-1.43-.59-.52 0-1.04.2-1.43.59L10.3 9.45l-7.72 7.72c-.78.78-.78 2.05 0 2.83L4 21.41c.39.39.9.59 1.41.59.51 0 1.02-.2 1.41-.59l7.78-7.78 2.81-2.81c.8-.78.8-2.07 0-2.86zM5.41 20L4 18.59l7.72-7.72 1.47 1.35L5.41 20z\"/>\n",
              "  </svg>\n",
              "      </button>\n",
              "      \n",
              "  <style>\n",
              "    .colab-df-container {\n",
              "      display:flex;\n",
              "      flex-wrap:wrap;\n",
              "      gap: 12px;\n",
              "    }\n",
              "\n",
              "    .colab-df-convert {\n",
              "      background-color: #E8F0FE;\n",
              "      border: none;\n",
              "      border-radius: 50%;\n",
              "      cursor: pointer;\n",
              "      display: none;\n",
              "      fill: #1967D2;\n",
              "      height: 32px;\n",
              "      padding: 0 0 0 0;\n",
              "      width: 32px;\n",
              "    }\n",
              "\n",
              "    .colab-df-convert:hover {\n",
              "      background-color: #E2EBFA;\n",
              "      box-shadow: 0px 1px 2px rgba(60, 64, 67, 0.3), 0px 1px 3px 1px rgba(60, 64, 67, 0.15);\n",
              "      fill: #174EA6;\n",
              "    }\n",
              "\n",
              "    [theme=dark] .colab-df-convert {\n",
              "      background-color: #3B4455;\n",
              "      fill: #D2E3FC;\n",
              "    }\n",
              "\n",
              "    [theme=dark] .colab-df-convert:hover {\n",
              "      background-color: #434B5C;\n",
              "      box-shadow: 0px 1px 3px 1px rgba(0, 0, 0, 0.15);\n",
              "      filter: drop-shadow(0px 1px 2px rgba(0, 0, 0, 0.3));\n",
              "      fill: #FFFFFF;\n",
              "    }\n",
              "  </style>\n",
              "\n",
              "      <script>\n",
              "        const buttonEl =\n",
              "          document.querySelector('#df-3ce963aa-c367-4631-a421-d618df77e60e button.colab-df-convert');\n",
              "        buttonEl.style.display =\n",
              "          google.colab.kernel.accessAllowed ? 'block' : 'none';\n",
              "\n",
              "        async function convertToInteractive(key) {\n",
              "          const element = document.querySelector('#df-3ce963aa-c367-4631-a421-d618df77e60e');\n",
              "          const dataTable =\n",
              "            await google.colab.kernel.invokeFunction('convertToInteractive',\n",
              "                                                     [key], {});\n",
              "          if (!dataTable) return;\n",
              "\n",
              "          const docLinkHtml = 'Like what you see? Visit the ' +\n",
              "            '<a target=\"_blank\" href=https://colab.research.google.com/notebooks/data_table.ipynb>data table notebook</a>'\n",
              "            + ' to learn more about interactive tables.';\n",
              "          element.innerHTML = '';\n",
              "          dataTable['output_type'] = 'display_data';\n",
              "          await google.colab.output.renderOutput(dataTable, element);\n",
              "          const docLink = document.createElement('div');\n",
              "          docLink.innerHTML = docLinkHtml;\n",
              "          element.appendChild(docLink);\n",
              "        }\n",
              "      </script>\n",
              "    </div>\n",
              "  </div>\n",
              "  "
            ]
          },
          "metadata": {},
          "execution_count": 61
        }
      ]
    },
    {
      "cell_type": "code",
      "source": [
        "import matplotlib.pyplot as plt\n",
        "\n",
        "\n",
        "import matplotlib.pyplot as plt\n",
        "\n",
        "fig, ax = plt.subplots(figsize=(5, 5))\n",
        "scores = ax.barh(range(len(f1_scores)), f1_scores[\"f1-score\"].values) # get f1-score value\n",
        "ax.set_yticks(range(len(f1_scores)))\n",
        "ax.set_yticklabels(f1_scores[\"class_names\"])\n",
        "ax.set_xlabel(\"F1-score\")\n",
        "ax.set_title(\"F1 score for 101 Different Food Classes (predicted by food vision mini)\")\n",
        "ax.invert_yaxis(); # reverse the order of our plot\n",
        "\n",
        "\n",
        "# Challenge: add value to the end of each bar of what the actual f1-score is \n",
        "# (hint: use the \"autolabel\" function from here: https://matplotlib.org/2.0.2/examples/api/barchart_demo.html) "
      ],
      "metadata": {
        "colab": {
          "base_uri": "https://localhost:8080/",
          "height": 350
        },
        "id": "rAiYHfdmAhB6",
        "outputId": "4d119594-1c2c-4aed-e29b-8e5ac21b6457"
      },
      "execution_count": 62,
      "outputs": [
        {
          "output_type": "display_data",
          "data": {
            "text/plain": [
              "<Figure size 360x360 with 1 Axes>"
            ],
            "image/png": "[encoded data removed]"
          },
          "metadata": {
            "needs_background": "light"
          }
        }
      ]
    },
    {
      "cell_type": "markdown",
      "source": [
        "## **29-Load and Prepare Images Function**"
      ],
      "metadata": {
        "id": "1UTCKXdrAmbm"
      }
    },
    {
      "cell_type": "code",
      "source": [
        "# Create a function to load and create a images\n",
        "def load_and_prep_image(filename, img_shape=224, scale=True):\n",
        "  \"\"\"\n",
        "  Read in an image from filename, turn it into a tensor and reshapes into\n",
        "  specified shape (img_shape, img_shape, color_channels=3).\n",
        "\n",
        "  Args:\n",
        "    filename(str): path to target image\n",
        "    image_shape(int): height/width dimension of target image size\n",
        "    scale(bool): scale pixel values from 0-255 to 0-1 or not\n",
        "\n",
        "  Returns:\n",
        "    image tensor of shape (img_shape, img_shape, 3)\n",
        "  \"\"\"\n",
        "\n",
        "  # Read in the image\n",
        "  img = tf.io.read_file(filename)\n",
        "\n",
        "  # Decode image into tensor\n",
        "  img = tf.io.decode_image(img, channels=3) \n",
        "\n",
        "  # Resize the image\n",
        "  img = tf.image.resize(img, [img_shape, img_shape])\n",
        "\n",
        "  # Scale Yes/no?\n",
        "  if scale:\n",
        "    # reshape the image (get all value between 0 and 1)\n",
        "    return img/255.\n",
        "  else:\n",
        "    return img # don't need to rescale image for EffiecienNet model in TensorFlow   \n"
      ],
      "metadata": {
        "id": "qfHN1NCeAjEs"
      },
      "execution_count": 63,
      "outputs": []
    },
    {
      "cell_type": "code",
      "source": [
        "# # Make preds on series of images\n",
        "# import os\n",
        "# import random\n",
        "\n",
        "# plt.figure(figsize=(27,20))\n",
        "# for i in range(3):\n",
        "#   # Choose a random image(s) from a random class(es)\n",
        "#   class_name =random.choice(class_names)\n",
        "#   filename = random.choice(os.listdir(val_dir + \"/\" + class_name))\n",
        "#   filepath = val_dir + class_name + \"/\" + filename\n",
        "\n",
        "\n",
        "#   # Load the image and make predictions\n",
        "#   img = load_and_prep_image(filepath, scale=False)\n",
        "#   # print(img.shape)\n",
        "#   img_expanded = tf.expand_dims(img, axis=0)\n",
        "#   # print(img_expanded.shape)\n",
        "#   pred_prob = model.predict(img_expanded) # get prediction probability array\n",
        "#   pred_class = class_names[pred_prob.argmax()] # get heighst prediction probability index and match it class_names list\n",
        "#   # print(pred_prob)\n",
        "#    # print(pred_class)\n",
        "\n",
        "#     # Plot the image(s)\n",
        "#   plt.subplot(1, 3, i+1)\n",
        "#   plt.imshow(img/255.)\n",
        "#   if class_name == pred_class: # if predicted class matches truth class, make text green\n",
        "#     title_color = \"g\"\n",
        "#   else:\n",
        "#     title_color =\"r\"\n",
        "#   plt.title(f\"actual: {class_name}, pred: {pred_class}, prob: {pred_prob.argmax():.2f}\", c=title_color)\n",
        "#   plt.axis(False);  "
      ],
      "metadata": {
        "id": "pUOpRiMcAomR"
      },
      "execution_count": 69,
      "outputs": []
    },
    {
      "cell_type": "code",
      "source": [
        ""
      ],
      "metadata": {
        "id": "c4CZisGUCqvt"
      },
      "execution_count": null,
      "outputs": []
    }
  ]
}