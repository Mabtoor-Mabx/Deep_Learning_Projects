{
  "nbformat": 4,
  "nbformat_minor": 0,
  "metadata": {
    "colab": {
      "name": "NLP(Natural_Language_Processing)_in_Tensorflow.ipynb",
      "provenance": []
    },
    "kernelspec": {
      "name": "python3",
      "display_name": "Python 3"
    },
    "language_info": {
      "name": "python"
    },
    "accelerator": "GPU"
  },
  "cells": [
    {
      "cell_type": "code",
      "execution_count": 1,
      "metadata": {
        "id": "HTvPNve4xJe1"
      },
      "outputs": [],
      "source": [
        "import tensorflow as tf\n",
        "import numpy as np\n",
        "import pandas as pd\n",
        "import matplotlib.pyplot as plt\n",
        "import seaborn as sns"
      ]
    },
    {
      "cell_type": "markdown",
      "source": [
        "## **NLU(Natural Language Understanding)**\n",
        "\n",
        "### **Search OpenAI GPT3**\n",
        "\n",
        "### **Other Sequence Problems**\n",
        "\n",
        "**One To Many (One Input  & Output is in Sequence)**\n",
        "\n",
        "**Many to One (Time Series Forecasting)**\n",
        "\n",
        "**Many to Many (Unsynchronized) [Google Translate]**\n",
        "\n",
        "**Many to Many (Synchronized)**\n",
        "\n",
        "## **What We Are Going To Cover**\n",
        "\n",
        "**Downloading & Preparing Text Dataset**\n",
        "\n",
        "**Prepare Data text for Modelling**\n",
        "\n",
        "**Setting Up Multiple Modeelling Using Recurrent Neural Network (RNN)**\n",
        "\n",
        "**Find Most Wrong Prediction Examples**\n",
        "\n",
        "**Using Model What We've Built to make Predictions on text from the wild**\n",
        "\n",
        "## **NLP Inputs and Outputs**\n",
        "\n",
        "**Text--NumericalEncoding--Inputs--M.L Algorithm--Outputs -- Predicted Outputs**\n",
        "\n",
        "**Text--Outputs**\n",
        "\n",
        "## **Recurrent Neural Network**\n",
        "\n",
        " ## **Architecture Of RNN**\n",
        "\n",
        "**Input Layer**\n",
        "\n",
        "**Text Vectorization Layer(Makes Inputs Sequences in Numbers)**\n",
        "\n",
        "**Embedding (Turn Mapping Text  into Embedding Matrix)**\n",
        "\n",
        "**RNN Cell (Return Vector for Whole Sequence)**\n",
        "\n",
        "**Fully Connected Layer**\n",
        "\n",
        "**Output layer**\n",
        "\n",
        "**Pooling Layer (Reduced The Dimensionally Of Learned Sequence Features)**\n",
        "\n",
        "**Output Activations**\n",
        "\n",
        "## **NLP**\n",
        "\n",
        "**NLP Has a Goal of Deriving Information out of Natural Language (Could be Sequences of text or Speech). Another Common Term for NLP Problem is Sequence to Sequence (Seq 2 Seq)**"
      ],
      "metadata": {
        "id": "XuzU9mzdx7sr"
      }
    },
    {
      "cell_type": "code",
      "source": [
        "# Get Helper Function\n",
        "\n",
        "!wget https://raw.githubusercontent.com/mrdbourke/tensorflow-deep-learning/main/extras/helper_functions.py"
      ],
      "metadata": {
        "colab": {
          "base_uri": "https://localhost:8080/"
        },
        "id": "JS5vqPsLx3bf",
        "outputId": "375eae64-9bb3-4dc0-96f0-9a9a9c3aa925"
      },
      "execution_count": 2,
      "outputs": [
        {
          "output_type": "stream",
          "name": "stdout",
          "text": [
            "--2022-04-16 19:08:10--  https://raw.githubusercontent.com/mrdbourke/tensorflow-deep-learning/main/extras/helper_functions.py\n",
            "Resolving raw.githubusercontent.com (raw.githubusercontent.com)... 185.199.111.133, 185.199.109.133, 185.199.108.133, ...\n",
            "Connecting to raw.githubusercontent.com (raw.githubusercontent.com)|185.199.111.133|:443... connected.\n",
            "HTTP request sent, awaiting response... 200 OK\n",
            "Length: 10246 (10K) [text/plain]\n",
            "Saving to: ‘helper_functions.py’\n",
            "\n",
            "helper_functions.py 100%[===================>]  10.01K  --.-KB/s    in 0s      \n",
            "\n",
            "2022-04-16 19:08:10 (48.0 MB/s) - ‘helper_functions.py’ saved [10246/10246]\n",
            "\n"
          ]
        }
      ]
    },
    {
      "cell_type": "markdown",
      "source": [
        "## **Import Seies Of Helper Function from Helper.py**"
      ],
      "metadata": {
        "id": "c6Ew0VrJ2s3q"
      }
    },
    {
      "cell_type": "code",
      "source": [
        "from helper_functions import unzip_data, create_tensorboard_callback, plot_loss_curves, pred_and_plot, compare_historys"
      ],
      "metadata": {
        "id": "53AlCxLa2Ow7"
      },
      "execution_count": 3,
      "outputs": []
    },
    {
      "cell_type": "markdown",
      "source": [
        "## **Get Text Dataset**\n",
        "\n",
        "**The Dataset You are Going to Be Used is Kaggle NLP Dataset (Text Samples of Tweets as Disaster or Not)**"
      ],
      "metadata": {
        "id": "LICzmhMd3OO5"
      }
    },
    {
      "cell_type": "code",
      "source": [
        "!wget https://storage.googleapis.com/ztm_tf_course/nlp_getting_started.zip\n",
        "\n",
        "#Unzip Data\n",
        "\n",
        "unzip_data('nlp_getting_started.zip')"
      ],
      "metadata": {
        "colab": {
          "base_uri": "https://localhost:8080/"
        },
        "id": "5y-Z8QlU3HrU",
        "outputId": "b9e0a882-0927-4c1d-88a4-2e849eeb9ad6"
      },
      "execution_count": 4,
      "outputs": [
        {
          "output_type": "stream",
          "name": "stdout",
          "text": [
            "--2022-04-16 19:08:10--  https://storage.googleapis.com/ztm_tf_course/nlp_getting_started.zip\n",
            "Resolving storage.googleapis.com (storage.googleapis.com)... 74.125.204.128, 64.233.189.128, 108.177.97.128, ...\n",
            "Connecting to storage.googleapis.com (storage.googleapis.com)|74.125.204.128|:443... connected.\n",
            "HTTP request sent, awaiting response... 200 OK\n",
            "Length: 607343 (593K) [application/zip]\n",
            "Saving to: ‘nlp_getting_started.zip’\n",
            "\n",
            "\rnlp_getting_started   0%[                    ]       0  --.-KB/s               \rnlp_getting_started 100%[===================>] 593.11K  --.-KB/s    in 0.009s  \n",
            "\n",
            "2022-04-16 19:08:10 (67.2 MB/s) - ‘nlp_getting_started.zip’ saved [607343/607343]\n",
            "\n"
          ]
        }
      ]
    },
    {
      "cell_type": "markdown",
      "source": [
        "## **Becoming One With Data**\n",
        "\n",
        "**To Visualize our Text Samples , We First Have to Read them, one way to do so with python. But I Prefer to read in Straight way . So, Another Way to do so with pandas**\n"
      ],
      "metadata": {
        "id": "eGN_2kTG4HmQ"
      }
    },
    {
      "cell_type": "code",
      "source": [
        "import pandas as pd\n",
        "train_df = pd.read_csv('train.csv')\n",
        "test_df = pd.read_csv('test.csv')\n",
        "train_df.head()"
      ],
      "metadata": {
        "colab": {
          "base_uri": "https://localhost:8080/",
          "height": 206
        },
        "id": "-BLMOloo4F9Z",
        "outputId": "ee82e458-72b0-41b9-ecd8-29ffc52dc286"
      },
      "execution_count": 5,
      "outputs": [
        {
          "output_type": "execute_result",
          "data": {
            "text/plain": [
              "   id keyword location                                               text  \\\n",
              "0   1     NaN      NaN  Our Deeds are the Reason of this #earthquake M...   \n",
              "1   4     NaN      NaN             Forest fire near La Ronge Sask. Canada   \n",
              "2   5     NaN      NaN  All residents asked to 'shelter in place' are ...   \n",
              "3   6     NaN      NaN  13,000 people receive #wildfires evacuation or...   \n",
              "4   7     NaN      NaN  Just got sent this photo from Ruby #Alaska as ...   \n",
              "\n",
              "   target  \n",
              "0       1  \n",
              "1       1  \n",
              "2       1  \n",
              "3       1  \n",
              "4       1  "
            ],
            "text/html": [
              "\n",
              "  <div id=\"df-bf6ba80c-5b04-43e7-86c7-c6e2377fdbfb\">\n",
              "    <div class=\"colab-df-container\">\n",
              "      <div>\n",
              "<style scoped>\n",
              "    .dataframe tbody tr th:only-of-type {\n",
              "        vertical-align: middle;\n",
              "    }\n",
              "\n",
              "    .dataframe tbody tr th {\n",
              "        vertical-align: top;\n",
              "    }\n",
              "\n",
              "    .dataframe thead th {\n",
              "        text-align: right;\n",
              "    }\n",
              "</style>\n",
              "<table border=\"1\" class=\"dataframe\">\n",
              "  <thead>\n",
              "    <tr style=\"text-align: right;\">\n",
              "      <th></th>\n",
              "      <th>id</th>\n",
              "      <th>keyword</th>\n",
              "      <th>location</th>\n",
              "      <th>text</th>\n",
              "      <th>target</th>\n",
              "    </tr>\n",
              "  </thead>\n",
              "  <tbody>\n",
              "    <tr>\n",
              "      <th>0</th>\n",
              "      <td>1</td>\n",
              "      <td>NaN</td>\n",
              "      <td>NaN</td>\n",
              "      <td>Our Deeds are the Reason of this #earthquake M...</td>\n",
              "      <td>1</td>\n",
              "    </tr>\n",
              "    <tr>\n",
              "      <th>1</th>\n",
              "      <td>4</td>\n",
              "      <td>NaN</td>\n",
              "      <td>NaN</td>\n",
              "      <td>Forest fire near La Ronge Sask. Canada</td>\n",
              "      <td>1</td>\n",
              "    </tr>\n",
              "    <tr>\n",
              "      <th>2</th>\n",
              "      <td>5</td>\n",
              "      <td>NaN</td>\n",
              "      <td>NaN</td>\n",
              "      <td>All residents asked to 'shelter in place' are ...</td>\n",
              "      <td>1</td>\n",
              "    </tr>\n",
              "    <tr>\n",
              "      <th>3</th>\n",
              "      <td>6</td>\n",
              "      <td>NaN</td>\n",
              "      <td>NaN</td>\n",
              "      <td>13,000 people receive #wildfires evacuation or...</td>\n",
              "      <td>1</td>\n",
              "    </tr>\n",
              "    <tr>\n",
              "      <th>4</th>\n",
              "      <td>7</td>\n",
              "      <td>NaN</td>\n",
              "      <td>NaN</td>\n",
              "      <td>Just got sent this photo from Ruby #Alaska as ...</td>\n",
              "      <td>1</td>\n",
              "    </tr>\n",
              "  </tbody>\n",
              "</table>\n",
              "</div>\n",
              "      <button class=\"colab-df-convert\" onclick=\"convertToInteractive('df-bf6ba80c-5b04-43e7-86c7-c6e2377fdbfb')\"\n",
              "              title=\"Convert this dataframe to an interactive table.\"\n",
              "              style=\"display:none;\">\n",
              "        \n",
              "  <svg xmlns=\"http://www.w3.org/2000/svg\" height=\"24px\"viewBox=\"0 0 24 24\"\n",
              "       width=\"24px\">\n",
              "    <path d=\"M0 0h24v24H0V0z\" fill=\"none\"/>\n",
              "    <path d=\"M18.56 5.44l.94 2.06.94-2.06 2.06-.94-2.06-.94-.94-2.06-.94 2.06-2.06.94zm-11 1L8.5 8.5l.94-2.06 2.06-.94-2.06-.94L8.5 2.5l-.94 2.06-2.06.94zm10 10l.94 2.06.94-2.06 2.06-.94-2.06-.94-.94-2.06-.94 2.06-2.06.94z\"/><path d=\"M17.41 7.96l-1.37-1.37c-.4-.4-.92-.59-1.43-.59-.52 0-1.04.2-1.43.59L10.3 9.45l-7.72 7.72c-.78.78-.78 2.05 0 2.83L4 21.41c.39.39.9.59 1.41.59.51 0 1.02-.2 1.41-.59l7.78-7.78 2.81-2.81c.8-.78.8-2.07 0-2.86zM5.41 20L4 18.59l7.72-7.72 1.47 1.35L5.41 20z\"/>\n",
              "  </svg>\n",
              "      </button>\n",
              "      \n",
              "  <style>\n",
              "    .colab-df-container {\n",
              "      display:flex;\n",
              "      flex-wrap:wrap;\n",
              "      gap: 12px;\n",
              "    }\n",
              "\n",
              "    .colab-df-convert {\n",
              "      background-color: #E8F0FE;\n",
              "      border: none;\n",
              "      border-radius: 50%;\n",
              "      cursor: pointer;\n",
              "      display: none;\n",
              "      fill: #1967D2;\n",
              "      height: 32px;\n",
              "      padding: 0 0 0 0;\n",
              "      width: 32px;\n",
              "    }\n",
              "\n",
              "    .colab-df-convert:hover {\n",
              "      background-color: #E2EBFA;\n",
              "      box-shadow: 0px 1px 2px rgba(60, 64, 67, 0.3), 0px 1px 3px 1px rgba(60, 64, 67, 0.15);\n",
              "      fill: #174EA6;\n",
              "    }\n",
              "\n",
              "    [theme=dark] .colab-df-convert {\n",
              "      background-color: #3B4455;\n",
              "      fill: #D2E3FC;\n",
              "    }\n",
              "\n",
              "    [theme=dark] .colab-df-convert:hover {\n",
              "      background-color: #434B5C;\n",
              "      box-shadow: 0px 1px 3px 1px rgba(0, 0, 0, 0.15);\n",
              "      filter: drop-shadow(0px 1px 2px rgba(0, 0, 0, 0.3));\n",
              "      fill: #FFFFFF;\n",
              "    }\n",
              "  </style>\n",
              "\n",
              "      <script>\n",
              "        const buttonEl =\n",
              "          document.querySelector('#df-bf6ba80c-5b04-43e7-86c7-c6e2377fdbfb button.colab-df-convert');\n",
              "        buttonEl.style.display =\n",
              "          google.colab.kernel.accessAllowed ? 'block' : 'none';\n",
              "\n",
              "        async function convertToInteractive(key) {\n",
              "          const element = document.querySelector('#df-bf6ba80c-5b04-43e7-86c7-c6e2377fdbfb');\n",
              "          const dataTable =\n",
              "            await google.colab.kernel.invokeFunction('convertToInteractive',\n",
              "                                                     [key], {});\n",
              "          if (!dataTable) return;\n",
              "\n",
              "          const docLinkHtml = 'Like what you see? Visit the ' +\n",
              "            '<a target=\"_blank\" href=https://colab.research.google.com/notebooks/data_table.ipynb>data table notebook</a>'\n",
              "            + ' to learn more about interactive tables.';\n",
              "          element.innerHTML = '';\n",
              "          dataTable['output_type'] = 'display_data';\n",
              "          await google.colab.output.renderOutput(dataTable, element);\n",
              "          const docLink = document.createElement('div');\n",
              "          docLink.innerHTML = docLinkHtml;\n",
              "          element.appendChild(docLink);\n",
              "        }\n",
              "      </script>\n",
              "    </div>\n",
              "  </div>\n",
              "  "
            ]
          },
          "metadata": {},
          "execution_count": 5
        }
      ]
    },
    {
      "cell_type": "markdown",
      "source": [
        "### **Shuffling Training Dataframe**"
      ],
      "metadata": {
        "id": "2g__pxqq46l0"
      }
    },
    {
      "cell_type": "code",
      "source": [
        "train_df_shuffled = train_df.sample(frac=1, random_state=42)\n",
        "\n",
        "train_df_shuffled.head()"
      ],
      "metadata": {
        "colab": {
          "base_uri": "https://localhost:8080/",
          "height": 206
        },
        "id": "1zmWtf6844R8",
        "outputId": "59d355ed-1d40-481d-dbce-7a7906e65278"
      },
      "execution_count": 6,
      "outputs": [
        {
          "output_type": "execute_result",
          "data": {
            "text/plain": [
              "        id      keyword               location  \\\n",
              "2644  3796  destruction                    NaN   \n",
              "2227  3185       deluge                    NaN   \n",
              "5448  7769       police                     UK   \n",
              "132    191   aftershock                    NaN   \n",
              "6845  9810       trauma  Montgomery County, MD   \n",
              "\n",
              "                                                   text  target  \n",
              "2644  So you have a new weapon that can cause un-ima...       1  \n",
              "2227  The f$&amp;@ing things I do for #GISHWHES Just...       0  \n",
              "5448  DT @georgegalloway: RT @Galloway4Mayor: ÛÏThe...       1  \n",
              "132   Aftershock back to school kick off was great. ...       0  \n",
              "6845  in response to trauma Children of Addicts deve...       0  "
            ],
            "text/html": [
              "\n",
              "  <div id=\"df-539eaa53-2984-47ce-b5e9-dcbf93d8b462\">\n",
              "    <div class=\"colab-df-container\">\n",
              "      <div>\n",
              "<style scoped>\n",
              "    .dataframe tbody tr th:only-of-type {\n",
              "        vertical-align: middle;\n",
              "    }\n",
              "\n",
              "    .dataframe tbody tr th {\n",
              "        vertical-align: top;\n",
              "    }\n",
              "\n",
              "    .dataframe thead th {\n",
              "        text-align: right;\n",
              "    }\n",
              "</style>\n",
              "<table border=\"1\" class=\"dataframe\">\n",
              "  <thead>\n",
              "    <tr style=\"text-align: right;\">\n",
              "      <th></th>\n",
              "      <th>id</th>\n",
              "      <th>keyword</th>\n",
              "      <th>location</th>\n",
              "      <th>text</th>\n",
              "      <th>target</th>\n",
              "    </tr>\n",
              "  </thead>\n",
              "  <tbody>\n",
              "    <tr>\n",
              "      <th>2644</th>\n",
              "      <td>3796</td>\n",
              "      <td>destruction</td>\n",
              "      <td>NaN</td>\n",
              "      <td>So you have a new weapon that can cause un-ima...</td>\n",
              "      <td>1</td>\n",
              "    </tr>\n",
              "    <tr>\n",
              "      <th>2227</th>\n",
              "      <td>3185</td>\n",
              "      <td>deluge</td>\n",
              "      <td>NaN</td>\n",
              "      <td>The f$&amp;amp;@ing things I do for #GISHWHES Just...</td>\n",
              "      <td>0</td>\n",
              "    </tr>\n",
              "    <tr>\n",
              "      <th>5448</th>\n",
              "      <td>7769</td>\n",
              "      <td>police</td>\n",
              "      <td>UK</td>\n",
              "      <td>DT @georgegalloway: RT @Galloway4Mayor: ÛÏThe...</td>\n",
              "      <td>1</td>\n",
              "    </tr>\n",
              "    <tr>\n",
              "      <th>132</th>\n",
              "      <td>191</td>\n",
              "      <td>aftershock</td>\n",
              "      <td>NaN</td>\n",
              "      <td>Aftershock back to school kick off was great. ...</td>\n",
              "      <td>0</td>\n",
              "    </tr>\n",
              "    <tr>\n",
              "      <th>6845</th>\n",
              "      <td>9810</td>\n",
              "      <td>trauma</td>\n",
              "      <td>Montgomery County, MD</td>\n",
              "      <td>in response to trauma Children of Addicts deve...</td>\n",
              "      <td>0</td>\n",
              "    </tr>\n",
              "  </tbody>\n",
              "</table>\n",
              "</div>\n",
              "      <button class=\"colab-df-convert\" onclick=\"convertToInteractive('df-539eaa53-2984-47ce-b5e9-dcbf93d8b462')\"\n",
              "              title=\"Convert this dataframe to an interactive table.\"\n",
              "              style=\"display:none;\">\n",
              "        \n",
              "  <svg xmlns=\"http://www.w3.org/2000/svg\" height=\"24px\"viewBox=\"0 0 24 24\"\n",
              "       width=\"24px\">\n",
              "    <path d=\"M0 0h24v24H0V0z\" fill=\"none\"/>\n",
              "    <path d=\"M18.56 5.44l.94 2.06.94-2.06 2.06-.94-2.06-.94-.94-2.06-.94 2.06-2.06.94zm-11 1L8.5 8.5l.94-2.06 2.06-.94-2.06-.94L8.5 2.5l-.94 2.06-2.06.94zm10 10l.94 2.06.94-2.06 2.06-.94-2.06-.94-.94-2.06-.94 2.06-2.06.94z\"/><path d=\"M17.41 7.96l-1.37-1.37c-.4-.4-.92-.59-1.43-.59-.52 0-1.04.2-1.43.59L10.3 9.45l-7.72 7.72c-.78.78-.78 2.05 0 2.83L4 21.41c.39.39.9.59 1.41.59.51 0 1.02-.2 1.41-.59l7.78-7.78 2.81-2.81c.8-.78.8-2.07 0-2.86zM5.41 20L4 18.59l7.72-7.72 1.47 1.35L5.41 20z\"/>\n",
              "  </svg>\n",
              "      </button>\n",
              "      \n",
              "  <style>\n",
              "    .colab-df-container {\n",
              "      display:flex;\n",
              "      flex-wrap:wrap;\n",
              "      gap: 12px;\n",
              "    }\n",
              "\n",
              "    .colab-df-convert {\n",
              "      background-color: #E8F0FE;\n",
              "      border: none;\n",
              "      border-radius: 50%;\n",
              "      cursor: pointer;\n",
              "      display: none;\n",
              "      fill: #1967D2;\n",
              "      height: 32px;\n",
              "      padding: 0 0 0 0;\n",
              "      width: 32px;\n",
              "    }\n",
              "\n",
              "    .colab-df-convert:hover {\n",
              "      background-color: #E2EBFA;\n",
              "      box-shadow: 0px 1px 2px rgba(60, 64, 67, 0.3), 0px 1px 3px 1px rgba(60, 64, 67, 0.15);\n",
              "      fill: #174EA6;\n",
              "    }\n",
              "\n",
              "    [theme=dark] .colab-df-convert {\n",
              "      background-color: #3B4455;\n",
              "      fill: #D2E3FC;\n",
              "    }\n",
              "\n",
              "    [theme=dark] .colab-df-convert:hover {\n",
              "      background-color: #434B5C;\n",
              "      box-shadow: 0px 1px 3px 1px rgba(0, 0, 0, 0.15);\n",
              "      filter: drop-shadow(0px 1px 2px rgba(0, 0, 0, 0.3));\n",
              "      fill: #FFFFFF;\n",
              "    }\n",
              "  </style>\n",
              "\n",
              "      <script>\n",
              "        const buttonEl =\n",
              "          document.querySelector('#df-539eaa53-2984-47ce-b5e9-dcbf93d8b462 button.colab-df-convert');\n",
              "        buttonEl.style.display =\n",
              "          google.colab.kernel.accessAllowed ? 'block' : 'none';\n",
              "\n",
              "        async function convertToInteractive(key) {\n",
              "          const element = document.querySelector('#df-539eaa53-2984-47ce-b5e9-dcbf93d8b462');\n",
              "          const dataTable =\n",
              "            await google.colab.kernel.invokeFunction('convertToInteractive',\n",
              "                                                     [key], {});\n",
              "          if (!dataTable) return;\n",
              "\n",
              "          const docLinkHtml = 'Like what you see? Visit the ' +\n",
              "            '<a target=\"_blank\" href=https://colab.research.google.com/notebooks/data_table.ipynb>data table notebook</a>'\n",
              "            + ' to learn more about interactive tables.';\n",
              "          element.innerHTML = '';\n",
              "          dataTable['output_type'] = 'display_data';\n",
              "          await google.colab.output.renderOutput(dataTable, element);\n",
              "          const docLink = document.createElement('div');\n",
              "          docLink.innerHTML = docLinkHtml;\n",
              "          element.appendChild(docLink);\n",
              "        }\n",
              "      </script>\n",
              "    </div>\n",
              "  </div>\n",
              "  "
            ]
          },
          "metadata": {},
          "execution_count": 6
        }
      ]
    },
    {
      "cell_type": "code",
      "source": [
        "#What Does Test DataFrame Look Like \n",
        "\n",
        "test_df.head()"
      ],
      "metadata": {
        "colab": {
          "base_uri": "https://localhost:8080/",
          "height": 206
        },
        "id": "-fiPSHH_5Jjn",
        "outputId": "f6b56440-85b3-4425-be90-6f8a8ffecb5c"
      },
      "execution_count": 7,
      "outputs": [
        {
          "output_type": "execute_result",
          "data": {
            "text/plain": [
              "   id keyword location                                               text\n",
              "0   0     NaN      NaN                 Just happened a terrible car crash\n",
              "1   2     NaN      NaN  Heard about #earthquake is different cities, s...\n",
              "2   3     NaN      NaN  there is a forest fire at spot pond, geese are...\n",
              "3   9     NaN      NaN           Apocalypse lighting. #Spokane #wildfires\n",
              "4  11     NaN      NaN      Typhoon Soudelor kills 28 in China and Taiwan"
            ],
            "text/html": [
              "\n",
              "  <div id=\"df-9de89f7f-7d95-4797-af7f-83c809d257b0\">\n",
              "    <div class=\"colab-df-container\">\n",
              "      <div>\n",
              "<style scoped>\n",
              "    .dataframe tbody tr th:only-of-type {\n",
              "        vertical-align: middle;\n",
              "    }\n",
              "\n",
              "    .dataframe tbody tr th {\n",
              "        vertical-align: top;\n",
              "    }\n",
              "\n",
              "    .dataframe thead th {\n",
              "        text-align: right;\n",
              "    }\n",
              "</style>\n",
              "<table border=\"1\" class=\"dataframe\">\n",
              "  <thead>\n",
              "    <tr style=\"text-align: right;\">\n",
              "      <th></th>\n",
              "      <th>id</th>\n",
              "      <th>keyword</th>\n",
              "      <th>location</th>\n",
              "      <th>text</th>\n",
              "    </tr>\n",
              "  </thead>\n",
              "  <tbody>\n",
              "    <tr>\n",
              "      <th>0</th>\n",
              "      <td>0</td>\n",
              "      <td>NaN</td>\n",
              "      <td>NaN</td>\n",
              "      <td>Just happened a terrible car crash</td>\n",
              "    </tr>\n",
              "    <tr>\n",
              "      <th>1</th>\n",
              "      <td>2</td>\n",
              "      <td>NaN</td>\n",
              "      <td>NaN</td>\n",
              "      <td>Heard about #earthquake is different cities, s...</td>\n",
              "    </tr>\n",
              "    <tr>\n",
              "      <th>2</th>\n",
              "      <td>3</td>\n",
              "      <td>NaN</td>\n",
              "      <td>NaN</td>\n",
              "      <td>there is a forest fire at spot pond, geese are...</td>\n",
              "    </tr>\n",
              "    <tr>\n",
              "      <th>3</th>\n",
              "      <td>9</td>\n",
              "      <td>NaN</td>\n",
              "      <td>NaN</td>\n",
              "      <td>Apocalypse lighting. #Spokane #wildfires</td>\n",
              "    </tr>\n",
              "    <tr>\n",
              "      <th>4</th>\n",
              "      <td>11</td>\n",
              "      <td>NaN</td>\n",
              "      <td>NaN</td>\n",
              "      <td>Typhoon Soudelor kills 28 in China and Taiwan</td>\n",
              "    </tr>\n",
              "  </tbody>\n",
              "</table>\n",
              "</div>\n",
              "      <button class=\"colab-df-convert\" onclick=\"convertToInteractive('df-9de89f7f-7d95-4797-af7f-83c809d257b0')\"\n",
              "              title=\"Convert this dataframe to an interactive table.\"\n",
              "              style=\"display:none;\">\n",
              "        \n",
              "  <svg xmlns=\"http://www.w3.org/2000/svg\" height=\"24px\"viewBox=\"0 0 24 24\"\n",
              "       width=\"24px\">\n",
              "    <path d=\"M0 0h24v24H0V0z\" fill=\"none\"/>\n",
              "    <path d=\"M18.56 5.44l.94 2.06.94-2.06 2.06-.94-2.06-.94-.94-2.06-.94 2.06-2.06.94zm-11 1L8.5 8.5l.94-2.06 2.06-.94-2.06-.94L8.5 2.5l-.94 2.06-2.06.94zm10 10l.94 2.06.94-2.06 2.06-.94-2.06-.94-.94-2.06-.94 2.06-2.06.94z\"/><path d=\"M17.41 7.96l-1.37-1.37c-.4-.4-.92-.59-1.43-.59-.52 0-1.04.2-1.43.59L10.3 9.45l-7.72 7.72c-.78.78-.78 2.05 0 2.83L4 21.41c.39.39.9.59 1.41.59.51 0 1.02-.2 1.41-.59l7.78-7.78 2.81-2.81c.8-.78.8-2.07 0-2.86zM5.41 20L4 18.59l7.72-7.72 1.47 1.35L5.41 20z\"/>\n",
              "  </svg>\n",
              "      </button>\n",
              "      \n",
              "  <style>\n",
              "    .colab-df-container {\n",
              "      display:flex;\n",
              "      flex-wrap:wrap;\n",
              "      gap: 12px;\n",
              "    }\n",
              "\n",
              "    .colab-df-convert {\n",
              "      background-color: #E8F0FE;\n",
              "      border: none;\n",
              "      border-radius: 50%;\n",
              "      cursor: pointer;\n",
              "      display: none;\n",
              "      fill: #1967D2;\n",
              "      height: 32px;\n",
              "      padding: 0 0 0 0;\n",
              "      width: 32px;\n",
              "    }\n",
              "\n",
              "    .colab-df-convert:hover {\n",
              "      background-color: #E2EBFA;\n",
              "      box-shadow: 0px 1px 2px rgba(60, 64, 67, 0.3), 0px 1px 3px 1px rgba(60, 64, 67, 0.15);\n",
              "      fill: #174EA6;\n",
              "    }\n",
              "\n",
              "    [theme=dark] .colab-df-convert {\n",
              "      background-color: #3B4455;\n",
              "      fill: #D2E3FC;\n",
              "    }\n",
              "\n",
              "    [theme=dark] .colab-df-convert:hover {\n",
              "      background-color: #434B5C;\n",
              "      box-shadow: 0px 1px 3px 1px rgba(0, 0, 0, 0.15);\n",
              "      filter: drop-shadow(0px 1px 2px rgba(0, 0, 0, 0.3));\n",
              "      fill: #FFFFFF;\n",
              "    }\n",
              "  </style>\n",
              "\n",
              "      <script>\n",
              "        const buttonEl =\n",
              "          document.querySelector('#df-9de89f7f-7d95-4797-af7f-83c809d257b0 button.colab-df-convert');\n",
              "        buttonEl.style.display =\n",
              "          google.colab.kernel.accessAllowed ? 'block' : 'none';\n",
              "\n",
              "        async function convertToInteractive(key) {\n",
              "          const element = document.querySelector('#df-9de89f7f-7d95-4797-af7f-83c809d257b0');\n",
              "          const dataTable =\n",
              "            await google.colab.kernel.invokeFunction('convertToInteractive',\n",
              "                                                     [key], {});\n",
              "          if (!dataTable) return;\n",
              "\n",
              "          const docLinkHtml = 'Like what you see? Visit the ' +\n",
              "            '<a target=\"_blank\" href=https://colab.research.google.com/notebooks/data_table.ipynb>data table notebook</a>'\n",
              "            + ' to learn more about interactive tables.';\n",
              "          element.innerHTML = '';\n",
              "          dataTable['output_type'] = 'display_data';\n",
              "          await google.colab.output.renderOutput(dataTable, element);\n",
              "          const docLink = document.createElement('div');\n",
              "          docLink.innerHTML = docLinkHtml;\n",
              "          element.appendChild(docLink);\n",
              "        }\n",
              "      </script>\n",
              "    </div>\n",
              "  </div>\n",
              "  "
            ]
          },
          "metadata": {},
          "execution_count": 7
        }
      ]
    },
    {
      "cell_type": "code",
      "source": [
        "train_df.target.value_counts()"
      ],
      "metadata": {
        "colab": {
          "base_uri": "https://localhost:8080/"
        },
        "id": "gFs-5lIy5O3T",
        "outputId": "66c32dca-4fce-48d6-b0dc-804e35b4bed0"
      },
      "execution_count": 8,
      "outputs": [
        {
          "output_type": "execute_result",
          "data": {
            "text/plain": [
              "0    4342\n",
              "1    3271\n",
              "Name: target, dtype: int64"
            ]
          },
          "metadata": {},
          "execution_count": 8
        }
      ]
    },
    {
      "cell_type": "code",
      "source": [
        "# How Many Total Samples\n",
        "\n",
        "len(train_df), len(test_df)"
      ],
      "metadata": {
        "colab": {
          "base_uri": "https://localhost:8080/"
        },
        "id": "ucdHF4dV5TGR",
        "outputId": "a0f49b71-d3d7-432f-f2c0-344a056c216b"
      },
      "execution_count": 9,
      "outputs": [
        {
          "output_type": "execute_result",
          "data": {
            "text/plain": [
              "(7613, 3263)"
            ]
          },
          "metadata": {},
          "execution_count": 9
        }
      ]
    },
    {
      "cell_type": "code",
      "source": [
        "# Lets Visualize Some Random Training Samples\n",
        "\n",
        "import random \n",
        "random_index = random.randint(0, len(train_df)-5)\n",
        "for row in train_df_shuffled[['text', 'target']][random_index : random_index+5].itertuples():\n",
        "\n",
        "  _,text,target= row\n",
        "  print(f\"Target: {target}\" ,  \"(Read Disaster)\" if target > 0  else \"(Not Real Disaster)\")\n",
        "  print(f\"text L \\n{text} \\n\")\n",
        "  print(\"---\\n\")"
      ],
      "metadata": {
        "colab": {
          "base_uri": "https://localhost:8080/"
        },
        "id": "gsyCj6X_5YI-",
        "outputId": "dc3bc100-d976-464b-b039-444209a1a4c5"
      },
      "execution_count": 10,
      "outputs": [
        {
          "output_type": "stream",
          "name": "stdout",
          "text": [
            "Target: 1 (Read Disaster)\n",
            "text L \n",
            "Madhya Pradesh Train Derailment: Village Youth Saved Many Lives: A group of villagers saved over 70 passengers' lives after two train... \n",
            "\n",
            "---\n",
            "\n",
            "Target: 1 (Read Disaster)\n",
            "text L \n",
            "Could a drone cause an airplane accident? Pilots worried about use of drones esp. in close vicinity of airports http://t.co/kz35rGngJF # \n",
            "\n",
            "---\n",
            "\n",
            "Target: 0 (Not Real Disaster)\n",
            "text L \n",
            "@funkflex yo flex im here https://t.co/2AZxdLCXgA \n",
            "\n",
            "---\n",
            "\n",
            "Target: 0 (Not Real Disaster)\n",
            "text L \n",
            "My Dad a screaming coach always gave his vocal chords quite the workout on the field. http://t.co/axVQ80RbYJ #FunnyDadCoach \n",
            "\n",
            "---\n",
            "\n",
            "Target: 0 (Not Real Disaster)\n",
            "text L \n",
            "Add these items to your everyday eating habits. Please do the research on how to take with your bloodÛ_ https://t.co/LnpsCaDaXr \n",
            "\n",
            "---\n",
            "\n"
          ]
        }
      ]
    },
    {
      "cell_type": "markdown",
      "source": [
        "## **Splitting Dataset into Train , Test And Validation**"
      ],
      "metadata": {
        "id": "9IZ2aJrf621R"
      }
    },
    {
      "cell_type": "code",
      "source": [
        "from sklearn.model_selection import train_test_split\n",
        "\n",
        "train_sentences, val_sentences, train_labels, val_labels = train_test_split(train_df_shuffled['text'].to_numpy(),\n",
        "                                                                            train_df_shuffled['target'].to_numpy(),\n",
        "                                                                            test_size=0.1, random_state=42)"
      ],
      "metadata": {
        "id": "N3k1fzoO6fGi"
      },
      "execution_count": 11,
      "outputs": []
    },
    {
      "cell_type": "code",
      "source": [
        "#Check The Lengths\n",
        "\n",
        "len(train_sentences), len(train_labels), len(val_sentences), len(val_labels)"
      ],
      "metadata": {
        "colab": {
          "base_uri": "https://localhost:8080/"
        },
        "id": "bRkh5A1d7fi6",
        "outputId": "04cd63cf-2f04-402c-acf6-e6e623e17bb0"
      },
      "execution_count": 12,
      "outputs": [
        {
          "output_type": "execute_result",
          "data": {
            "text/plain": [
              "(6851, 6851, 762, 762)"
            ]
          },
          "metadata": {},
          "execution_count": 12
        }
      ]
    },
    {
      "cell_type": "code",
      "source": [
        "# Check The First Ten Samples\n",
        "\n",
        "train_sentences[:10], train_labels[:10]"
      ],
      "metadata": {
        "colab": {
          "base_uri": "https://localhost:8080/"
        },
        "id": "7A_fzQw_7tEn",
        "outputId": "d40f3349-2417-4611-d702-c1a6b357b2cf"
      },
      "execution_count": 13,
      "outputs": [
        {
          "output_type": "execute_result",
          "data": {
            "text/plain": [
              "(array(['@mogacola @zamtriossu i screamed after hitting tweet',\n",
              "        'Imagine getting flattened by Kurt Zouma',\n",
              "        '@Gurmeetramrahim #MSGDoing111WelfareWorks Green S welfare force ke appx 65000 members har time disaster victim ki help ke liye tyar hai....',\n",
              "        \"@shakjn @C7 @Magnums im shaking in fear he's gonna hack the planet\",\n",
              "        'Somehow find you and I collide http://t.co/Ee8RpOahPk',\n",
              "        '@EvaHanderek @MarleyKnysh great times until the bus driver held us hostage in the mall parking lot lmfao',\n",
              "        'destroy the free fandom honestly',\n",
              "        'Weapons stolen from National Guard Armory in New Albany still missing #Gunsense http://t.co/lKNU8902JE',\n",
              "        '@wfaaweather Pete when will the heat wave pass? Is it really going to be mid month? Frisco Boy Scouts have a canoe trip in Okla.',\n",
              "        'Patient-reported outcomes in long-term survivors of metastatic colorectal cancer - British Journal of Surgery http://t.co/5Yl4DC1Tqt'],\n",
              "       dtype=object), array([0, 0, 1, 0, 0, 1, 1, 0, 1, 1]))"
            ]
          },
          "metadata": {},
          "execution_count": 13
        }
      ]
    },
    {
      "cell_type": "markdown",
      "source": [
        "## **Converting Text Into Numbers**\n",
        "\n",
        "**Tokenization ( Straight Mapping From Token to number (Can be Modelled But Quickly get too big)**\n",
        "\n",
        "**Embedding (Richer Representation of Relationships between Tokens (can be Limit size + can be Learned**\n",
        "\n",
        "**Search Word to Vec (Also Have Tensorflow Hub pretrained Word Embedding)**\n",
        "\n",
        "## **Converting Text into Numbers**\n",
        "\n",
        "**These Are Few Ways to do this, Namely:**\n",
        "\n",
        "**Tokenization(Direct Mapping of a Token ( A Token could be Word or Character) to Number**\n",
        "\n",
        "**Embedding (Create Matrix Of Feature Vector of Each Token (The Size of Feature Vector can be Defined and This Embedding can be Learned)**\n",
        "\n",
        "\n"
      ],
      "metadata": {
        "id": "FyBdmwxs74YF"
      }
    },
    {
      "cell_type": "code",
      "source": [
        "#Text Vectorization (Tokenization)\n",
        "\n",
        "train_sentences[:5]"
      ],
      "metadata": {
        "colab": {
          "base_uri": "https://localhost:8080/"
        },
        "id": "7lV79OZS71hn",
        "outputId": "ae1dce74-8736-4219-f840-19281a0a65c3"
      },
      "execution_count": 14,
      "outputs": [
        {
          "output_type": "execute_result",
          "data": {
            "text/plain": [
              "array(['@mogacola @zamtriossu i screamed after hitting tweet',\n",
              "       'Imagine getting flattened by Kurt Zouma',\n",
              "       '@Gurmeetramrahim #MSGDoing111WelfareWorks Green S welfare force ke appx 65000 members har time disaster victim ki help ke liye tyar hai....',\n",
              "       \"@shakjn @C7 @Magnums im shaking in fear he's gonna hack the planet\",\n",
              "       'Somehow find you and I collide http://t.co/Ee8RpOahPk'],\n",
              "      dtype=object)"
            ]
          },
          "metadata": {},
          "execution_count": 14
        }
      ]
    },
    {
      "cell_type": "code",
      "source": [
        "import tensorflow as tf\n",
        "from tensorflow.keras.layers.experimental.preprocessing import TextVectorization"
      ],
      "metadata": {
        "id": "J6NXtb6E9KGP"
      },
      "execution_count": 15,
      "outputs": []
    },
    {
      "cell_type": "code",
      "source": [
        "from pandas.core.common import standardize_mapping\n",
        "#Use Default Text Vectorization Parameters\n",
        "\n",
        "text_vectorizor = TextVectorization(max_tokens=None,\n",
        "                                    standardize = 'lower_and_strip_punctuation',\n",
        "                                    split='whitespace',\n",
        "                                    ngrams=None,\n",
        "                                    output_mode='int',\n",
        "                                    output_sequence_length=None,\n",
        "                                    pad_to_max_tokens=False)"
      ],
      "metadata": {
        "id": "GI97SeKl9pfS"
      },
      "execution_count": 16,
      "outputs": []
    },
    {
      "cell_type": "code",
      "source": [
        "# Find To Average Number of Tokens (Words) into Training Tweets\n",
        "\n",
        "round(sum([len(i.split()) for i in train_sentences])/len(train_sentences))\n"
      ],
      "metadata": {
        "colab": {
          "base_uri": "https://localhost:8080/"
        },
        "id": "0U12JA5n-d_0",
        "outputId": "c1515c20-5590-4447-f6a7-5882e4ed191a"
      },
      "execution_count": 17,
      "outputs": [
        {
          "output_type": "execute_result",
          "data": {
            "text/plain": [
              "15"
            ]
          },
          "metadata": {},
          "execution_count": 17
        }
      ]
    },
    {
      "cell_type": "code",
      "source": [
        "# Setup Text Vectorization Variables\n",
        "\n",
        "max_vocab_length = 1000\n",
        "max_length = 15 \n",
        "text_vectorizor = TextVectorization(max_tokens=max_vocab_length,\n",
        "                                    output_mode = 'int',\n",
        "                                    output_sequence_length=max_length)"
      ],
      "metadata": {
        "id": "Z9s1stJD_cqP"
      },
      "execution_count": 18,
      "outputs": []
    },
    {
      "cell_type": "code",
      "source": [
        "#Fit The Text Vectorizor to The Training Text\n",
        "\n",
        "text_vectorizor.adapt(train_sentences)"
      ],
      "metadata": {
        "id": "C0b829-VBA9W"
      },
      "execution_count": 19,
      "outputs": []
    },
    {
      "cell_type": "code",
      "source": [
        "train_sentences[:10]"
      ],
      "metadata": {
        "colab": {
          "base_uri": "https://localhost:8080/"
        },
        "id": "j6c3ZX5GBBvT",
        "outputId": "afdf44a1-fc8a-4b1b-99f4-c829a896e358"
      },
      "execution_count": 20,
      "outputs": [
        {
          "output_type": "execute_result",
          "data": {
            "text/plain": [
              "array(['@mogacola @zamtriossu i screamed after hitting tweet',\n",
              "       'Imagine getting flattened by Kurt Zouma',\n",
              "       '@Gurmeetramrahim #MSGDoing111WelfareWorks Green S welfare force ke appx 65000 members har time disaster victim ki help ke liye tyar hai....',\n",
              "       \"@shakjn @C7 @Magnums im shaking in fear he's gonna hack the planet\",\n",
              "       'Somehow find you and I collide http://t.co/Ee8RpOahPk',\n",
              "       '@EvaHanderek @MarleyKnysh great times until the bus driver held us hostage in the mall parking lot lmfao',\n",
              "       'destroy the free fandom honestly',\n",
              "       'Weapons stolen from National Guard Armory in New Albany still missing #Gunsense http://t.co/lKNU8902JE',\n",
              "       '@wfaaweather Pete when will the heat wave pass? Is it really going to be mid month? Frisco Boy Scouts have a canoe trip in Okla.',\n",
              "       'Patient-reported outcomes in long-term survivors of metastatic colorectal cancer - British Journal of Surgery http://t.co/5Yl4DC1Tqt'],\n",
              "      dtype=object)"
            ]
          },
          "metadata": {},
          "execution_count": 20
        }
      ]
    },
    {
      "cell_type": "code",
      "source": [
        "#Create A Sample Sentences and Tokenize it \n",
        "\n",
        "sample_sentence = 'There is A Flood in My Street'\n",
        "\n",
        "text_vectorizor([sample_sentence])"
      ],
      "metadata": {
        "colab": {
          "base_uri": "https://localhost:8080/"
        },
        "id": "c52lhDWbBEPe",
        "outputId": "94d66a33-a0e6-4e25-a689-789c6eddf0e8"
      },
      "execution_count": 21,
      "outputs": [
        {
          "output_type": "execute_result",
          "data": {
            "text/plain": [
              "<tf.Tensor: shape=(1, 15), dtype=int64, numpy=\n",
              "array([[ 74,   9,   3, 232,   4,  13, 698,   0,   0,   0,   0,   0,   0,\n",
              "          0,   0]])>"
            ]
          },
          "metadata": {},
          "execution_count": 21
        }
      ]
    },
    {
      "cell_type": "code",
      "source": [
        "#Choose A Random Sentence From  Training Dataset  and Tokenize it\n",
        "\n",
        "random_sentence = random.choice(train_sentences)\n",
        "print(f\"Original Text : \\n {random_sentence} \\n\\nVecorized Version:\")\n",
        "text_vectorizor([random_sentence])"
      ],
      "metadata": {
        "colab": {
          "base_uri": "https://localhost:8080/"
        },
        "id": "vaq_7qsmBVe-",
        "outputId": "b3e437c7-fd4f-4fc0-8e52-1044fda40066"
      },
      "execution_count": 22,
      "outputs": [
        {
          "output_type": "stream",
          "name": "stdout",
          "text": [
            "Original Text : \n",
            " Does homeowners insurance cover water damage? Here are some good things to know. http://t.co/0uSDI5JCHo http://t.co/xyg7JhRjoF \n",
            "\n",
            "Vecorized Version:\n"
          ]
        },
        {
          "output_type": "execute_result",
          "data": {
            "text/plain": [
              "<tf.Tensor: shape=(1, 15), dtype=int64, numpy=\n",
              "array([[350,   1, 887,   1, 190, 233, 140,  22,  82, 136, 429,   5, 106,\n",
              "          1,   1]])>"
            ]
          },
          "metadata": {},
          "execution_count": 22
        }
      ]
    },
    {
      "cell_type": "code",
      "source": [
        "# Get The Unique Words in the Vocabulary\n",
        "\n",
        "words_in_vocab = text_vectorizor.get_vocabulary()\n",
        "top_5_words = words_in_vocab[:5]\n",
        "bottom_5_words = words_in_vocab[:5]\n",
        "print(f\"Number of Words in Vocab : {len(words_in_vocab)}\")\n",
        "print(f\"5 Most Common Words  : {top_5_words}\")\n",
        "print(f\"5 Least Common Words L {bottom_5_words}\")"
      ],
      "metadata": {
        "colab": {
          "base_uri": "https://localhost:8080/"
        },
        "id": "Ft8LLdvmB31b",
        "outputId": "1ac32c73-2f71-4f86-d3a0-b5baa1fda1e3"
      },
      "execution_count": 23,
      "outputs": [
        {
          "output_type": "stream",
          "name": "stdout",
          "text": [
            "Number of Words in Vocab : 1000\n",
            "5 Most Common Words  : ['', '[UNK]', 'the', 'a', 'in']\n",
            "5 Least Common Words L ['', '[UNK]', 'the', 'a', 'in']\n"
          ]
        }
      ]
    },
    {
      "cell_type": "markdown",
      "source": [
        "## **Create An Embedding Using Embedding Layer**\n",
        "\n",
        "**To Make our Embedding, We are Going to used Tensorflow Embedding Model**\n",
        "\n",
        "**The Parameters we care most about for Our Embedding layer:**\n",
        "\n",
        "**`Input-Dim` = The Size of Vocabulary**\n",
        "\n",
        "**`Output-Dim` = the size of Output Embedding Vector**\n",
        "\n",
        "**`Input-Length` = Length of Sequence Being Passed to the Embedding layer**\n"
      ],
      "metadata": {
        "id": "BEL_yLRQCxJY"
      }
    },
    {
      "cell_type": "code",
      "source": [
        "from tensorflow.keras import layers\n",
        "\n",
        "embedding=layers.Embedding(input_dim = max_vocab_length,\n",
        "                           output_dim = 128,\n",
        "                           input_length = max_length)\n",
        "\n",
        "embedding"
      ],
      "metadata": {
        "colab": {
          "base_uri": "https://localhost:8080/"
        },
        "id": "P5w8WJW5CvSq",
        "outputId": "b0dc8802-b691-410e-fad2-6c795f240746"
      },
      "execution_count": 24,
      "outputs": [
        {
          "output_type": "execute_result",
          "data": {
            "text/plain": [
              "<keras.layers.embeddings.Embedding at 0x7f58e01d76d0>"
            ]
          },
          "metadata": {},
          "execution_count": 24
        }
      ]
    },
    {
      "cell_type": "code",
      "source": [
        "# Get A Random  Sentence From Training Set \n",
        "\n",
        "random_sentence = random.choice(train_sentences)\n",
        "print(f\"Original Text : \\n{random_sentence} \\n\\nEmbedded Version:\")\n",
        "\n",
        "#Embed The Random Sentence(Turn it into Dense Vector of Fixed Size)\n",
        "\n",
        "sample_embed = embedding(text_vectorizor([random_sentence]))\n",
        "\n",
        "#Check out Single Token's Embedding \n",
        "\n",
        "sample_embed[0][0], sample_embed[0][0].shape, random_sentence[0], random_sentence\n",
        "\n"
      ],
      "metadata": {
        "colab": {
          "base_uri": "https://localhost:8080/"
        },
        "id": "O-b6kK5UEkS8",
        "outputId": "df74b849-2518-4f95-ddfe-37a7f0bcd186"
      },
      "execution_count": 25,
      "outputs": [
        {
          "output_type": "stream",
          "name": "stdout",
          "text": [
            "Original Text : \n",
            "@horiikawa i played online last night and got my ass obliterated \n",
            "\n",
            "Embedded Version:\n"
          ]
        },
        {
          "output_type": "execute_result",
          "data": {
            "text/plain": [
              "(<tf.Tensor: shape=(128,), dtype=float32, numpy=\n",
              " array([ 2.2218693e-02,  3.8663279e-02, -4.4770647e-02,  4.9715068e-02,\n",
              "        -3.7576664e-02,  4.6038095e-02, -3.2143012e-02, -4.9524009e-02,\n",
              "         1.5204120e-02, -9.8752603e-03,  2.8384794e-02, -3.0897081e-02,\n",
              "         3.8685426e-03,  2.4552409e-02,  2.1071736e-02,  2.2044424e-02,\n",
              "        -7.0592165e-03,  2.0528425e-02,  4.1181479e-02,  9.2125759e-03,\n",
              "        -3.0378476e-03, -6.5832622e-03,  3.2101870e-03, -4.5518268e-02,\n",
              "         4.7604766e-02, -2.0774364e-02,  3.8259637e-02,  4.8490617e-02,\n",
              "         1.7524984e-02,  4.7521975e-02, -2.4694908e-02, -2.3933137e-02,\n",
              "        -4.6931006e-02, -9.7130314e-03,  4.3542016e-02, -5.7545193e-03,\n",
              "        -3.2352854e-02,  3.3021454e-02,  1.9031469e-02,  4.1083228e-02,\n",
              "         3.7477676e-02, -1.1128474e-02, -4.9826313e-02,  2.2374641e-02,\n",
              "        -4.2166889e-02,  3.7262943e-02,  4.3262113e-02,  2.8208796e-02,\n",
              "        -1.6248859e-02, -2.5971644e-03, -7.1104653e-03, -3.5398148e-02,\n",
              "         2.2418234e-02, -1.1243708e-03,  1.1036694e-02,  1.5627969e-02,\n",
              "        -4.8578609e-02,  1.2988400e-02, -1.7375421e-02,  3.4958210e-02,\n",
              "        -3.1488016e-02, -4.1321851e-02, -4.0504646e-02,  1.5737582e-02,\n",
              "        -1.4709234e-02, -2.0017684e-02, -3.9298307e-02,  4.0267553e-02,\n",
              "         4.8347227e-03,  8.3886273e-03,  4.7433924e-02,  2.2305381e-02,\n",
              "         4.7365192e-02, -4.7261905e-02, -2.0290209e-02, -1.1613131e-02,\n",
              "         2.1662150e-02, -2.0575536e-02,  3.7399065e-02, -1.0118138e-02,\n",
              "         1.4954958e-02, -4.0208101e-02, -3.2002188e-02, -2.4480557e-02,\n",
              "         4.0658228e-03, -3.0842245e-02,  4.2291667e-02,  3.7620101e-02,\n",
              "        -2.8174354e-02,  2.9403355e-02, -4.9044143e-02, -6.2253326e-04,\n",
              "        -4.7992915e-05,  1.6479120e-03,  3.8329843e-02,  4.3398473e-02,\n",
              "         3.5149526e-02, -6.6620708e-03, -4.3805122e-02,  3.3817079e-02,\n",
              "         2.6392665e-02,  4.6637345e-02,  3.7629310e-02, -2.2899985e-02,\n",
              "        -5.8216080e-03,  1.4739621e-02, -2.3189759e-02,  3.5182882e-02,\n",
              "        -6.3353069e-03,  1.5706990e-02,  3.4836832e-02,  2.2676717e-02,\n",
              "         9.4441995e-03, -4.7489762e-02, -4.2875540e-02,  3.7356582e-02,\n",
              "         4.6977889e-02,  1.3321351e-02, -6.2672868e-03,  3.6284413e-02,\n",
              "         2.2841457e-02, -2.2214998e-02,  7.8776255e-03,  2.9441345e-02,\n",
              "        -6.3752756e-03, -3.8430847e-02, -4.7465671e-02,  2.1201957e-02],\n",
              "       dtype=float32)>,\n",
              " TensorShape([128]),\n",
              " '@',\n",
              " '@horiikawa i played online last night and got my ass obliterated')"
            ]
          },
          "metadata": {},
          "execution_count": 25
        }
      ]
    },
    {
      "cell_type": "markdown",
      "source": [
        "## **Modelling A Text Dataset**\n",
        "\n",
        "**Now We've A Got Way to Turn out Text Sequences into Numbers**\n",
        "\n",
        "**We'll Start With Baseline and move on from here**\n",
        "\n",
        "\n",
        "**Model-0 : Naive Bayes(Baseline)**\n",
        "\n",
        "**Model-1: Feed Forward  Neural Network (Dense Model)**\n",
        "\n",
        "**Model-2: LSTM (RNN)**\n",
        "\n",
        "**Model-3: GRU(RNN)**\n",
        "\n",
        "**Model-4 : Bi-Directional-LSTM-Model(RNN)**\n",
        "\n",
        "**Model-5: 1-D  Convolutional Neural Network (CNN)**\n",
        "\n",
        "**Model-6 : Tensorflow Hub Pretrained Feature Extractor Using Transfer Learning**\n",
        "\n",
        "**Model-7: Same As Model 6 With 10% of Training Data**"
      ],
      "metadata": {
        "id": "wnuy7jngGBHm"
      }
    },
    {
      "cell_type": "markdown",
      "source": [
        "## **Model - 0 (Getting Baseline)**\n",
        "\n",
        "**It is Important to Create Baseline for Machine Learning Model modelling Experiments, so that you can get Benchmark for Future experiments**\n",
        "\n",
        "**To Create Baseline, We Usedd Sklearn Multinominal Naive Bayes Using TF-IDF formula to convert Words into Numbers**"
      ],
      "metadata": {
        "id": "zjuP2JqaHdMa"
      }
    },
    {
      "cell_type": "code",
      "source": [
        "from sklearn.feature_extraction.text import TfidfVectorizer\n",
        "from sklearn.naive_bayes import MultinomialNB\n",
        "from sklearn.pipeline import Pipeline"
      ],
      "metadata": {
        "id": "pC0TmXOBFdsB"
      },
      "execution_count": 26,
      "outputs": []
    },
    {
      "cell_type": "code",
      "source": [
        "#Create Tokenization & Modelling Pipeline\n",
        "\n",
        "model_0 = Pipeline([\n",
        "                    ('tfidf', TfidfVectorizer()),\n",
        "                    ('clf', MultinomialNB())\n",
        "])\n",
        "\n",
        "#Fit-The Pipeline\n",
        "\n",
        "model_0.fit(train_sentences, train_labels)\n",
        "\n",
        "#Evaluate Baseline Model\n",
        "\n",
        "baseline_score = model_0.score(val_sentences, val_labels)\n",
        "print(f\"Our Baseline Model Archives Accuracy of : {baseline_score * 100 :.2f}%\")"
      ],
      "metadata": {
        "colab": {
          "base_uri": "https://localhost:8080/"
        },
        "id": "c0c-TqLcIT0t",
        "outputId": "217c3651-7744-4b98-f670-4b8b68ebb83e"
      },
      "execution_count": 27,
      "outputs": [
        {
          "output_type": "stream",
          "name": "stdout",
          "text": [
            "Our Baseline Model Archives Accuracy of : 79.27%\n"
          ]
        }
      ]
    },
    {
      "cell_type": "code",
      "source": [
        "# Make predictions\n",
        "baseline_preds = model_0.predict(val_sentences)\n",
        "baseline_preds[:20]"
      ],
      "metadata": {
        "colab": {
          "base_uri": "https://localhost:8080/"
        },
        "id": "zFz2S6M0MXd8",
        "outputId": "2ea5a63f-a0b3-4e5a-9a6d-1c75dc086f97"
      },
      "execution_count": 28,
      "outputs": [
        {
          "output_type": "execute_result",
          "data": {
            "text/plain": [
              "array([1, 1, 1, 0, 0, 1, 1, 1, 1, 0, 0, 1, 0, 0, 0, 0, 0, 0, 0, 1])"
            ]
          },
          "metadata": {},
          "execution_count": 28
        }
      ]
    },
    {
      "cell_type": "code",
      "source": [
        "#Create An Evaluation Function for Our Model\n",
        "\n",
        "# We Could Evaluate All our Model's Prediction With Different Metrics Everytime, However this Will be Create With A Function \n",
        "# Accuracy, Precisiom Recall, F1-Score\n",
        "\n",
        "from sklearn.metrics import accuracy_score, precision_recall_fscore_support"
      ],
      "metadata": {
        "id": "3tq21n0yJQ5o"
      },
      "execution_count": 29,
      "outputs": []
    },
    {
      "cell_type": "code",
      "source": [
        "def calculate_results(y_true, y_pred):\n",
        "\n",
        "  '''\n",
        "  Calculates Model Accuracy, Precision, Recall and F1-Score of Binary Classification Model\n",
        "  '''\n",
        "\n",
        "  # Calculate Model Accuracy\n",
        "\n",
        "  model_accuracy = accuracy_score(y_true, y_pred)*100\n",
        "\n",
        "  #Calculate  Precision, Recall and F1-Score\n",
        "\n",
        "  model_precision, model_recall, model_f1, _ = precision_recall_fscore_support(y_true, y_pred, average = 'weighted')\n",
        "\n",
        "  model_results = {'accuracy' : model_accuracy,\n",
        "                   'precision'  : model_precision,\n",
        "                   'Recall' : model_recall,\n",
        "                   'F1' : model_f1}\n",
        "\n",
        "  return model_results"
      ],
      "metadata": {
        "id": "l-1wxLntJse0"
      },
      "execution_count": 30,
      "outputs": []
    },
    {
      "cell_type": "code",
      "source": [
        "#Get Baseline Results\n",
        "\n",
        "baseline_results = calculate_results(y_true=val_labels,\n",
        "                                     y_pred=baseline_preds)\n",
        "baseline_results"
      ],
      "metadata": {
        "colab": {
          "base_uri": "https://localhost:8080/"
        },
        "id": "0YIkiwMALEHg",
        "outputId": "b5aeea74-7a7d-4122-e83e-a7c2295747e9"
      },
      "execution_count": 31,
      "outputs": [
        {
          "output_type": "execute_result",
          "data": {
            "text/plain": [
              "{'F1': 0.7862189758049549,\n",
              " 'Recall': 0.7926509186351706,\n",
              " 'accuracy': 79.26509186351706,\n",
              " 'precision': 0.8111390004213173}"
            ]
          },
          "metadata": {},
          "execution_count": 31
        }
      ]
    },
    {
      "cell_type": "markdown",
      "source": [
        "## **Model - One : Simple Dense Model**\n",
        "\n"
      ],
      "metadata": {
        "id": "sjvm3-VLMe6W"
      }
    },
    {
      "cell_type": "code",
      "source": [
        "#Create Tensorboard Callback (Need to Create A New one For Each Model)\n",
        "\n",
        "from helper_functions import  create_tensorboard_callback\n",
        "# Create A Directory to Save Tensorboard Logs \n",
        "\n",
        "SAVE_DIR = 'model_logs'"
      ],
      "metadata": {
        "id": "rtWc7byYLcN3"
      },
      "execution_count": 32,
      "outputs": []
    },
    {
      "cell_type": "code",
      "source": [
        "#Build Model With Functional API\n",
        "\n",
        "from tensorflow.keras import layers\n",
        "inputs = layers.Input(shape=(1,), dtype=tf.string)\n",
        "x=text_vectorizor(inputs)\n",
        "x=embedding(x)\n",
        "x=layers.GlobalAveragePooling1D()(x)\n",
        "outputs = layers.Dense(1, activation='sigmoid')(x)\n",
        "model_1 = tf.keras.Model(inputs, outputs, name='model_1_dense')"
      ],
      "metadata": {
        "id": "kpMicacVOel2"
      },
      "execution_count": 33,
      "outputs": []
    },
    {
      "cell_type": "code",
      "source": [
        "model_1.summary()"
      ],
      "metadata": {
        "colab": {
          "base_uri": "https://localhost:8080/"
        },
        "id": "f_DxVGH3PX1N",
        "outputId": "d9bf3d57-147e-4508-9793-41da20f1cba3"
      },
      "execution_count": 34,
      "outputs": [
        {
          "output_type": "stream",
          "name": "stdout",
          "text": [
            "Model: \"model_1_dense\"\n",
            "_________________________________________________________________\n",
            " Layer (type)                Output Shape              Param #   \n",
            "=================================================================\n",
            " input_1 (InputLayer)        [(None, 1)]               0         \n",
            "                                                                 \n",
            " text_vectorization_1 (TextV  (None, 15)               0         \n",
            " ectorization)                                                   \n",
            "                                                                 \n",
            " embedding (Embedding)       (None, 15, 128)           128000    \n",
            "                                                                 \n",
            " global_average_pooling1d (G  (None, 128)              0         \n",
            " lobalAveragePooling1D)                                          \n",
            "                                                                 \n",
            " dense (Dense)               (None, 1)                 129       \n",
            "                                                                 \n",
            "=================================================================\n",
            "Total params: 128,129\n",
            "Trainable params: 128,129\n",
            "Non-trainable params: 0\n",
            "_________________________________________________________________\n"
          ]
        }
      ]
    },
    {
      "cell_type": "code",
      "source": [
        "#Compile The Model\n",
        "\n",
        "model_1.compile(loss = 'binary_crossentropy',\n",
        "                optimizer = tf.keras.optimizers.Adam(),\n",
        "                metrics=['accuracy'])\n",
        "\n",
        "#Fit The Model\n",
        "\n",
        "model_1_history = model_1.fit(x=train_sentences,\n",
        "                              y=train_labels,\n",
        "                              epochs=5,\n",
        "                              validation_data = (val_sentences, val_labels),\n",
        "                              callbacks = [create_tensorboard_callback(dir_name=SAVE_DIR,\n",
        "                                                                       experiment_name='Model_1_Dense')])"
      ],
      "metadata": {
        "colab": {
          "base_uri": "https://localhost:8080/"
        },
        "id": "xUGcTZP7Q8kz",
        "outputId": "88e01b6e-381c-4042-a1e1-cd1828658b8d"
      },
      "execution_count": 35,
      "outputs": [
        {
          "output_type": "stream",
          "name": "stdout",
          "text": [
            "Saving TensorBoard log files to: model_logs/Model_1_Dense/20220416-190817\n",
            "Epoch 1/5\n",
            "215/215 [==============================] - 9s 12ms/step - loss: 0.6221 - accuracy: 0.6736 - val_loss: 0.5590 - val_accuracy: 0.7349\n",
            "Epoch 2/5\n",
            "215/215 [==============================] - 3s 12ms/step - loss: 0.4917 - accuracy: 0.7830 - val_loss: 0.4994 - val_accuracy: 0.7703\n",
            "Epoch 3/5\n",
            "215/215 [==============================] - 2s 11ms/step - loss: 0.4378 - accuracy: 0.8085 - val_loss: 0.4857 - val_accuracy: 0.7769\n",
            "Epoch 4/5\n",
            "215/215 [==============================] - 2s 10ms/step - loss: 0.4100 - accuracy: 0.8178 - val_loss: 0.4822 - val_accuracy: 0.7677\n",
            "Epoch 5/5\n",
            "215/215 [==============================] - 2s 11ms/step - loss: 0.3947 - accuracy: 0.8257 - val_loss: 0.4890 - val_accuracy: 0.7769\n"
          ]
        }
      ]
    },
    {
      "cell_type": "code",
      "source": [
        "#Check The Results\n",
        "\n",
        "model_1.evaluate(val_sentences, val_labels)"
      ],
      "metadata": {
        "colab": {
          "base_uri": "https://localhost:8080/"
        },
        "id": "yRcar-tnRoml",
        "outputId": "5fa77a42-4255-479a-c7e9-8ffe770a3309"
      },
      "execution_count": 36,
      "outputs": [
        {
          "output_type": "stream",
          "name": "stdout",
          "text": [
            "24/24 [==============================] - 0s 8ms/step - loss: 0.4890 - accuracy: 0.7769\n"
          ]
        },
        {
          "output_type": "execute_result",
          "data": {
            "text/plain": [
              "[0.4890008866786957, 0.7769029140472412]"
            ]
          },
          "metadata": {},
          "execution_count": 36
        }
      ]
    },
    {
      "cell_type": "code",
      "source": [
        "# Make Some Prediction and Evaluate Those\n",
        "\n",
        "model_1_pred_probs = model_1.predict(val_sentences)\n",
        "model_1_pred_probs.shape"
      ],
      "metadata": {
        "colab": {
          "base_uri": "https://localhost:8080/"
        },
        "id": "-8ubUbQsRxkc",
        "outputId": "9a064420-2f55-41fd-b41b-dd39263ae562"
      },
      "execution_count": 37,
      "outputs": [
        {
          "output_type": "execute_result",
          "data": {
            "text/plain": [
              "(762, 1)"
            ]
          },
          "metadata": {},
          "execution_count": 37
        }
      ]
    },
    {
      "cell_type": "code",
      "source": [
        "#Look at Single Prediction\n",
        "\n",
        "model_1_pred_probs[:1]"
      ],
      "metadata": {
        "colab": {
          "base_uri": "https://localhost:8080/"
        },
        "id": "0_DFiF6_R-kx",
        "outputId": "d6c35f3d-0240-44df-93a8-b6ba29544e6b"
      },
      "execution_count": 38,
      "outputs": [
        {
          "output_type": "execute_result",
          "data": {
            "text/plain": [
              "array([[0.48593023]], dtype=float32)"
            ]
          },
          "metadata": {},
          "execution_count": 38
        }
      ]
    },
    {
      "cell_type": "code",
      "source": [
        "#Convert Model Predictions Probability to label Format\n",
        "\n",
        "model_1_preds = tf.squeeze(tf.round(model_1_pred_probs))\n",
        "model_1_preds[:20]"
      ],
      "metadata": {
        "colab": {
          "base_uri": "https://localhost:8080/"
        },
        "id": "9t62xczASHVG",
        "outputId": "b616bf38-ecb5-43fa-8190-adadd9d61a74"
      },
      "execution_count": 39,
      "outputs": [
        {
          "output_type": "execute_result",
          "data": {
            "text/plain": [
              "<tf.Tensor: shape=(20,), dtype=float32, numpy=\n",
              "array([0., 1., 1., 0., 0., 1., 1., 1., 1., 0., 0., 1., 0., 0., 0., 0., 0.,\n",
              "       0., 0., 0.], dtype=float32)>"
            ]
          },
          "metadata": {},
          "execution_count": 39
        }
      ]
    },
    {
      "cell_type": "code",
      "source": [
        "#Calculate Our Model-1-results\n",
        "\n",
        "model_1_results = calculate_results(y_true = val_labels,\n",
        "                                    y_pred = model_1_preds)\n",
        "\n",
        "model_1_results"
      ],
      "metadata": {
        "colab": {
          "base_uri": "https://localhost:8080/"
        },
        "id": "2kThRxxdSY6O",
        "outputId": "783c67e5-6263-46fb-f691-4454394ae5bf"
      },
      "execution_count": 40,
      "outputs": [
        {
          "output_type": "execute_result",
          "data": {
            "text/plain": [
              "{'F1': 0.7734519762210931,\n",
              " 'Recall': 0.7769028871391076,\n",
              " 'accuracy': 77.69028871391076,\n",
              " 'precision': 0.7822241302284023}"
            ]
          },
          "metadata": {},
          "execution_count": 40
        }
      ]
    },
    {
      "cell_type": "code",
      "source": [
        "baseline_results"
      ],
      "metadata": {
        "colab": {
          "base_uri": "https://localhost:8080/"
        },
        "id": "NFzsoc94SoWF",
        "outputId": "2b0389c4-86cc-4ad1-eafb-e1a3017fc38b"
      },
      "execution_count": 41,
      "outputs": [
        {
          "output_type": "execute_result",
          "data": {
            "text/plain": [
              "{'F1': 0.7862189758049549,\n",
              " 'Recall': 0.7926509186351706,\n",
              " 'accuracy': 79.26509186351706,\n",
              " 'precision': 0.8111390004213173}"
            ]
          },
          "metadata": {},
          "execution_count": 41
        }
      ]
    },
    {
      "cell_type": "code",
      "source": [
        "import numpy as np\n",
        "np.array(list(model_1_results.values())) > np.array(list(baseline_results.values()))"
      ],
      "metadata": {
        "colab": {
          "base_uri": "https://localhost:8080/"
        },
        "id": "xoxCQprYSt69",
        "outputId": "20b712b5-a0fc-48be-faf2-6365d8af7358"
      },
      "execution_count": 42,
      "outputs": [
        {
          "output_type": "execute_result",
          "data": {
            "text/plain": [
              "array([False, False, False, False])"
            ]
          },
          "metadata": {},
          "execution_count": 42
        }
      ]
    },
    {
      "cell_type": "markdown",
      "source": [
        "## **Visualizing Learned Embedding**\n",
        "\n"
      ],
      "metadata": {
        "id": "f6kLoTKSTDEm"
      }
    },
    {
      "cell_type": "code",
      "source": [
        "#Get The Vocabulary From The Text Vectorization\n",
        "\n",
        "words_in_vocab =  text_vectorizor.get_vocabulary()\n",
        "len(words_in_vocab), words_in_vocab[:10]"
      ],
      "metadata": {
        "colab": {
          "base_uri": "https://localhost:8080/"
        },
        "id": "9TkTAloPTBTC",
        "outputId": "503f4b08-43b3-495c-d6cf-0ac2cf4e248b"
      },
      "execution_count": 43,
      "outputs": [
        {
          "output_type": "execute_result",
          "data": {
            "text/plain": [
              "(1000, ['', '[UNK]', 'the', 'a', 'in', 'to', 'of', 'and', 'i', 'is'])"
            ]
          },
          "metadata": {},
          "execution_count": 43
        }
      ]
    },
    {
      "cell_type": "code",
      "source": [
        "# Model No 1 Summary\n",
        "\n",
        "model_1.summary()"
      ],
      "metadata": {
        "colab": {
          "base_uri": "https://localhost:8080/"
        },
        "id": "mFxp2AvwTWCx",
        "outputId": "30264ecf-12b3-425a-8f02-a94614d8646a"
      },
      "execution_count": 44,
      "outputs": [
        {
          "output_type": "stream",
          "name": "stdout",
          "text": [
            "Model: \"model_1_dense\"\n",
            "_________________________________________________________________\n",
            " Layer (type)                Output Shape              Param #   \n",
            "=================================================================\n",
            " input_1 (InputLayer)        [(None, 1)]               0         \n",
            "                                                                 \n",
            " text_vectorization_1 (TextV  (None, 15)               0         \n",
            " ectorization)                                                   \n",
            "                                                                 \n",
            " embedding (Embedding)       (None, 15, 128)           128000    \n",
            "                                                                 \n",
            " global_average_pooling1d (G  (None, 128)              0         \n",
            " lobalAveragePooling1D)                                          \n",
            "                                                                 \n",
            " dense (Dense)               (None, 1)                 129       \n",
            "                                                                 \n",
            "=================================================================\n",
            "Total params: 128,129\n",
            "Trainable params: 128,129\n",
            "Non-trainable params: 0\n",
            "_________________________________________________________________\n"
          ]
        }
      ]
    },
    {
      "cell_type": "code",
      "source": [
        "# # Get the weight matrix of embedding layer \n",
        "# # (these are the numerical patterns between the text in the training dataset the model has learned)\n",
        "# embed_weights = model_1.get_layer(\"embedding_1\").get_weights()[0]\n",
        "# print(embed_weights.shape) # same size as vocab size and embedding_dim (each word is a embedding_dim size vector)"
      ],
      "metadata": {
        "id": "fHriuas1Teel"
      },
      "execution_count": 45,
      "outputs": []
    },
    {
      "cell_type": "code",
      "source": [
        "# Now We have got Embedding matrix of our model. let see how they can visualize it\n",
        "\n"
      ],
      "metadata": {
        "id": "1WqwUVsDUFGz"
      },
      "execution_count": 46,
      "outputs": []
    },
    {
      "cell_type": "code",
      "source": [
        "# Get the vocabulary from the text vectorization layer\n",
        "words_in_vocab = text_vectorizor.get_vocabulary()\n",
        "len(words_in_vocab), words_in_vocab[:10]"
      ],
      "metadata": {
        "colab": {
          "base_uri": "https://localhost:8080/"
        },
        "id": "1_5tcNEuYdiG",
        "outputId": "a2c48d53-23b9-4054-ee71-0000056b956b"
      },
      "execution_count": 47,
      "outputs": [
        {
          "output_type": "execute_result",
          "data": {
            "text/plain": [
              "(1000, ['', '[UNK]', 'the', 'a', 'in', 'to', 'of', 'and', 'i', 'is'])"
            ]
          },
          "metadata": {},
          "execution_count": 47
        }
      ]
    },
    {
      "cell_type": "code",
      "source": [
        "# # Get the weight matrix of embedding layer \n",
        "# # (these are the numerical patterns between the text in the training dataset the model has learned)\n",
        "# embed_weights = model_1.get_layer(\"embedding_1\").get_weights()[0]\n",
        "# print(embed_weights.shape) # same size as vocab size and embedding_dim (each word is a embedding_dim size vector)"
      ],
      "metadata": {
        "id": "EkLi_YjXYR5G"
      },
      "execution_count": 48,
      "outputs": []
    },
    {
      "cell_type": "code",
      "source": [
        "# #Create Embedding Files (We have Got this from Tensorflow's Word Embedding Documentation)\n",
        "\n",
        "# import io\n",
        "\n",
        "# # Create output writers\n",
        "# out_v = io.open(\"embedding_vectors.tsv\", \"w\", encoding=\"utf-8\")\n",
        "# out_m = io.open(\"embedding_metadata.tsv\", \"w\", encoding=\"utf-8\")\n",
        "\n",
        "# # Write embedding vectors and words to file\n",
        "# for num, word in enumerate(words_in_vocab):\n",
        "#   if num == 0: \n",
        "#      continue # skip padding token\n",
        "#   vec = embed_weights[num]\n",
        "#   out_m.write(word + \"\\n\") # write words to file\n",
        "#   out_v.write(\"\\t\".join([str(x) for x in vec]) + \"\\n\") # write corresponding word vector to file\n",
        "# out_v.close()\n",
        "# out_m.close()\n",
        "\n",
        "# # Download files locally to upload to Embedding Projector\n",
        "# try:\n",
        "#   from google.colab import files\n",
        "# except ImportError:\n",
        "#   pass\n",
        "# else:\n",
        "#   files.download(\"embedding_vectors.tsv\")\n",
        "#   files.download(\"embedding_metadata.tsv\")"
      ],
      "metadata": {
        "id": "_bJGb4xeVy6K"
      },
      "execution_count": 49,
      "outputs": []
    },
    {
      "cell_type": "code",
      "source": [
        "# import io\n",
        "\n",
        "# # Create output writers\n",
        "# out_v = io.open(\"embedding_vectors.tsv\", \"w\", encoding=\"utf-8\")\n",
        "# out_m = io.open(\"embedding_metadata.tsv\", \"w\", encoding=\"utf-8\")\n",
        "\n",
        "# # Write embedding vectors and words to file\n",
        "# for num, word in enumerate(words_in_vocab):\n",
        "#   if num == 0: \n",
        "#      continue # skip padding token\n",
        "#   vec = embed_weights[num]\n",
        "#   out_m.write(word + \"\\n\") # write words to file\n",
        "#   out_v.write(\"\\t\".join([str(x) for x in vec]) + \"\\n\") # write corresponding word vector to file\n",
        "# out_v.close()\n",
        "# out_m.close()\n",
        "\n",
        "# # Download files locally to upload to Embedding Projector\n",
        "# try:\n",
        "#   from google.colab import files\n",
        "# except ImportError:\n",
        "#   pass\n",
        "# else:\n",
        "#   files.download(\"embedding_vectors.tsv\")\n",
        "#   files.download(\"embedding_metadata.tsv\")"
      ],
      "metadata": {
        "id": "jjKdWXkuY5Z7"
      },
      "execution_count": 50,
      "outputs": []
    },
    {
      "cell_type": "markdown",
      "source": [
        "## **Recurrent-Neural-Network(RNN)**\n",
        "\n",
        "\n",
        "**RNN are Usefulfor Sequence Data. The Premise Of Recurrent Neural Network is to Use Representation of Previous input to aid the representation of later input**\n",
        "\n",
        "## **Architecture of RNN**\n",
        "\n",
        "**Text -- Text-Vectorization -- Embedding-layer -- Recurrent Layers -- Dense Layers -- Outputs**\n",
        "\n"
      ],
      "metadata": {
        "id": "u6wsktXgZCWv"
      }
    },
    {
      "cell_type": "markdown",
      "source": [
        "## **Model-2: LSTM (Long Short Term Memory)**\n",
        "\n",
        "**LSTM(Long Short Term Memory (one of the Most Popular LSTM cells)**\n",
        "\n",
        "**Sutructure of RNN typically looks like this**\n",
        "\n",
        "**inputs(Text) -> Tokenize -> Embedding -> Layers (RNN/Dense) -> Output (label Probability)**\n"
      ],
      "metadata": {
        "id": "ZJTkKgq0Z35f"
      }
    },
    {
      "cell_type": "code",
      "source": [
        "#Create LSTM Model\n",
        "\n",
        "from tensorflow.keras import layers\n",
        "inputs = layers.Input(shape=(1,), dtype=tf.string)\n",
        "x=text_vectorizor(inputs)\n",
        "x = embedding(x)\n",
        "# x = layers.LSTM(64, return_sequences=True)(x)\n",
        "x = layers.LSTM(64)(x)\n",
        "# x= layers.Dense(64, activation='relu')(x)\n",
        "outputs = layers.Dense(1,activation='sigmoid')(x)\n",
        "model_2 = tf.keras.Model(inputs, outputs, name='Model_2_LSTM')"
      ],
      "metadata": {
        "id": "Udq5KljaY9Nd"
      },
      "execution_count": 51,
      "outputs": []
    },
    {
      "cell_type": "code",
      "source": [
        "# Get The Summary\n",
        "\n",
        "model_2.summary()"
      ],
      "metadata": {
        "colab": {
          "base_uri": "https://localhost:8080/"
        },
        "id": "wTchT9dEbs70",
        "outputId": "434e6e97-0d63-4310-ee03-7cac8abe60a3"
      },
      "execution_count": 52,
      "outputs": [
        {
          "output_type": "stream",
          "name": "stdout",
          "text": [
            "Model: \"Model_2_LSTM\"\n",
            "_________________________________________________________________\n",
            " Layer (type)                Output Shape              Param #   \n",
            "=================================================================\n",
            " input_2 (InputLayer)        [(None, 1)]               0         \n",
            "                                                                 \n",
            " text_vectorization_1 (TextV  (None, 15)               0         \n",
            " ectorization)                                                   \n",
            "                                                                 \n",
            " embedding (Embedding)       (None, 15, 128)           128000    \n",
            "                                                                 \n",
            " lstm (LSTM)                 (None, 64)                49408     \n",
            "                                                                 \n",
            " dense_1 (Dense)             (None, 1)                 65        \n",
            "                                                                 \n",
            "=================================================================\n",
            "Total params: 177,473\n",
            "Trainable params: 177,473\n",
            "Non-trainable params: 0\n",
            "_________________________________________________________________\n"
          ]
        }
      ]
    },
    {
      "cell_type": "code",
      "source": [
        "#Compile The Model\n",
        "\n",
        "model_2.compile(loss = 'binary_crossentropy',\n",
        "                optimizer = tf.keras.optimizers.Adam(),\n",
        "                metrics=['accuracy'])"
      ],
      "metadata": {
        "id": "avLNcBRPb0Rq"
      },
      "execution_count": 53,
      "outputs": []
    },
    {
      "cell_type": "code",
      "source": [
        "#Fit The Model\n",
        "\n",
        "model_2_history = model_2.fit(train_sentences,\n",
        "                              train_labels,\n",
        "                              epochs=5,\n",
        "                              validation_data = (val_sentences, val_labels),\n",
        "                              callbacks = [create_tensorboard_callback(SAVE_DIR,\n",
        "                                                                       'model_2_LSTM')])"
      ],
      "metadata": {
        "colab": {
          "base_uri": "https://localhost:8080/"
        },
        "id": "LYwv-6N-cGU-",
        "outputId": "f64dd5c9-7bf5-4714-a89d-b6956c711f1c"
      },
      "execution_count": 54,
      "outputs": [
        {
          "output_type": "stream",
          "name": "stdout",
          "text": [
            "Saving TensorBoard log files to: model_logs/model_2_LSTM/20220416-190842\n",
            "Epoch 1/5\n",
            "215/215 [==============================] - 9s 12ms/step - loss: 0.4020 - accuracy: 0.8221 - val_loss: 0.5092 - val_accuracy: 0.7717\n",
            "Epoch 2/5\n",
            "215/215 [==============================] - 2s 9ms/step - loss: 0.3756 - accuracy: 0.8316 - val_loss: 0.4806 - val_accuracy: 0.7808\n",
            "Epoch 3/5\n",
            "215/215 [==============================] - 2s 9ms/step - loss: 0.3682 - accuracy: 0.8371 - val_loss: 0.4798 - val_accuracy: 0.7730\n",
            "Epoch 4/5\n",
            "215/215 [==============================] - 2s 9ms/step - loss: 0.3566 - accuracy: 0.8412 - val_loss: 0.4897 - val_accuracy: 0.7743\n",
            "Epoch 5/5\n",
            "215/215 [==============================] - 2s 9ms/step - loss: 0.3367 - accuracy: 0.8504 - val_loss: 0.5416 - val_accuracy: 0.7756\n"
          ]
        }
      ]
    },
    {
      "cell_type": "code",
      "source": [
        "# Make Some Prediction and Evaluate Those\n",
        "\n",
        "model_2_pred_probs = model_2.predict(val_sentences)\n",
        "model_2_pred_probs.shape"
      ],
      "metadata": {
        "colab": {
          "base_uri": "https://localhost:8080/"
        },
        "id": "b6Fk77ndc8dJ",
        "outputId": "43cbd25d-de4a-4f29-9365-a2998ae17ab7"
      },
      "execution_count": 55,
      "outputs": [
        {
          "output_type": "execute_result",
          "data": {
            "text/plain": [
              "(762, 1)"
            ]
          },
          "metadata": {},
          "execution_count": 55
        }
      ]
    },
    {
      "cell_type": "code",
      "source": [
        "# Make Prediction With LSTM Model\n",
        "\n",
        "model_2_preds = tf.squeeze(tf.round(model_2_pred_probs))\n",
        "model_2_preds[:10]"
      ],
      "metadata": {
        "colab": {
          "base_uri": "https://localhost:8080/"
        },
        "id": "kI520oKucerh",
        "outputId": "2bfd2f84-e43f-4460-aaa6-c73630c72778"
      },
      "execution_count": 56,
      "outputs": [
        {
          "output_type": "execute_result",
          "data": {
            "text/plain": [
              "<tf.Tensor: shape=(10,), dtype=float32, numpy=array([0., 1., 1., 0., 0., 1., 1., 1., 1., 0.], dtype=float32)>"
            ]
          },
          "metadata": {},
          "execution_count": 56
        }
      ]
    },
    {
      "cell_type": "code",
      "source": [
        "# Calculate Model 2 Results\n",
        "\n",
        "model_2_results = calculate_results(y_true=val_labels,\n",
        "                                    y_pred = model_2_preds)\n",
        "\n",
        "model_2_results"
      ],
      "metadata": {
        "colab": {
          "base_uri": "https://localhost:8080/"
        },
        "id": "nc_3KpM_cxkC",
        "outputId": "279f9de6-c64e-48e5-9e9b-30a2450a3570"
      },
      "execution_count": 57,
      "outputs": [
        {
          "output_type": "execute_result",
          "data": {
            "text/plain": [
              "{'F1': 0.7732287214395843,\n",
              " 'Recall': 0.7755905511811023,\n",
              " 'accuracy': 77.55905511811024,\n",
              " 'precision': 0.7780461459912817}"
            ]
          },
          "metadata": {},
          "execution_count": 57
        }
      ]
    },
    {
      "cell_type": "code",
      "source": [
        "baseline_results"
      ],
      "metadata": {
        "colab": {
          "base_uri": "https://localhost:8080/"
        },
        "id": "QHmUP51TdeYD",
        "outputId": "0354719a-5bab-49e2-cecc-caeb558aed66"
      },
      "execution_count": 58,
      "outputs": [
        {
          "output_type": "execute_result",
          "data": {
            "text/plain": [
              "{'F1': 0.7862189758049549,\n",
              " 'Recall': 0.7926509186351706,\n",
              " 'accuracy': 79.26509186351706,\n",
              " 'precision': 0.8111390004213173}"
            ]
          },
          "metadata": {},
          "execution_count": 58
        }
      ]
    },
    {
      "cell_type": "markdown",
      "source": [
        "### **Get Model 3**"
      ],
      "metadata": {
        "id": "sWnz2JrhdmQ1"
      }
    },
    {
      "cell_type": "code",
      "source": [
        "from tensorflow.keras import layers\n",
        "inputs = layers.Input(shape=(1,), dtype=tf.string)\n",
        "x=text_vectorizor(inputs)\n",
        "x = embedding(x)\n",
        "x = layers.LSTM(64, return_sequences=True)(x)\n",
        "x = layers.LSTM(64)(x)\n",
        "x= layers.Dense(64, activation='relu')(x)\n",
        "outputs = layers.Dense(1,activation='sigmoid')(x)\n",
        "model_3 = tf.keras.Model(inputs, outputs, name='Model_3_LSTM')"
      ],
      "metadata": {
        "id": "OcXKdCavdh59"
      },
      "execution_count": 59,
      "outputs": []
    },
    {
      "cell_type": "code",
      "source": [
        "model_3.summary()"
      ],
      "metadata": {
        "colab": {
          "base_uri": "https://localhost:8080/"
        },
        "id": "FmrZfdSrfdh9",
        "outputId": "28366a19-3864-4738-99ad-da95ea8ff04d"
      },
      "execution_count": 60,
      "outputs": [
        {
          "output_type": "stream",
          "name": "stdout",
          "text": [
            "Model: \"Model_3_LSTM\"\n",
            "_________________________________________________________________\n",
            " Layer (type)                Output Shape              Param #   \n",
            "=================================================================\n",
            " input_3 (InputLayer)        [(None, 1)]               0         \n",
            "                                                                 \n",
            " text_vectorization_1 (TextV  (None, 15)               0         \n",
            " ectorization)                                                   \n",
            "                                                                 \n",
            " embedding (Embedding)       (None, 15, 128)           128000    \n",
            "                                                                 \n",
            " lstm_1 (LSTM)               (None, 15, 64)            49408     \n",
            "                                                                 \n",
            " lstm_2 (LSTM)               (None, 64)                33024     \n",
            "                                                                 \n",
            " dense_2 (Dense)             (None, 64)                4160      \n",
            "                                                                 \n",
            " dense_3 (Dense)             (None, 1)                 65        \n",
            "                                                                 \n",
            "=================================================================\n",
            "Total params: 214,657\n",
            "Trainable params: 214,657\n",
            "Non-trainable params: 0\n",
            "_________________________________________________________________\n"
          ]
        }
      ]
    },
    {
      "cell_type": "code",
      "source": [
        "#Compile The Model\n",
        "\n",
        "model_3.compile(loss = 'binary_crossentropy',\n",
        "                optimizer = tf.keras.optimizers.Adam(),\n",
        "                metrics=['accuracy'])"
      ],
      "metadata": {
        "id": "qJlWM1eahCmd"
      },
      "execution_count": 61,
      "outputs": []
    },
    {
      "cell_type": "code",
      "source": [
        "#Fit The Model\n",
        "\n",
        "model_3_history = model_3.fit(train_sentences,\n",
        "                              train_labels,\n",
        "                              epochs=5,\n",
        "                              validation_data = (val_sentences, val_labels),\n",
        "                              callbacks=[create_tensorboard_callback(SAVE_DIR,\n",
        "                                                                     'model_3_LSTM')])"
      ],
      "metadata": {
        "colab": {
          "base_uri": "https://localhost:8080/"
        },
        "id": "2MZmWr2uhRvP",
        "outputId": "82df9de1-6be2-4ac8-f33e-46eb03211641"
      },
      "execution_count": 62,
      "outputs": [
        {
          "output_type": "stream",
          "name": "stdout",
          "text": [
            "Saving TensorBoard log files to: model_logs/model_3_LSTM/20220416-190908\n",
            "Epoch 1/5\n",
            "215/215 [==============================] - 8s 18ms/step - loss: 0.3771 - accuracy: 0.8397 - val_loss: 0.5232 - val_accuracy: 0.7703\n",
            "Epoch 2/5\n",
            "215/215 [==============================] - 3s 14ms/step - loss: 0.3264 - accuracy: 0.8641 - val_loss: 0.5726 - val_accuracy: 0.7572\n",
            "Epoch 3/5\n",
            "215/215 [==============================] - 3s 14ms/step - loss: 0.2974 - accuracy: 0.8704 - val_loss: 0.5629 - val_accuracy: 0.7638\n",
            "Epoch 4/5\n",
            "215/215 [==============================] - 3s 14ms/step - loss: 0.2786 - accuracy: 0.8772 - val_loss: 0.6008 - val_accuracy: 0.7467\n",
            "Epoch 5/5\n",
            "215/215 [==============================] - 3s 14ms/step - loss: 0.2577 - accuracy: 0.8895 - val_loss: 0.6807 - val_accuracy: 0.7467\n"
          ]
        }
      ]
    },
    {
      "cell_type": "code",
      "source": [
        "# Make Some Prediction and Evaluate Those\n",
        "\n",
        "model_3_pred_probs = model_3.predict(val_sentences)\n",
        "model_3_pred_probs.shape"
      ],
      "metadata": {
        "colab": {
          "base_uri": "https://localhost:8080/"
        },
        "id": "RUkCK4gwhqZK",
        "outputId": "a964e12a-2a55-491b-db55-cdbee6d6a13c"
      },
      "execution_count": 63,
      "outputs": [
        {
          "output_type": "execute_result",
          "data": {
            "text/plain": [
              "(762, 1)"
            ]
          },
          "metadata": {},
          "execution_count": 63
        }
      ]
    },
    {
      "cell_type": "code",
      "source": [
        "# Make Predictions With LSTM Model  \n",
        "\n",
        "model_3_preds = tf.squeeze(tf.round(model_3_pred_probs))\n",
        "model_3_preds[:10]"
      ],
      "metadata": {
        "colab": {
          "base_uri": "https://localhost:8080/"
        },
        "id": "fpK5vCRCiAlp",
        "outputId": "d9202b70-1b0e-4317-f358-c37b49e53367"
      },
      "execution_count": 64,
      "outputs": [
        {
          "output_type": "execute_result",
          "data": {
            "text/plain": [
              "<tf.Tensor: shape=(10,), dtype=float32, numpy=array([1., 1., 1., 0., 0., 1., 1., 1., 1., 0.], dtype=float32)>"
            ]
          },
          "metadata": {},
          "execution_count": 64
        }
      ]
    },
    {
      "cell_type": "code",
      "source": [
        "# Calculate Model 3 Results\n",
        "\n",
        "model_3_results = calculate_results(y_true = val_labels,\n",
        "                                    y_pred = model_3_preds)\n",
        "model_3_results"
      ],
      "metadata": {
        "colab": {
          "base_uri": "https://localhost:8080/"
        },
        "id": "o_WIs8-CiQ1C",
        "outputId": "e18f8ce5-2522-47c1-d783-9f7dc9149a8a"
      },
      "execution_count": 65,
      "outputs": [
        {
          "output_type": "execute_result",
          "data": {
            "text/plain": [
              "{'F1': 0.7446319510274133,\n",
              " 'Recall': 0.7467191601049868,\n",
              " 'accuracy': 74.67191601049869,\n",
              " 'precision': 0.747413483132738}"
            ]
          },
          "metadata": {},
          "execution_count": 65
        }
      ]
    },
    {
      "cell_type": "code",
      "source": [
        "baseline_results"
      ],
      "metadata": {
        "colab": {
          "base_uri": "https://localhost:8080/"
        },
        "id": "f5hUBXFGinmP",
        "outputId": "b71381cd-adaf-473a-b3f1-85b040ada04a"
      },
      "execution_count": 66,
      "outputs": [
        {
          "output_type": "execute_result",
          "data": {
            "text/plain": [
              "{'F1': 0.7862189758049549,\n",
              " 'Recall': 0.7926509186351706,\n",
              " 'accuracy': 79.26509186351706,\n",
              " 'precision': 0.8111390004213173}"
            ]
          },
          "metadata": {},
          "execution_count": 66
        }
      ]
    },
    {
      "cell_type": "markdown",
      "source": [
        "#### **Model No 4**"
      ],
      "metadata": {
        "id": "zDPkbkvXit_q"
      }
    },
    {
      "cell_type": "code",
      "source": [
        "from tensorflow.keras import layers\n",
        "inputs = layers.Input(shape=(1,), dtype=tf.string)\n",
        "x=text_vectorizor(inputs)\n",
        "x = embedding(x)\n",
        "# x = layers.LSTM(64, return_sequences=True)(x)\n",
        "x = layers.LSTM(64)(x)\n",
        "x= layers.Dense(64, activation='relu')(x)\n",
        "outputs = layers.Dense(1,activation='sigmoid')(x)\n",
        "model_4 = tf.keras.Model(inputs, outputs, name='Model_4_LSTM')"
      ],
      "metadata": {
        "id": "1kkTuLmhisMv"
      },
      "execution_count": 67,
      "outputs": []
    },
    {
      "cell_type": "code",
      "source": [
        "model_4.summary()"
      ],
      "metadata": {
        "colab": {
          "base_uri": "https://localhost:8080/"
        },
        "id": "TvwSuayxjP6j",
        "outputId": "896c44ae-72af-43b0-be12-1aa7231f3b7d"
      },
      "execution_count": 68,
      "outputs": [
        {
          "output_type": "stream",
          "name": "stdout",
          "text": [
            "Model: \"Model_4_LSTM\"\n",
            "_________________________________________________________________\n",
            " Layer (type)                Output Shape              Param #   \n",
            "=================================================================\n",
            " input_4 (InputLayer)        [(None, 1)]               0         \n",
            "                                                                 \n",
            " text_vectorization_1 (TextV  (None, 15)               0         \n",
            " ectorization)                                                   \n",
            "                                                                 \n",
            " embedding (Embedding)       (None, 15, 128)           128000    \n",
            "                                                                 \n",
            " lstm_3 (LSTM)               (None, 64)                49408     \n",
            "                                                                 \n",
            " dense_4 (Dense)             (None, 64)                4160      \n",
            "                                                                 \n",
            " dense_5 (Dense)             (None, 1)                 65        \n",
            "                                                                 \n",
            "=================================================================\n",
            "Total params: 181,633\n",
            "Trainable params: 181,633\n",
            "Non-trainable params: 0\n",
            "_________________________________________________________________\n"
          ]
        }
      ]
    },
    {
      "cell_type": "code",
      "source": [
        "# Compile The Model\n",
        "\n",
        "model_4.compile(loss = 'binary_crossentropy',\n",
        "                optimizer = tf.keras.optimizers.Adam(),\n",
        "                metrics=['accuracy'])\n",
        "\n",
        "#Fit The Model\n",
        "\n",
        "model_4_history = model_4.fit(train_sentences,\n",
        "                              train_labels,\n",
        "                              epochs=5,\n",
        "                              validation_data = (val_sentences, val_labels),\n",
        "                              callbacks = [create_tensorboard_callback(SAVE_DIR,\n",
        "                                                                       'model_4_LSTN')])"
      ],
      "metadata": {
        "colab": {
          "base_uri": "https://localhost:8080/"
        },
        "id": "ay6CcKiAjS7y",
        "outputId": "f5981c98-23d0-4581-ddbb-1a2a1b0c298a"
      },
      "execution_count": 69,
      "outputs": [
        {
          "output_type": "stream",
          "name": "stdout",
          "text": [
            "Saving TensorBoard log files to: model_logs/model_4_LSTN/20220416-190933\n",
            "Epoch 1/5\n",
            "215/215 [==============================] - 5s 12ms/step - loss: 0.3561 - accuracy: 0.8502 - val_loss: 0.6390 - val_accuracy: 0.7572\n",
            "Epoch 2/5\n",
            "215/215 [==============================] - 2s 9ms/step - loss: 0.2733 - accuracy: 0.8835 - val_loss: 0.6324 - val_accuracy: 0.7480\n",
            "Epoch 3/5\n",
            "215/215 [==============================] - 2s 9ms/step - loss: 0.2539 - accuracy: 0.8910 - val_loss: 0.6446 - val_accuracy: 0.7467\n",
            "Epoch 4/5\n",
            "215/215 [==============================] - 2s 11ms/step - loss: 0.2301 - accuracy: 0.9005 - val_loss: 0.8232 - val_accuracy: 0.7546\n",
            "Epoch 5/5\n",
            "215/215 [==============================] - 3s 14ms/step - loss: 0.2160 - accuracy: 0.9086 - val_loss: 0.7935 - val_accuracy: 0.7454\n"
          ]
        }
      ]
    },
    {
      "cell_type": "code",
      "source": [
        "# Make Some Prediction and Evaluate Those\n",
        "\n",
        "model_4_pred_probs = model_4.predict(val_sentences)\n",
        "model_4_pred_probs.shape"
      ],
      "metadata": {
        "colab": {
          "base_uri": "https://localhost:8080/"
        },
        "id": "yGKisHf7j5ql",
        "outputId": "57e80f37-c400-4360-ec2c-531caddc2b91"
      },
      "execution_count": 70,
      "outputs": [
        {
          "output_type": "execute_result",
          "data": {
            "text/plain": [
              "(762, 1)"
            ]
          },
          "metadata": {},
          "execution_count": 70
        }
      ]
    },
    {
      "cell_type": "code",
      "source": [
        "model_4_preds = tf.squeeze(tf.round(model_4_pred_probs))\n",
        "model_4_preds[:10]"
      ],
      "metadata": {
        "colab": {
          "base_uri": "https://localhost:8080/"
        },
        "id": "i_-Z4wTSkRkg",
        "outputId": "471f8a77-fb6d-4cea-9bc4-9bd223298f1c"
      },
      "execution_count": 71,
      "outputs": [
        {
          "output_type": "execute_result",
          "data": {
            "text/plain": [
              "<tf.Tensor: shape=(10,), dtype=float32, numpy=array([1., 0., 1., 0., 0., 1., 1., 1., 1., 0.], dtype=float32)>"
            ]
          },
          "metadata": {},
          "execution_count": 71
        }
      ]
    },
    {
      "cell_type": "code",
      "source": [
        "# Calculate Model 4 Results\n",
        "\n",
        "model_4_results = calculate_results(y_true = val_labels,\n",
        "                                    y_pred = model_4_preds)\n",
        "\n",
        "model_4_results"
      ],
      "metadata": {
        "colab": {
          "base_uri": "https://localhost:8080/"
        },
        "id": "DS1LC8nbkiHp",
        "outputId": "07d31244-483a-4a19-bd91-757e19b3667e"
      },
      "execution_count": 72,
      "outputs": [
        {
          "output_type": "execute_result",
          "data": {
            "text/plain": [
              "{'F1': 0.7436411119830109,\n",
              " 'Recall': 0.7454068241469817,\n",
              " 'accuracy': 74.54068241469817,\n",
              " 'precision': 0.7456573780404198}"
            ]
          },
          "metadata": {},
          "execution_count": 72
        }
      ]
    },
    {
      "cell_type": "code",
      "source": [
        "baseline_results"
      ],
      "metadata": {
        "colab": {
          "base_uri": "https://localhost:8080/"
        },
        "id": "GvFd4kcLkz8B",
        "outputId": "ce849226-5cee-4c5a-b2bb-e1e987f7c7d1"
      },
      "execution_count": 73,
      "outputs": [
        {
          "output_type": "execute_result",
          "data": {
            "text/plain": [
              "{'F1': 0.7862189758049549,\n",
              " 'Recall': 0.7926509186351706,\n",
              " 'accuracy': 79.26509186351706,\n",
              " 'precision': 0.8111390004213173}"
            ]
          },
          "metadata": {},
          "execution_count": 73
        }
      ]
    },
    {
      "cell_type": "markdown",
      "source": [
        "## **Model-Three GRU**\n",
        "\n",
        "**Another Popular and Effective RNN component is GRU or Gated Recurrent Unit**\n",
        "\n",
        "**The GRU cell has Similar Features to LSTM have less Parameters**\n"
      ],
      "metadata": {
        "id": "BNb0oU9RlKhh"
      }
    },
    {
      "cell_type": "code",
      "source": [
        "# Build RNN Cell Using GRU Cell\n",
        "\n",
        "from tensorflow.keras import layers\n",
        "inputs = layers.Input(shape=(1,), dtype=tf.string)\n",
        "x=text_vectorizor(inputs)\n",
        "x= embedding(x)\n",
        "x=layers.GRU(64, return_sequences= True)(x)\n",
        "# x=layers.LSTM(42)(x)\n",
        "# x=layers.GRU(99)(x)\n",
        "x=layers.Dense(64, activation='relu')(x)\n",
        "x=layers.GlobalAveragePooling1D()(x)\n",
        "outputs = layers.Dense(1, activation='sigmoid')(x)\n",
        "model_5 = tf.keras.Model(inputs, outputs, name='Model_5_GRU')"
      ],
      "metadata": {
        "id": "6IGkXdAok2vh"
      },
      "execution_count": 74,
      "outputs": []
    },
    {
      "cell_type": "code",
      "source": [
        "# Get A Summary\n",
        "model_5.summary()"
      ],
      "metadata": {
        "colab": {
          "base_uri": "https://localhost:8080/"
        },
        "id": "Mta90-z-ZBvI",
        "outputId": "f1b194fe-4056-4c94-9090-c932c0123b16"
      },
      "execution_count": 75,
      "outputs": [
        {
          "output_type": "stream",
          "name": "stdout",
          "text": [
            "Model: \"Model_5_GRU\"\n",
            "_________________________________________________________________\n",
            " Layer (type)                Output Shape              Param #   \n",
            "=================================================================\n",
            " input_5 (InputLayer)        [(None, 1)]               0         \n",
            "                                                                 \n",
            " text_vectorization_1 (TextV  (None, 15)               0         \n",
            " ectorization)                                                   \n",
            "                                                                 \n",
            " embedding (Embedding)       (None, 15, 128)           128000    \n",
            "                                                                 \n",
            " gru (GRU)                   (None, 15, 64)            37248     \n",
            "                                                                 \n",
            " dense_6 (Dense)             (None, 15, 64)            4160      \n",
            "                                                                 \n",
            " global_average_pooling1d_1   (None, 64)               0         \n",
            " (GlobalAveragePooling1D)                                        \n",
            "                                                                 \n",
            " dense_7 (Dense)             (None, 1)                 65        \n",
            "                                                                 \n",
            "=================================================================\n",
            "Total params: 169,473\n",
            "Trainable params: 169,473\n",
            "Non-trainable params: 0\n",
            "_________________________________________________________________\n"
          ]
        }
      ]
    },
    {
      "cell_type": "code",
      "source": [
        "#Compile The Model\n",
        "\n",
        "model_5.compile(loss = 'binary_crossentropy',\n",
        "                optimizer = tf.keras.optimizers.Adam(),\n",
        "                metrics=['accuracy'])\n",
        "\n",
        "# Fit The Model\n",
        "\n",
        "model_5_history = model_5.fit(train_sentences,\n",
        "                              train_labels,\n",
        "                              epochs=5,\n",
        "                              validation_data = (val_sentences, val_labels),\n",
        "                              callbacks = [create_tensorboard_callback(SAVE_DIR,\n",
        "                                                                       'model_5_GRU')])"
      ],
      "metadata": {
        "colab": {
          "base_uri": "https://localhost:8080/"
        },
        "id": "t9132Ng7ZGoy",
        "outputId": "6098483f-519f-4738-f8f5-68a4194e381f"
      },
      "execution_count": 76,
      "outputs": [
        {
          "output_type": "stream",
          "name": "stdout",
          "text": [
            "Saving TensorBoard log files to: model_logs/model_5_GRU/20220416-190957\n",
            "Epoch 1/5\n",
            "215/215 [==============================] - 5s 12ms/step - loss: 0.3884 - accuracy: 0.8342 - val_loss: 0.5277 - val_accuracy: 0.7730\n",
            "Epoch 2/5\n",
            "215/215 [==============================] - 2s 10ms/step - loss: 0.3280 - accuracy: 0.8556 - val_loss: 0.5350 - val_accuracy: 0.7664\n",
            "Epoch 3/5\n",
            "215/215 [==============================] - 2s 10ms/step - loss: 0.2898 - accuracy: 0.8730 - val_loss: 0.5704 - val_accuracy: 0.7533\n",
            "Epoch 4/5\n",
            "215/215 [==============================] - 2s 10ms/step - loss: 0.2659 - accuracy: 0.8831 - val_loss: 0.7021 - val_accuracy: 0.7559\n",
            "Epoch 5/5\n",
            "215/215 [==============================] - 2s 10ms/step - loss: 0.2397 - accuracy: 0.8952 - val_loss: 0.8273 - val_accuracy: 0.7520\n"
          ]
        }
      ]
    },
    {
      "cell_type": "code",
      "source": [
        "# Make Our Prediction with GRU Model\n",
        "\n",
        "model_5_pred_probs = model_5.predict(val_sentences)\n",
        "model_5_pred_probs[:10]"
      ],
      "metadata": {
        "colab": {
          "base_uri": "https://localhost:8080/"
        },
        "id": "uNiLZUHLaz4C",
        "outputId": "3632d84a-6a95-4d22-dd6a-05a5d8660633"
      },
      "execution_count": 77,
      "outputs": [
        {
          "output_type": "execute_result",
          "data": {
            "text/plain": [
              "array([[0.8491338 ],\n",
              "       [0.93169975],\n",
              "       [0.99378794],\n",
              "       [0.02540666],\n",
              "       [0.31184602],\n",
              "       [0.99999464],\n",
              "       [0.99608046],\n",
              "       [0.9987062 ],\n",
              "       [0.7853565 ],\n",
              "       [0.02763234]], dtype=float32)"
            ]
          },
          "metadata": {},
          "execution_count": 77
        }
      ]
    },
    {
      "cell_type": "code",
      "source": [
        "# Convert Model 5 Pred Probs into labels\n",
        "\n",
        "model_5_preds = tf.squeeze(tf.round(model_5_pred_probs))\n",
        "model_5_preds[:10]"
      ],
      "metadata": {
        "colab": {
          "base_uri": "https://localhost:8080/"
        },
        "id": "cnGNzSerbZck",
        "outputId": "f962b701-f89b-4b80-aeb1-7c4262b03917"
      },
      "execution_count": 78,
      "outputs": [
        {
          "output_type": "execute_result",
          "data": {
            "text/plain": [
              "<tf.Tensor: shape=(10,), dtype=float32, numpy=array([1., 1., 1., 0., 0., 1., 1., 1., 1., 0.], dtype=float32)>"
            ]
          },
          "metadata": {},
          "execution_count": 78
        }
      ]
    },
    {
      "cell_type": "code",
      "source": [
        "# Calculate Model 5 Results\n",
        "\n",
        "model_5_results = calculate_results(y_true = val_labels,\n",
        "                                    y_pred = model_5_preds)\n",
        "model_5_results"
      ],
      "metadata": {
        "colab": {
          "base_uri": "https://localhost:8080/"
        },
        "id": "X7s_qzqPbkPQ",
        "outputId": "0ea511fb-f3fb-4a1c-e353-390774b6855c"
      },
      "execution_count": 79,
      "outputs": [
        {
          "output_type": "execute_result",
          "data": {
            "text/plain": [
              "{'F1': 0.7495053197991575,\n",
              " 'Recall': 0.7519685039370079,\n",
              " 'accuracy': 75.19685039370079,\n",
              " 'precision': 0.753441444327358}"
            ]
          },
          "metadata": {},
          "execution_count": 79
        }
      ]
    },
    {
      "cell_type": "code",
      "source": [
        "baseline_results"
      ],
      "metadata": {
        "colab": {
          "base_uri": "https://localhost:8080/"
        },
        "id": "K6BndrPCb2Qq",
        "outputId": "f3257943-9c9a-46ca-bea5-68b1fa04fb86"
      },
      "execution_count": 80,
      "outputs": [
        {
          "output_type": "execute_result",
          "data": {
            "text/plain": [
              "{'F1': 0.7862189758049549,\n",
              " 'Recall': 0.7926509186351706,\n",
              " 'accuracy': 79.26509186351706,\n",
              " 'precision': 0.8111390004213173}"
            ]
          },
          "metadata": {},
          "execution_count": 80
        }
      ]
    },
    {
      "cell_type": "markdown",
      "source": [
        "### **Model No 6**"
      ],
      "metadata": {
        "id": "3CDbIqiFb5yO"
      }
    },
    {
      "cell_type": "code",
      "source": [
        "from tensorflow.keras import layers\n",
        "\n",
        "inputs = layers.Input(shape=(1,), dtype=tf.string)\n",
        "x= text_vectorizor(inputs)\n",
        "x=embedding(x)\n",
        "x= layers.GRU(64, return_sequences=True)(x)\n",
        "x=layers.LSTM(64, return_sequences=True)(x)\n",
        "# x=layers.GRU(99)(x)\n",
        "x=layers.Dense(64, activation='relu')(x)\n",
        "x=layers.GlobalAveragePooling1D()(x)\n",
        "outputs = layers.Dense(1,activation='relu')(x)\n",
        "model_6= tf.keras.Model(inputs, outputs, name='model_6_GRU')"
      ],
      "metadata": {
        "id": "zy0lePfLb4p1"
      },
      "execution_count": 81,
      "outputs": []
    },
    {
      "cell_type": "code",
      "source": [
        "# Get Model Summary\n",
        "\n",
        "model_6.summary()"
      ],
      "metadata": {
        "colab": {
          "base_uri": "https://localhost:8080/"
        },
        "id": "4Cm9Q_ysdII7",
        "outputId": "15b5156b-efc6-45a1-98a0-aa7444adf2a3"
      },
      "execution_count": 82,
      "outputs": [
        {
          "output_type": "stream",
          "name": "stdout",
          "text": [
            "Model: \"model_6_GRU\"\n",
            "_________________________________________________________________\n",
            " Layer (type)                Output Shape              Param #   \n",
            "=================================================================\n",
            " input_6 (InputLayer)        [(None, 1)]               0         \n",
            "                                                                 \n",
            " text_vectorization_1 (TextV  (None, 15)               0         \n",
            " ectorization)                                                   \n",
            "                                                                 \n",
            " embedding (Embedding)       (None, 15, 128)           128000    \n",
            "                                                                 \n",
            " gru_1 (GRU)                 (None, 15, 64)            37248     \n",
            "                                                                 \n",
            " lstm_4 (LSTM)               (None, 15, 64)            33024     \n",
            "                                                                 \n",
            " dense_8 (Dense)             (None, 15, 64)            4160      \n",
            "                                                                 \n",
            " global_average_pooling1d_2   (None, 64)               0         \n",
            " (GlobalAveragePooling1D)                                        \n",
            "                                                                 \n",
            " dense_9 (Dense)             (None, 1)                 65        \n",
            "                                                                 \n",
            "=================================================================\n",
            "Total params: 202,497\n",
            "Trainable params: 202,497\n",
            "Non-trainable params: 0\n",
            "_________________________________________________________________\n"
          ]
        }
      ]
    },
    {
      "cell_type": "code",
      "source": [
        "# Compile The Model\n",
        "\n",
        "model_6.compile(loss = 'binary_crossentropy',\n",
        "                optimizer = tf.keras.optimizers.Adam(),\n",
        "                metrics=['accuracy'])\n",
        "\n",
        "\n",
        "# Fit The Model\n",
        "\n",
        "model_6_history = model_6.fit(train_sentences,\n",
        "                              train_labels,\n",
        "                              epochs=5,\n",
        "                              validation_data = (val_sentences, val_labels),\n",
        "                              callbacks=[create_tensorboard_callback(SAVE_DIR,\n",
        "                                                                     'model_6_GRU')])"
      ],
      "metadata": {
        "colab": {
          "base_uri": "https://localhost:8080/"
        },
        "id": "1fctCK9NePCN",
        "outputId": "d696cd08-7d1e-40ce-83c3-d647aed3b138"
      },
      "execution_count": 83,
      "outputs": [
        {
          "output_type": "stream",
          "name": "stdout",
          "text": [
            "Saving TensorBoard log files to: model_logs/model_6_GRU/20220416-191013\n",
            "Epoch 1/5\n",
            "215/215 [==============================] - 9s 20ms/step - loss: 0.5060 - accuracy: 0.7964 - val_loss: 0.6246 - val_accuracy: 0.7743\n",
            "Epoch 2/5\n",
            "215/215 [==============================] - 3s 15ms/step - loss: 0.3915 - accuracy: 0.8475 - val_loss: 1.0813 - val_accuracy: 0.7677\n",
            "Epoch 3/5\n",
            "215/215 [==============================] - 3s 15ms/step - loss: 0.3872 - accuracy: 0.8386 - val_loss: 0.6582 - val_accuracy: 0.7126\n",
            "Epoch 4/5\n",
            "215/215 [==============================] - 3s 15ms/step - loss: 0.4067 - accuracy: 0.8462 - val_loss: 0.9691 - val_accuracy: 0.7651\n",
            "Epoch 5/5\n",
            "215/215 [==============================] - 3s 15ms/step - loss: 0.3538 - accuracy: 0.8656 - val_loss: 1.3241 - val_accuracy: 0.7730\n"
          ]
        }
      ]
    },
    {
      "cell_type": "code",
      "source": [
        "# Make Predictions With GRU Model\n",
        "\n",
        "model_6_pred_probs = model_6.predict(val_sentences)\n",
        "model_6_pred_probs[:10]"
      ],
      "metadata": {
        "colab": {
          "base_uri": "https://localhost:8080/"
        },
        "id": "cTTZLE1mfQMA",
        "outputId": "3d8a5eac-d24d-4b28-fccb-80a312e094d9"
      },
      "execution_count": 84,
      "outputs": [
        {
          "output_type": "execute_result",
          "data": {
            "text/plain": [
              "array([[0.5393749 ],\n",
              "       [0.9303001 ],\n",
              "       [1.6116344 ],\n",
              "       [0.01919845],\n",
              "       [0.14982104],\n",
              "       [2.7591884 ],\n",
              "       [1.4739642 ],\n",
              "       [1.1441404 ],\n",
              "       [0.5068976 ],\n",
              "       [0.21729761]], dtype=float32)"
            ]
          },
          "metadata": {},
          "execution_count": 84
        }
      ]
    },
    {
      "cell_type": "code",
      "source": [
        "# Convert Model 6 Pred probs into Labels\n",
        "model_6_preds = tf.squeeze(tf.round(model_6_pred_probs))\n",
        "model_6_preds[:10]"
      ],
      "metadata": {
        "colab": {
          "base_uri": "https://localhost:8080/"
        },
        "id": "lELgSUkpfhcF",
        "outputId": "a913ebfa-bae9-4d75-a960-46d1ce95a771"
      },
      "execution_count": 85,
      "outputs": [
        {
          "output_type": "execute_result",
          "data": {
            "text/plain": [
              "<tf.Tensor: shape=(10,), dtype=float32, numpy=array([1., 1., 2., 0., 0., 3., 1., 1., 1., 0.], dtype=float32)>"
            ]
          },
          "metadata": {},
          "execution_count": 85
        }
      ]
    },
    {
      "cell_type": "code",
      "source": [
        "# Calculate Results\n",
        "\n",
        "model_6_results = calculate_results(y_true = val_labels,\n",
        "                                    y_pred = model_6_preds )\n",
        "\n",
        "model_6_results"
      ],
      "metadata": {
        "colab": {
          "base_uri": "https://localhost:8080/"
        },
        "id": "uS7wJqwBged_",
        "outputId": "033cb950-3a5c-4da6-cfcc-4783082eac45"
      },
      "execution_count": 86,
      "outputs": [
        {
          "output_type": "stream",
          "name": "stderr",
          "text": [
            "/usr/local/lib/python3.7/dist-packages/sklearn/metrics/_classification.py:1318: UndefinedMetricWarning: Recall and F-score are ill-defined and being set to 0.0 in labels with no true samples. Use `zero_division` parameter to control this behavior.\n",
            "  _warn_prf(average, modifier, msg_start, len(result))\n"
          ]
        },
        {
          "output_type": "execute_result",
          "data": {
            "text/plain": [
              "{'F1': 0.6366190448926375,\n",
              " 'Recall': 0.6089238845144357,\n",
              " 'accuracy': 60.892388451443566,\n",
              " 'precision': 0.716747933860565}"
            ]
          },
          "metadata": {},
          "execution_count": 86
        }
      ]
    },
    {
      "cell_type": "code",
      "source": [
        "baseline_results"
      ],
      "metadata": {
        "colab": {
          "base_uri": "https://localhost:8080/"
        },
        "id": "jn_KtofagpFc",
        "outputId": "cdde8677-6254-480c-f5b8-265b2b765117"
      },
      "execution_count": 87,
      "outputs": [
        {
          "output_type": "execute_result",
          "data": {
            "text/plain": [
              "{'F1': 0.7862189758049549,\n",
              " 'Recall': 0.7926509186351706,\n",
              " 'accuracy': 79.26509186351706,\n",
              " 'precision': 0.8111390004213173}"
            ]
          },
          "metadata": {},
          "execution_count": 87
        }
      ]
    },
    {
      "cell_type": "markdown",
      "source": [
        "### **Model No 7**"
      ],
      "metadata": {
        "id": "e-BAxHtwg1br"
      }
    },
    {
      "cell_type": "code",
      "source": [
        "from tensorflow.keras import layers\n",
        "\n",
        "inputs = layers.Input(shape=(1,), dtype = tf.string)\n",
        "x=text_vectorizor(inputs)\n",
        "x= embedding(x)\n",
        "x=layers.GRU(64, return_sequences=True)(x)\n",
        "x=layers.LSTM(42, return_sequences=True)(x)\n",
        "x=layers.GRU(99, return_sequences=True)(x)\n",
        "x=layers.Dense(64, activation='relu')(x)\n",
        "x=layers.GlobalAveragePooling1D()(x)\n",
        "outputs = layers.Dense(1,activation='sigmoid')(x)\n",
        "model_7 = tf.keras.Model(inputs , outputs , name='model_7_GRU')"
      ],
      "metadata": {
        "id": "J6mmmZaBgx8C"
      },
      "execution_count": 88,
      "outputs": []
    },
    {
      "cell_type": "code",
      "source": [
        "# Get A Model Summary\n",
        "\n",
        "model_7.summary()"
      ],
      "metadata": {
        "colab": {
          "base_uri": "https://localhost:8080/"
        },
        "id": "fLerDa5EhmUT",
        "outputId": "c1b0e3c6-9308-4e4d-c110-e4270958f11e"
      },
      "execution_count": 89,
      "outputs": [
        {
          "output_type": "stream",
          "name": "stdout",
          "text": [
            "Model: \"model_7_GRU\"\n",
            "_________________________________________________________________\n",
            " Layer (type)                Output Shape              Param #   \n",
            "=================================================================\n",
            " input_7 (InputLayer)        [(None, 1)]               0         \n",
            "                                                                 \n",
            " text_vectorization_1 (TextV  (None, 15)               0         \n",
            " ectorization)                                                   \n",
            "                                                                 \n",
            " embedding (Embedding)       (None, 15, 128)           128000    \n",
            "                                                                 \n",
            " gru_2 (GRU)                 (None, 15, 64)            37248     \n",
            "                                                                 \n",
            " lstm_5 (LSTM)               (None, 15, 42)            17976     \n",
            "                                                                 \n",
            " gru_3 (GRU)                 (None, 15, 99)            42471     \n",
            "                                                                 \n",
            " dense_10 (Dense)            (None, 15, 64)            6400      \n",
            "                                                                 \n",
            " global_average_pooling1d_3   (None, 64)               0         \n",
            " (GlobalAveragePooling1D)                                        \n",
            "                                                                 \n",
            " dense_11 (Dense)            (None, 1)                 65        \n",
            "                                                                 \n",
            "=================================================================\n",
            "Total params: 232,160\n",
            "Trainable params: 232,160\n",
            "Non-trainable params: 0\n",
            "_________________________________________________________________\n"
          ]
        }
      ]
    },
    {
      "cell_type": "code",
      "source": [
        "# Compile The Model\n",
        "\n",
        "model_7.compile(loss = 'binary_crossentropy',\n",
        "                optimizer = tf.keras.optimizers.Adam(),\n",
        "                metrics=['accuracy'])\n",
        "\n",
        "\n",
        "#Fit The Model\n",
        "\n",
        "model_7_history = model_7.fit(train_sentences,\n",
        "                              train_labels,\n",
        "                              epochs=5,\n",
        "                              validation_data = (val_sentences, val_labels),\n",
        "                              callbacks = [create_tensorboard_callback(SAVE_DIR,\n",
        "                                                                       'model_7_GRU')])"
      ],
      "metadata": {
        "colab": {
          "base_uri": "https://localhost:8080/"
        },
        "id": "3OURuDhVh3gT",
        "outputId": "5451c510-e78c-4f41-80c1-72ff362776c8"
      },
      "execution_count": 90,
      "outputs": [
        {
          "output_type": "stream",
          "name": "stdout",
          "text": [
            "Saving TensorBoard log files to: model_logs/model_7_GRU/20220416-191039\n",
            "Epoch 1/5\n",
            "215/215 [==============================] - 11s 27ms/step - loss: 0.3634 - accuracy: 0.8450 - val_loss: 0.5917 - val_accuracy: 0.7690\n",
            "Epoch 2/5\n",
            "215/215 [==============================] - 5s 21ms/step - loss: 0.2866 - accuracy: 0.8736 - val_loss: 0.7429 - val_accuracy: 0.7598\n",
            "Epoch 3/5\n",
            "215/215 [==============================] - 5s 21ms/step - loss: 0.2521 - accuracy: 0.8918 - val_loss: 0.8851 - val_accuracy: 0.7625\n",
            "Epoch 4/5\n",
            "215/215 [==============================] - 5s 22ms/step - loss: 0.2256 - accuracy: 0.9013 - val_loss: 0.8421 - val_accuracy: 0.7480\n",
            "Epoch 5/5\n",
            "215/215 [==============================] - 5s 21ms/step - loss: 0.2237 - accuracy: 0.9044 - val_loss: 1.0908 - val_accuracy: 0.7507\n"
          ]
        }
      ]
    },
    {
      "cell_type": "code",
      "source": [
        "# Make Our Prediction With GRU Model\n",
        "\n",
        "model_7_pred_probs = model_7.predict(val_sentences)\n",
        "model_7_pred_probs[:10]"
      ],
      "metadata": {
        "colab": {
          "base_uri": "https://localhost:8080/"
        },
        "id": "BbYveWJ1itd3",
        "outputId": "8b0e9e0c-ccff-4bae-c7ed-53557d9913f0"
      },
      "execution_count": 91,
      "outputs": [
        {
          "output_type": "execute_result",
          "data": {
            "text/plain": [
              "array([[0.8896122 ],\n",
              "       [0.99494755],\n",
              "       [0.9982504 ],\n",
              "       [0.03340201],\n",
              "       [0.18722656],\n",
              "       [1.        ],\n",
              "       [0.9992212 ],\n",
              "       [0.99997485],\n",
              "       [0.4569583 ],\n",
              "       [0.00407561]], dtype=float32)"
            ]
          },
          "metadata": {},
          "execution_count": 91
        }
      ]
    },
    {
      "cell_type": "code",
      "source": [
        "# Convert  Model 7 Pred Probs into labels\n",
        "\n",
        "model_7_preds = tf.squeeze(tf.round(model_7_pred_probs))\n",
        "model_7_preds[:10]"
      ],
      "metadata": {
        "colab": {
          "base_uri": "https://localhost:8080/"
        },
        "id": "JelUuivujEad",
        "outputId": "655f4452-5ba4-4d32-ecff-9cb11d41b25c"
      },
      "execution_count": 92,
      "outputs": [
        {
          "output_type": "execute_result",
          "data": {
            "text/plain": [
              "<tf.Tensor: shape=(10,), dtype=float32, numpy=array([1., 1., 1., 0., 0., 1., 1., 1., 0., 0.], dtype=float32)>"
            ]
          },
          "metadata": {},
          "execution_count": 92
        }
      ]
    },
    {
      "cell_type": "code",
      "source": [
        "# Calculate Model 7 Results\n",
        "\n",
        "model_7_results = calculate_results(y_true = val_labels,\n",
        "                                    y_pred = model_7_preds)\n",
        "model_7_results"
      ],
      "metadata": {
        "colab": {
          "base_uri": "https://localhost:8080/"
        },
        "id": "BEuT2xoEjSjo",
        "outputId": "a869c132-97a4-4854-8e18-ce4545e4dc9f"
      },
      "execution_count": 93,
      "outputs": [
        {
          "output_type": "execute_result",
          "data": {
            "text/plain": [
              "{'F1': 0.7496137854312132,\n",
              " 'Recall': 0.7506561679790026,\n",
              " 'accuracy': 75.06561679790026,\n",
              " 'precision': 0.7503421262065562}"
            ]
          },
          "metadata": {},
          "execution_count": 93
        }
      ]
    },
    {
      "cell_type": "code",
      "source": [
        "baseline_results"
      ],
      "metadata": {
        "colab": {
          "base_uri": "https://localhost:8080/"
        },
        "id": "HBMfrZpBjjZz",
        "outputId": "274028c8-072b-4bb0-e602-e1d9213a083a"
      },
      "execution_count": 94,
      "outputs": [
        {
          "output_type": "execute_result",
          "data": {
            "text/plain": [
              "{'F1': 0.7862189758049549,\n",
              " 'Recall': 0.7926509186351706,\n",
              " 'accuracy': 79.26509186351706,\n",
              " 'precision': 0.8111390004213173}"
            ]
          },
          "metadata": {},
          "execution_count": 94
        }
      ]
    },
    {
      "cell_type": "markdown",
      "source": [
        "## **Model No Four : Bi-Directional RNN**\n",
        "\n",
        "**Normal RNN Go From Left to right (Just like you Read English) . However Bidirectional RNN Goes from right to left as well as left to right**\n",
        "\n"
      ],
      "metadata": {
        "id": "mpKZSe71jwkh"
      }
    },
    {
      "cell_type": "code",
      "source": [
        "# Build Bi-Directioanl RNN in tensorflow \n",
        "\n",
        "from tensorflow.keras import layers\n",
        "inputs = layers.Input(shape=(1,), dtype=tf.string)\n",
        "x=text_vectorizor(inputs)\n",
        "x=embedding(x)\n",
        "x=layers.Bidirectional(layers.LSTM(64, return_sequences=True))(x)\n",
        "x= layers.Bidirectional(layers.GRU(64, return_sequences=True))(x)\n",
        "x=layers.GlobalAveragePooling1D()(x)\n",
        "outputs = layers.Dense(1, activation='sigmoid')(x)\n",
        "model_8 = tf.keras.Model(inputs, outputs, name='model_4_bidirectional')"
      ],
      "metadata": {
        "id": "ZXW8bIKUjoH-"
      },
      "execution_count": 95,
      "outputs": []
    },
    {
      "cell_type": "code",
      "source": [
        "# Get A Summary\n",
        "\n",
        "model_8.summary()"
      ],
      "metadata": {
        "colab": {
          "base_uri": "https://localhost:8080/"
        },
        "id": "qt1HnkNXk-cm",
        "outputId": "f83cfab1-dc62-4bce-f88f-c5cfa026f3be"
      },
      "execution_count": 96,
      "outputs": [
        {
          "output_type": "stream",
          "name": "stdout",
          "text": [
            "Model: \"model_4_bidirectional\"\n",
            "_________________________________________________________________\n",
            " Layer (type)                Output Shape              Param #   \n",
            "=================================================================\n",
            " input_8 (InputLayer)        [(None, 1)]               0         \n",
            "                                                                 \n",
            " text_vectorization_1 (TextV  (None, 15)               0         \n",
            " ectorization)                                                   \n",
            "                                                                 \n",
            " embedding (Embedding)       (None, 15, 128)           128000    \n",
            "                                                                 \n",
            " bidirectional (Bidirectiona  (None, 15, 128)          98816     \n",
            " l)                                                              \n",
            "                                                                 \n",
            " bidirectional_1 (Bidirectio  (None, 15, 128)          74496     \n",
            " nal)                                                            \n",
            "                                                                 \n",
            " global_average_pooling1d_4   (None, 128)              0         \n",
            " (GlobalAveragePooling1D)                                        \n",
            "                                                                 \n",
            " dense_12 (Dense)            (None, 1)                 129       \n",
            "                                                                 \n",
            "=================================================================\n",
            "Total params: 301,441\n",
            "Trainable params: 301,441\n",
            "Non-trainable params: 0\n",
            "_________________________________________________________________\n"
          ]
        }
      ]
    },
    {
      "cell_type": "code",
      "source": [
        "# Compile The Model\n",
        "\n",
        "model_8.compile(loss = 'binary_crossentropy',\n",
        "                optimizer = tf.keras.optimizers.Adam(),\n",
        "                metrics=['accuracy'])\n",
        "\n",
        "#Fit The Model\n",
        "\n",
        "model_8_history = model_8.fit(train_sentences,\n",
        "                              train_labels,\n",
        "                              epochs=5,\n",
        "                              validation_data = (val_sentences, val_labels) ,\n",
        "                              callbacks = [create_tensorboard_callback(SAVE_DIR,\n",
        "                                                                       'model_8_bidirectional')])"
      ],
      "metadata": {
        "colab": {
          "base_uri": "https://localhost:8080/"
        },
        "id": "_dulWKqelCq7",
        "outputId": "55915046-9df0-439e-e5d8-3e906476ef8b"
      },
      "execution_count": 97,
      "outputs": [
        {
          "output_type": "stream",
          "name": "stdout",
          "text": [
            "Saving TensorBoard log files to: model_logs/model_8_bidirectional/20220416-191128\n",
            "Epoch 1/5\n",
            "215/215 [==============================] - 14s 31ms/step - loss: 0.3219 - accuracy: 0.8680 - val_loss: 0.6222 - val_accuracy: 0.7533\n",
            "Epoch 2/5\n",
            "215/215 [==============================] - 5s 23ms/step - loss: 0.2427 - accuracy: 0.8972 - val_loss: 0.8060 - val_accuracy: 0.7507\n",
            "Epoch 3/5\n",
            "215/215 [==============================] - 5s 23ms/step - loss: 0.2118 - accuracy: 0.9079 - val_loss: 0.8337 - val_accuracy: 0.7349\n",
            "Epoch 4/5\n",
            "215/215 [==============================] - 5s 23ms/step - loss: 0.2062 - accuracy: 0.9078 - val_loss: 0.9097 - val_accuracy: 0.7533\n",
            "Epoch 5/5\n",
            "215/215 [==============================] - 5s 23ms/step - loss: 0.1819 - accuracy: 0.9158 - val_loss: 1.0498 - val_accuracy: 0.7349\n"
          ]
        }
      ]
    },
    {
      "cell_type": "code",
      "source": [
        "# Make Predictions with our Bi-Directional Model\n",
        "\n",
        "model_8_pred_probs = model_8.predict(val_sentences)\n",
        "model_8_pred_probs[:10]"
      ],
      "metadata": {
        "colab": {
          "base_uri": "https://localhost:8080/"
        },
        "id": "3qtQumtEltIy",
        "outputId": "8721a8a3-38bd-424a-8e43-2cd8a2e5c7a1"
      },
      "execution_count": 98,
      "outputs": [
        {
          "output_type": "execute_result",
          "data": {
            "text/plain": [
              "array([[0.96299225],\n",
              "       [0.8106273 ],\n",
              "       [0.99877495],\n",
              "       [0.05186384],\n",
              "       [0.14588991],\n",
              "       [0.9999466 ],\n",
              "       [0.9997563 ],\n",
              "       [0.99444747],\n",
              "       [0.73938364],\n",
              "       [0.00458143]], dtype=float32)"
            ]
          },
          "metadata": {},
          "execution_count": 98
        }
      ]
    },
    {
      "cell_type": "code",
      "source": [
        "# Convert Pred Prob to Pred Labels\n",
        "\n",
        "model_8_preds = tf.squeeze(tf.round(model_8_pred_probs))\n",
        "model_8_preds[:10]"
      ],
      "metadata": {
        "colab": {
          "base_uri": "https://localhost:8080/"
        },
        "id": "wg46wSqrl_T5",
        "outputId": "3077f310-d8df-4702-c604-f47d26d74d76"
      },
      "execution_count": 99,
      "outputs": [
        {
          "output_type": "execute_result",
          "data": {
            "text/plain": [
              "<tf.Tensor: shape=(10,), dtype=float32, numpy=array([1., 1., 1., 0., 0., 1., 1., 1., 1., 0.], dtype=float32)>"
            ]
          },
          "metadata": {},
          "execution_count": 99
        }
      ]
    },
    {
      "cell_type": "code",
      "source": [
        "# Calculate Results of Bi-Directional Model\n",
        "\n",
        "model_8_results = calculate_results(y_true = val_labels,\n",
        "                                    y_pred = model_8_preds)\n",
        "model_8_results"
      ],
      "metadata": {
        "colab": {
          "base_uri": "https://localhost:8080/"
        },
        "id": "e_8Z3rF2mP8S",
        "outputId": "a47c7c7a-c535-4cc2-8b5d-d7a936d044cc"
      },
      "execution_count": 100,
      "outputs": [
        {
          "output_type": "execute_result",
          "data": {
            "text/plain": [
              "{'F1': 0.7352054728203838,\n",
              " 'Recall': 0.7349081364829396,\n",
              " 'accuracy': 73.49081364829397,\n",
              " 'precision': 0.7358672516681682}"
            ]
          },
          "metadata": {},
          "execution_count": 100
        }
      ]
    },
    {
      "cell_type": "code",
      "source": [
        "baseline_results"
      ],
      "metadata": {
        "colab": {
          "base_uri": "https://localhost:8080/"
        },
        "id": "Bs0P8eTZmiGS",
        "outputId": "98ded218-6ac0-425f-9c90-70b697d596bb"
      },
      "execution_count": 101,
      "outputs": [
        {
          "output_type": "execute_result",
          "data": {
            "text/plain": [
              "{'F1': 0.7862189758049549,\n",
              " 'Recall': 0.7926509186351706,\n",
              " 'accuracy': 79.26509186351706,\n",
              " 'precision': 0.8111390004213173}"
            ]
          },
          "metadata": {},
          "execution_count": 101
        }
      ]
    },
    {
      "cell_type": "markdown",
      "source": [
        "### **Model No 9**"
      ],
      "metadata": {
        "id": "0OHREPkFm5bS"
      }
    },
    {
      "cell_type": "code",
      "source": [
        "from tensorflow.keras import layers\n",
        "inputs = layers.Input(shape=(1,), dtype=tf.string)\n",
        "x=text_vectorizor(inputs)\n",
        "x=embedding(x)\n",
        "x=layers.Bidirectional(layers.LSTM(64, return_sequences=True))(x)\n",
        "x=layers.Bidirectional(layers.GRU(64, return_sequences=True))(x)\n",
        "x=layers.GlobalMaxPooling1D()(x)\n",
        "outputs=layers.Dense(1,activation='sigmoid')(x)\n",
        "model_9 = tf.keras.Model(inputs, outputs , name='model_9_bi-directional')"
      ],
      "metadata": {
        "id": "bei5nDhampm0"
      },
      "execution_count": 102,
      "outputs": []
    },
    {
      "cell_type": "code",
      "source": [
        "# Get Model Summary\n",
        "\n",
        "model_9.summary()"
      ],
      "metadata": {
        "colab": {
          "base_uri": "https://localhost:8080/"
        },
        "id": "Gvs_1ApJni3a",
        "outputId": "7e459e06-358d-47f0-fc08-97b177d69a7e"
      },
      "execution_count": 103,
      "outputs": [
        {
          "output_type": "stream",
          "name": "stdout",
          "text": [
            "Model: \"model_9_bi-directional\"\n",
            "_________________________________________________________________\n",
            " Layer (type)                Output Shape              Param #   \n",
            "=================================================================\n",
            " input_9 (InputLayer)        [(None, 1)]               0         \n",
            "                                                                 \n",
            " text_vectorization_1 (TextV  (None, 15)               0         \n",
            " ectorization)                                                   \n",
            "                                                                 \n",
            " embedding (Embedding)       (None, 15, 128)           128000    \n",
            "                                                                 \n",
            " bidirectional_2 (Bidirectio  (None, 15, 128)          98816     \n",
            " nal)                                                            \n",
            "                                                                 \n",
            " bidirectional_3 (Bidirectio  (None, 15, 128)          74496     \n",
            " nal)                                                            \n",
            "                                                                 \n",
            " global_max_pooling1d (Globa  (None, 128)              0         \n",
            " lMaxPooling1D)                                                  \n",
            "                                                                 \n",
            " dense_13 (Dense)            (None, 1)                 129       \n",
            "                                                                 \n",
            "=================================================================\n",
            "Total params: 301,441\n",
            "Trainable params: 301,441\n",
            "Non-trainable params: 0\n",
            "_________________________________________________________________\n"
          ]
        }
      ]
    },
    {
      "cell_type": "code",
      "source": [
        "# Compile The Model\n",
        "\n",
        "model_9.compile(loss = 'binary_crossentropy',\n",
        "                optimizer = tf.keras.optimizers.Adam(),\n",
        "                metrics=['accuracy'])\n",
        "\n",
        "# Fit The Model\n",
        "\n",
        "model_9_history = model_9.fit(train_sentences,\n",
        "                              train_labels,\n",
        "                              epochs=5,\n",
        "                              validation_data = (val_sentences,val_labels),\n",
        "                              callbacks = [create_tensorboard_callback(SAVE_DIR,\n",
        "                                                                       'model_9_bi-directional')])"
      ],
      "metadata": {
        "colab": {
          "base_uri": "https://localhost:8080/"
        },
        "id": "rDEHct_ioTH9",
        "outputId": "3ef30ccc-2092-4429-a52b-d32581c1863e"
      },
      "execution_count": 104,
      "outputs": [
        {
          "output_type": "stream",
          "name": "stdout",
          "text": [
            "Saving TensorBoard log files to: model_logs/model_9_bi-directional/20220416-191219\n",
            "Epoch 1/5\n",
            "215/215 [==============================] - 14s 31ms/step - loss: 0.3121 - accuracy: 0.8701 - val_loss: 0.7473 - val_accuracy: 0.7520\n",
            "Epoch 2/5\n",
            "215/215 [==============================] - 5s 24ms/step - loss: 0.2170 - accuracy: 0.9067 - val_loss: 0.9491 - val_accuracy: 0.7480\n",
            "Epoch 3/5\n",
            "215/215 [==============================] - 5s 23ms/step - loss: 0.1865 - accuracy: 0.9177 - val_loss: 0.8375 - val_accuracy: 0.7454\n",
            "Epoch 4/5\n",
            "215/215 [==============================] - 5s 23ms/step - loss: 0.1799 - accuracy: 0.9215 - val_loss: 0.9818 - val_accuracy: 0.7533\n",
            "Epoch 5/5\n",
            "215/215 [==============================] - 5s 24ms/step - loss: 0.1687 - accuracy: 0.9221 - val_loss: 1.0695 - val_accuracy: 0.7467\n"
          ]
        }
      ]
    },
    {
      "cell_type": "code",
      "source": [
        "# Make Predictions With Our Bi-Directional Model\n",
        "\n",
        "model_9_pred_probs = model_9.predict(val_sentences)\n",
        "model_9_pred_probs[:10]"
      ],
      "metadata": {
        "colab": {
          "base_uri": "https://localhost:8080/"
        },
        "id": "OoYTpumro0Qm",
        "outputId": "df21aa75-b3af-4f25-a2c4-c760fb4c7f6c"
      },
      "execution_count": 105,
      "outputs": [
        {
          "output_type": "execute_result",
          "data": {
            "text/plain": [
              "array([[0.08861699],\n",
              "       [0.84033644],\n",
              "       [0.9984333 ],\n",
              "       [0.02075341],\n",
              "       [0.1549552 ],\n",
              "       [0.999286  ],\n",
              "       [0.96411806],\n",
              "       [0.9357069 ],\n",
              "       [0.37504596],\n",
              "       [0.00118519]], dtype=float32)"
            ]
          },
          "metadata": {},
          "execution_count": 105
        }
      ]
    },
    {
      "cell_type": "code",
      "source": [
        "# Convert Pred Probs to pred labels\n",
        "\n",
        "model_9_preds = tf.squeeze(tf.round(model_9_pred_probs))\n",
        "model_9_preds[:10]"
      ],
      "metadata": {
        "colab": {
          "base_uri": "https://localhost:8080/"
        },
        "id": "i_ANG3rWpDWP",
        "outputId": "efc3527b-9702-4ba6-8eed-d038eaf02dc8"
      },
      "execution_count": 106,
      "outputs": [
        {
          "output_type": "execute_result",
          "data": {
            "text/plain": [
              "<tf.Tensor: shape=(10,), dtype=float32, numpy=array([0., 1., 1., 0., 0., 1., 1., 1., 0., 0.], dtype=float32)>"
            ]
          },
          "metadata": {},
          "execution_count": 106
        }
      ]
    },
    {
      "cell_type": "code",
      "source": [
        "# Calculate Results\n",
        "\n",
        "model_9_results = calculate_results(y_true = val_labels,\n",
        "                                    y_pred = model_9_preds)\n",
        "model_9_results"
      ],
      "metadata": {
        "colab": {
          "base_uri": "https://localhost:8080/"
        },
        "id": "lgs_qFtPpQ64",
        "outputId": "2298d41f-6f29-4f1c-d393-0c575d50422c"
      },
      "execution_count": 107,
      "outputs": [
        {
          "output_type": "execute_result",
          "data": {
            "text/plain": [
              "{'F1': 0.741942730700961,\n",
              " 'Recall': 0.7467191601049868,\n",
              " 'accuracy': 74.67191601049869,\n",
              " 'precision': 0.7524191024021949}"
            ]
          },
          "metadata": {},
          "execution_count": 107
        }
      ]
    },
    {
      "cell_type": "code",
      "source": [
        "baseline_results"
      ],
      "metadata": {
        "colab": {
          "base_uri": "https://localhost:8080/"
        },
        "id": "HRUZy3njphzs",
        "outputId": "0605e326-6c39-46cf-f6c9-bbe767062eab"
      },
      "execution_count": 108,
      "outputs": [
        {
          "output_type": "execute_result",
          "data": {
            "text/plain": [
              "{'F1': 0.7862189758049549,\n",
              " 'Recall': 0.7926509186351706,\n",
              " 'accuracy': 79.26509186351706,\n",
              " 'precision': 0.8111390004213173}"
            ]
          },
          "metadata": {},
          "execution_count": 108
        }
      ]
    },
    {
      "cell_type": "markdown",
      "source": [
        "## **CNN For Text (and Other Types Of Sequences)**\n",
        "\n",
        "**We have Used CNN's for images but images are Typically 2D(height x Width) . However Our Text Data is 1-D**\n",
        "\n",
        "## **Architecture of CNN 1-D For Text**\n",
        "\n",
        "**Inputs -- Text-Vectorizational-layer -- Embedding-layer -- Conv-1d-layer -- Max-pooling-layer -- Dense-layer -- Outputs** \n",
        "\n",
        "**Typical Sutructure of Conv1D for Our Case is**\n",
        "\n",
        "**inputs(text) -- Tokenization -- Embedding layer (Typically Conv1D + Pooling) -- Outputs(class Probability)**"
      ],
      "metadata": {
        "id": "X1u0rLoWpq1-"
      }
    },
    {
      "cell_type": "markdown",
      "source": [
        "## **Model No Five : CONV-1D**"
      ],
      "metadata": {
        "id": "myYd5nyyrP1u"
      }
    },
    {
      "cell_type": "code",
      "source": [
        "from tensorflow.keras import layers \n",
        "embedding_text = embedding(text_vectorizor(['this is A Test Sentence']))\n",
        "conv_1D = layers.Conv1D(filters = 32,\n",
        "                        kernel_size=5,\n",
        "                        activation='relu',\n",
        "                        padding = 'valid')\n",
        "conv_1D_output = conv_1D(embedding_text)\n",
        "max_pool = layers.GlobalMaxPool1D()\n",
        "max_pool_output = max_pool(conv_1D_output)"
      ],
      "metadata": {
        "id": "Da2IO7kNpmQY"
      },
      "execution_count": 109,
      "outputs": []
    },
    {
      "cell_type": "markdown",
      "source": [
        "## **Create-1-Dimensional Convolutional Layers**"
      ],
      "metadata": {
        "id": "FmYazGUus07q"
      }
    },
    {
      "cell_type": "code",
      "source": [
        "from tensorflow.keras import layers\n",
        "inputs = layers.Input(shape=(1,), dtype=tf.string)\n",
        "x=text_vectorizor(inputs)\n",
        "x=embedding(x)\n",
        "x=layers.Conv1D(filters = 64,\n",
        "                kernel_size=5,\n",
        "                activation='relu',\n",
        "                padding='valid')(x)\n",
        "x= layers.GlobalMaxPool1D()(x)\n",
        "x= layers.Dense(64, activation='relu')(x)\n",
        "outputs=layers.Dense(1, activation='sigmoid')(x)\n",
        "model_10 = tf.keras.Model(inputs, outputs, name='Model_10_Conv1D')                "
      ],
      "metadata": {
        "id": "bO8RTySRspvb"
      },
      "execution_count": 110,
      "outputs": []
    },
    {
      "cell_type": "code",
      "source": [
        "# Compile The ConV1D\n",
        "\n",
        "model_10.compile(loss = 'binary_crossentropy',\n",
        "                 optimizer = tf.keras.optimizers.Adam(),\n",
        "                 metrics=['accuracy'])"
      ],
      "metadata": {
        "id": "twltDNDytvfG"
      },
      "execution_count": 111,
      "outputs": []
    },
    {
      "cell_type": "code",
      "source": [
        "model_10.summary()"
      ],
      "metadata": {
        "colab": {
          "base_uri": "https://localhost:8080/"
        },
        "id": "e4RMlVCauKKe",
        "outputId": "e430453a-1e23-424b-dacc-f3a9d9b5a4cb"
      },
      "execution_count": 112,
      "outputs": [
        {
          "output_type": "stream",
          "name": "stdout",
          "text": [
            "Model: \"Model_10_Conv1D\"\n",
            "_________________________________________________________________\n",
            " Layer (type)                Output Shape              Param #   \n",
            "=================================================================\n",
            " input_10 (InputLayer)       [(None, 1)]               0         \n",
            "                                                                 \n",
            " text_vectorization_1 (TextV  (None, 15)               0         \n",
            " ectorization)                                                   \n",
            "                                                                 \n",
            " embedding (Embedding)       (None, 15, 128)           128000    \n",
            "                                                                 \n",
            " conv1d_1 (Conv1D)           (None, 11, 64)            41024     \n",
            "                                                                 \n",
            " global_max_pooling1d_2 (Glo  (None, 64)               0         \n",
            " balMaxPooling1D)                                                \n",
            "                                                                 \n",
            " dense_14 (Dense)            (None, 64)                4160      \n",
            "                                                                 \n",
            " dense_15 (Dense)            (None, 1)                 65        \n",
            "                                                                 \n",
            "=================================================================\n",
            "Total params: 173,249\n",
            "Trainable params: 173,249\n",
            "Non-trainable params: 0\n",
            "_________________________________________________________________\n"
          ]
        }
      ]
    },
    {
      "cell_type": "code",
      "source": [
        "# Fit The Model\n",
        "\n",
        "model_10_history = model_10.fit(train_sentences,\n",
        "                                train_labels,\n",
        "                                epochs=5,\n",
        "                                validation_data = (val_sentences, val_labels),\n",
        "                                callbacks=[create_tensorboard_callback(SAVE_DIR,\n",
        "                                                                       'model_10_conv-1D')])"
      ],
      "metadata": {
        "colab": {
          "base_uri": "https://localhost:8080/"
        },
        "id": "222OynUduMdd",
        "outputId": "4345c9d7-0298-40bd-cb62-608e61daf9ed"
      },
      "execution_count": 113,
      "outputs": [
        {
          "output_type": "stream",
          "name": "stdout",
          "text": [
            "Saving TensorBoard log files to: model_logs/model_10_conv-1D/20220416-191314\n",
            "Epoch 1/5\n",
            "215/215 [==============================] - 3s 8ms/step - loss: 0.3576 - accuracy: 0.8444 - val_loss: 0.5871 - val_accuracy: 0.7651\n",
            "Epoch 2/5\n",
            "215/215 [==============================] - 1s 7ms/step - loss: 0.2886 - accuracy: 0.8770 - val_loss: 0.6571 - val_accuracy: 0.7507\n",
            "Epoch 3/5\n",
            "215/215 [==============================] - 1s 7ms/step - loss: 0.2498 - accuracy: 0.8899 - val_loss: 0.7330 - val_accuracy: 0.7677\n",
            "Epoch 4/5\n",
            "215/215 [==============================] - 1s 7ms/step - loss: 0.2160 - accuracy: 0.9066 - val_loss: 0.9057 - val_accuracy: 0.7625\n",
            "Epoch 5/5\n",
            "215/215 [==============================] - 1s 7ms/step - loss: 0.1783 - accuracy: 0.9216 - val_loss: 1.0608 - val_accuracy: 0.7349\n"
          ]
        }
      ]
    },
    {
      "cell_type": "code",
      "source": [
        "# Make Predictions With Our Conv1D Layer\n",
        "\n",
        "model_10_pred_probs = model_10.predict(val_sentences)\n",
        "model_10_pred_probs[:10]"
      ],
      "metadata": {
        "colab": {
          "base_uri": "https://localhost:8080/"
        },
        "id": "wYP6MYKWuld3",
        "outputId": "b4067e54-9dd2-4e0c-8da9-b4e62dbc1d35"
      },
      "execution_count": 114,
      "outputs": [
        {
          "output_type": "execute_result",
          "data": {
            "text/plain": [
              "array([[5.5138189e-01],\n",
              "       [4.8371914e-01],\n",
              "       [5.3458375e-01],\n",
              "       [3.9464954e-04],\n",
              "       [3.3952421e-01],\n",
              "       [9.9999988e-01],\n",
              "       [7.1721250e-01],\n",
              "       [9.9978751e-01],\n",
              "       [1.7919137e-01],\n",
              "       [6.9356295e-03]], dtype=float32)"
            ]
          },
          "metadata": {},
          "execution_count": 114
        }
      ]
    },
    {
      "cell_type": "code",
      "source": [
        "# Convert Model 10 Pred Probs to label\n",
        "\n",
        "model_10_preds = tf.squeeze(tf.round(model_5_pred_probs))\n",
        "model_10_preds[:10]"
      ],
      "metadata": {
        "colab": {
          "base_uri": "https://localhost:8080/"
        },
        "id": "hbeV9GdKuxCN",
        "outputId": "b0548ebb-2956-402c-a70a-2aeb35bf326a"
      },
      "execution_count": 115,
      "outputs": [
        {
          "output_type": "execute_result",
          "data": {
            "text/plain": [
              "<tf.Tensor: shape=(10,), dtype=float32, numpy=array([1., 1., 1., 0., 0., 1., 1., 1., 1., 0.], dtype=float32)>"
            ]
          },
          "metadata": {},
          "execution_count": 115
        }
      ]
    },
    {
      "cell_type": "code",
      "source": [
        "# Calculate Results\n",
        "\n",
        "model_10_results = calculate_results(y_true = val_labels,\n",
        "                                     y_pred = model_10_preds)\n",
        "model_10_results"
      ],
      "metadata": {
        "colab": {
          "base_uri": "https://localhost:8080/"
        },
        "id": "eqNjd66_vPZd",
        "outputId": "8959988f-1abf-4604-96dc-c2c4cf7e9c95"
      },
      "execution_count": 116,
      "outputs": [
        {
          "output_type": "execute_result",
          "data": {
            "text/plain": [
              "{'F1': 0.7495053197991575,\n",
              " 'Recall': 0.7519685039370079,\n",
              " 'accuracy': 75.19685039370079,\n",
              " 'precision': 0.753441444327358}"
            ]
          },
          "metadata": {},
          "execution_count": 116
        }
      ]
    },
    {
      "cell_type": "code",
      "source": [
        "baseline_results"
      ],
      "metadata": {
        "colab": {
          "base_uri": "https://localhost:8080/"
        },
        "id": "SFL3FU6FvZAS",
        "outputId": "9e915f3a-3e15-4abf-a731-99960f42765e"
      },
      "execution_count": 117,
      "outputs": [
        {
          "output_type": "execute_result",
          "data": {
            "text/plain": [
              "{'F1': 0.7862189758049549,\n",
              " 'Recall': 0.7926509186351706,\n",
              " 'accuracy': 79.26509186351706,\n",
              " 'precision': 0.8111390004213173}"
            ]
          },
          "metadata": {},
          "execution_count": 117
        }
      ]
    },
    {
      "cell_type": "markdown",
      "source": [
        "## **Model No Six : Tensorflow Hib Pretrained Sentence Encoder**\n",
        "\n",
        "**Model We've Building (USE for Feature Extractor)**\n",
        "**U=Universal**\n",
        "**S=Sentence**\n",
        "**E=Encoding**\n",
        "\n"
      ],
      "metadata": {
        "id": "xbNXFLVzviSG"
      }
    },
    {
      "cell_type": "code",
      "source": [
        "import tensorflow_hub as hub\n",
        "embed = hub.load('https://tfhub.dev/google/universal-sentence-encoder/4')\n",
        "embed_samples= embed([sample_sentence,'When You all Universe Sentence Encodes, It Turns into The Numbers'])\n",
        "print(embed_samples[0][:50])"
      ],
      "metadata": {
        "colab": {
          "base_uri": "https://localhost:8080/"
        },
        "id": "O9Wk07WbvdlC",
        "outputId": "02e02ed0-74fe-42db-c1e5-b8a0e4acac7e"
      },
      "execution_count": 118,
      "outputs": [
        {
          "output_type": "stream",
          "name": "stdout",
          "text": [
            "tf.Tensor(\n",
            "[-0.01602836  0.01068852  0.02425466 -0.01405769  0.01434424  0.08292625\n",
            "  0.01963372  0.06160138 -0.003527   -0.01216415  0.00978648 -0.01248498\n",
            "  0.01232344  0.09748449  0.06141113 -0.03728351  0.01860886 -0.04669853\n",
            "  0.00413914 -0.06363907 -0.02469896  0.02713691  0.02284443 -0.00210021\n",
            " -0.00630594 -0.03964956  0.02220411  0.00115076 -0.03132178  0.00119526\n",
            " -0.04012549  0.04561896 -0.01530597 -0.00175917  0.02173134 -0.08450424\n",
            "  0.03340028  0.04604551 -0.02480248 -0.08681665  0.00702695 -0.00770479\n",
            " -0.0143454   0.07814161 -0.10676058 -0.05152997 -0.00858157 -0.03232232\n",
            " -0.03871096  0.0258147 ], shape=(50,), dtype=float32)\n"
          ]
        }
      ]
    },
    {
      "cell_type": "code",
      "source": [
        "# Create Keras Layers By Using USE Pretrained Layer From Tensorflow Hub\n",
        "\n",
        "sentence_encoder_layer = hub.KerasLayer('https://tfhub.dev/google/universal-sentence-encoder/4',\n",
        "                                        input_shape=[],\n",
        "                                        dtype=tf.string,\n",
        "                                        trainable=False,\n",
        "                                        name='USE')\n"
      ],
      "metadata": {
        "id": "3uQGHe7MxRfx"
      },
      "execution_count": 119,
      "outputs": []
    },
    {
      "cell_type": "code",
      "source": [
        "# Create Model Using Sequential API\n",
        "\n",
        "model_11 = tf.keras.Sequential([\n",
        "                                sentence_encoder_layer,\n",
        "                                layers.Dense(64, activation='relu'),\n",
        "                                layers.Dense(1,activation='sigmoid')\n",
        "], name='model_11_USE')\n",
        "\n",
        "# Compile The Model\n",
        "\n",
        "model_11.compile(loss = 'binary_crossentropy',\n",
        "                 optimizer = tf.keras.optimizers.Adam(),\n",
        "                 metrics=['accuracy'])"
      ],
      "metadata": {
        "id": "0-h0jhFTxgME"
      },
      "execution_count": 120,
      "outputs": []
    },
    {
      "cell_type": "code",
      "source": [
        "# Get Model Summary\n",
        "\n",
        "model_11.summary()"
      ],
      "metadata": {
        "colab": {
          "base_uri": "https://localhost:8080/"
        },
        "id": "aVuNqVVOyKN6",
        "outputId": "ca636017-c136-4d4c-83ab-dc8a177d546a"
      },
      "execution_count": 121,
      "outputs": [
        {
          "output_type": "stream",
          "name": "stdout",
          "text": [
            "Model: \"model_11_USE\"\n",
            "_________________________________________________________________\n",
            " Layer (type)                Output Shape              Param #   \n",
            "=================================================================\n",
            " USE (KerasLayer)            (None, 512)               256797824 \n",
            "                                                                 \n",
            " dense_16 (Dense)            (None, 64)                32832     \n",
            "                                                                 \n",
            " dense_17 (Dense)            (None, 1)                 65        \n",
            "                                                                 \n",
            "=================================================================\n",
            "Total params: 256,830,721\n",
            "Trainable params: 32,897\n",
            "Non-trainable params: 256,797,824\n",
            "_________________________________________________________________\n"
          ]
        }
      ]
    },
    {
      "cell_type": "code",
      "source": [
        "# Train Classifier on Top of USE Pretrained Model Embedding\n",
        "\n",
        "model_11_history = model_11.fit(train_sentences,\n",
        "                                train_labels,\n",
        "                                epochs=5,\n",
        "                                validation_data = (val_sentences, val_labels),\n",
        "                                callbacks = [create_tensorboard_callback(SAVE_DIR,\n",
        "                                                                         'model_11_tf_sentences_encoder')])"
      ],
      "metadata": {
        "colab": {
          "base_uri": "https://localhost:8080/"
        },
        "id": "6jx3pkW5yN4M",
        "outputId": "9a077cc1-fcfb-4ada-a13d-46f2efdaecd7"
      },
      "execution_count": 122,
      "outputs": [
        {
          "output_type": "stream",
          "name": "stdout",
          "text": [
            "Saving TensorBoard log files to: model_logs/model_11_tf_sentences_encoder/20220416-191357\n",
            "Epoch 1/5\n",
            "215/215 [==============================] - 8s 20ms/step - loss: 0.5057 - accuracy: 0.7843 - val_loss: 0.4539 - val_accuracy: 0.7992\n",
            "Epoch 2/5\n",
            "215/215 [==============================] - 4s 19ms/step - loss: 0.4143 - accuracy: 0.8168 - val_loss: 0.4437 - val_accuracy: 0.8097\n",
            "Epoch 3/5\n",
            "215/215 [==============================] - 4s 19ms/step - loss: 0.4013 - accuracy: 0.8196 - val_loss: 0.4416 - val_accuracy: 0.8136\n",
            "Epoch 4/5\n",
            "215/215 [==============================] - 4s 17ms/step - loss: 0.3933 - accuracy: 0.8253 - val_loss: 0.4320 - val_accuracy: 0.8136\n",
            "Epoch 5/5\n",
            "215/215 [==============================] - 4s 19ms/step - loss: 0.3862 - accuracy: 0.8302 - val_loss: 0.4294 - val_accuracy: 0.8123\n"
          ]
        }
      ]
    },
    {
      "cell_type": "code",
      "source": [
        "# Make Predictions With USE TFHUB Model\n",
        "\n",
        "model_11_pred_probs = model_11.predict(val_sentences)\n",
        "model_11_pred_probs[:10]"
      ],
      "metadata": {
        "colab": {
          "base_uri": "https://localhost:8080/"
        },
        "id": "9EAUljicyrqK",
        "outputId": "09c08f97-21fe-4026-e301-9ca90f405f4a"
      },
      "execution_count": 123,
      "outputs": [
        {
          "output_type": "execute_result",
          "data": {
            "text/plain": [
              "array([[0.20785625],\n",
              "       [0.7980254 ],\n",
              "       [0.9886059 ],\n",
              "       [0.22065596],\n",
              "       [0.747392  ],\n",
              "       [0.8006787 ],\n",
              "       [0.98519474],\n",
              "       [0.9803995 ],\n",
              "       [0.95341355],\n",
              "       [0.11006868]], dtype=float32)"
            ]
          },
          "metadata": {},
          "execution_count": 123
        }
      ]
    },
    {
      "cell_type": "code",
      "source": [
        "#Convert Prediction Probabilities To labels\n",
        "\n",
        "model_11_preds = tf.squeeze(tf.round(model_11_pred_probs))\n",
        "model_11_preds[:10]"
      ],
      "metadata": {
        "colab": {
          "base_uri": "https://localhost:8080/"
        },
        "id": "GclIaNNuzRAw",
        "outputId": "546ecf9a-4155-4992-aaa1-af24b55ef2c9"
      },
      "execution_count": 124,
      "outputs": [
        {
          "output_type": "execute_result",
          "data": {
            "text/plain": [
              "<tf.Tensor: shape=(10,), dtype=float32, numpy=array([0., 1., 1., 0., 1., 1., 1., 1., 1., 0.], dtype=float32)>"
            ]
          },
          "metadata": {},
          "execution_count": 124
        }
      ]
    },
    {
      "cell_type": "code",
      "source": [
        "# Calculate Model 11 Performance Metrics \n",
        "\n",
        "model_11_results = calculate_results(y_true = val_labels,\n",
        "                                     y_pred = model_11_preds)\n",
        "model_11_results"
      ],
      "metadata": {
        "colab": {
          "base_uri": "https://localhost:8080/"
        },
        "id": "YrpzDeUKzgC7",
        "outputId": "fe9defda-2bab-4e5e-d403-58f99a923026"
      },
      "execution_count": 125,
      "outputs": [
        {
          "output_type": "execute_result",
          "data": {
            "text/plain": [
              "{'F1': 0.8118074135590041,\n",
              " 'Recall': 0.8123359580052494,\n",
              " 'accuracy': 81.23359580052494,\n",
              " 'precision': 0.8123014769092638}"
            ]
          },
          "metadata": {},
          "execution_count": 125
        }
      ]
    },
    {
      "cell_type": "code",
      "source": [
        "baseline_results"
      ],
      "metadata": {
        "colab": {
          "base_uri": "https://localhost:8080/"
        },
        "id": "01obXssAzzDr",
        "outputId": "7c3cee1e-2d4b-43fb-c607-13e3070a4846"
      },
      "execution_count": 126,
      "outputs": [
        {
          "output_type": "execute_result",
          "data": {
            "text/plain": [
              "{'F1': 0.7862189758049549,\n",
              " 'Recall': 0.7926509186351706,\n",
              " 'accuracy': 79.26509186351706,\n",
              " 'precision': 0.8111390004213173}"
            ]
          },
          "metadata": {},
          "execution_count": 126
        }
      ]
    },
    {
      "cell_type": "markdown",
      "source": [
        "## **Improving Our Model**\n",
        "\n",
        "**Adding Layers -- Increase Number Of Hidden Units -- Changing Activation Function -- Changing Optimization Function -- Train For Longer**"
      ],
      "metadata": {
        "id": "cZbF8f7tz63y"
      }
    },
    {
      "cell_type": "markdown",
      "source": [
        "## **Model No Seven : TF HUB Pretrained USE With 10% of Data**\n",
        "\n",
        "**Transfer Learning Really Helps When you don't have Large Dataset**\n",
        "\n",
        "**To See how Our Model Perform on small our dataset, lets replicate model 12 except 10% of data**"
      ],
      "metadata": {
        "id": "-abF6TPH0NHu"
      }
    },
    {
      "cell_type": "code",
      "source": [
        "#Create Subset of 10% of Training Data (This Method tends to lead Data Leakage)\n",
        "\n",
        "train_ten_percent = train_df_shuffled[['text', 'target']].sample(frac=0.1, random_state=42)\n",
        "train_ten_percent.head(), len(train_ten_percent)\n",
        "train_sentences_10_percent = train_ten_percent['text'].to_numpy()\n",
        "train_labels_10_percent = train_ten_percent['target'].to_numpy()\n"
      ],
      "metadata": {
        "id": "djXjPjXLz1z1"
      },
      "execution_count": 127,
      "outputs": []
    },
    {
      "cell_type": "code",
      "source": [
        "# Check Number Of Targets in our Subset of Data\n",
        "\n",
        "train_ten_percent['target'].value_counts()\n",
        "train_df_shuffled['target'].value_counts()"
      ],
      "metadata": {
        "colab": {
          "base_uri": "https://localhost:8080/"
        },
        "id": "F9BDny3P1R9V",
        "outputId": "f6249b3f-93c6-4cee-d328-27c309a54125"
      },
      "execution_count": 128,
      "outputs": [
        {
          "output_type": "execute_result",
          "data": {
            "text/plain": [
              "0    4342\n",
              "1    3271\n",
              "Name: target, dtype: int64"
            ]
          },
          "metadata": {},
          "execution_count": 128
        }
      ]
    },
    {
      "cell_type": "code",
      "source": [
        "# Lets Build Model the Same As Previous Model\n",
        "\n",
        "#To Recreate A Similar Previous Model, You can Use Tf.keras.models.clone_model()\n",
        "\n",
        "model_12 = tf.keras.models.clone_model(model_11)\n",
        "\n",
        "# Compile The Model\n",
        "\n",
        "model_12.compile(loss = 'binary_crossentropy',\n",
        "                 optimizer = tf.keras.optimizers.Adam(),\n",
        "                 metrics=['accuracy'])"
      ],
      "metadata": {
        "id": "FT70z2s82W85"
      },
      "execution_count": 129,
      "outputs": []
    },
    {
      "cell_type": "code",
      "source": [
        "# Get A Summary\n",
        "\n",
        "model_12.summary()"
      ],
      "metadata": {
        "colab": {
          "base_uri": "https://localhost:8080/"
        },
        "id": "bKpKCdAa3B4n",
        "outputId": "1d22355f-5ffb-4d3d-dba4-3b5c26de2d3c"
      },
      "execution_count": 130,
      "outputs": [
        {
          "output_type": "stream",
          "name": "stdout",
          "text": [
            "Model: \"model_11_USE\"\n",
            "_________________________________________________________________\n",
            " Layer (type)                Output Shape              Param #   \n",
            "=================================================================\n",
            " USE (KerasLayer)            (None, 512)               256797824 \n",
            "                                                                 \n",
            " dense_16 (Dense)            (None, 64)                32832     \n",
            "                                                                 \n",
            " dense_17 (Dense)            (None, 1)                 65        \n",
            "                                                                 \n",
            "=================================================================\n",
            "Total params: 256,830,721\n",
            "Trainable params: 32,897\n",
            "Non-trainable params: 256,797,824\n",
            "_________________________________________________________________\n"
          ]
        }
      ]
    },
    {
      "cell_type": "code",
      "source": [
        "# Fit The Model To the Training 10% of data\n",
        "\n",
        "model_12_history = model_12.fit(train_sentences,\n",
        "                                train_labels,\n",
        "                                epochs=5,\n",
        "                                validation_data = (val_sentences, val_labels),\n",
        "                                callbacks = [create_tensorboard_callback(SAVE_DIR,\n",
        "                                                                         'tf_hub_sentence_encoder_10_percent')])"
      ],
      "metadata": {
        "colab": {
          "base_uri": "https://localhost:8080/"
        },
        "id": "GwmtGUDu3GUK",
        "outputId": "572a54fa-253e-4d94-a955-c2f2bbdf29fa"
      },
      "execution_count": 131,
      "outputs": [
        {
          "output_type": "stream",
          "name": "stdout",
          "text": [
            "Saving TensorBoard log files to: model_logs/tf_hub_sentence_encoder_10_percent/20220416-191426\n",
            "Epoch 1/5\n",
            "215/215 [==============================] - 7s 21ms/step - loss: 0.5022 - accuracy: 0.7905 - val_loss: 0.4501 - val_accuracy: 0.7979\n",
            "Epoch 2/5\n",
            "215/215 [==============================] - 4s 19ms/step - loss: 0.4139 - accuracy: 0.8154 - val_loss: 0.4470 - val_accuracy: 0.8084\n",
            "Epoch 3/5\n",
            "215/215 [==============================] - 4s 17ms/step - loss: 0.4017 - accuracy: 0.8231 - val_loss: 0.4358 - val_accuracy: 0.8084\n",
            "Epoch 4/5\n",
            "215/215 [==============================] - 4s 17ms/step - loss: 0.3920 - accuracy: 0.8267 - val_loss: 0.4342 - val_accuracy: 0.8058\n",
            "Epoch 5/5\n",
            "215/215 [==============================] - 4s 17ms/step - loss: 0.3868 - accuracy: 0.8286 - val_loss: 0.4261 - val_accuracy: 0.8123\n"
          ]
        }
      ]
    },
    {
      "cell_type": "code",
      "source": [
        "# Make Predictions With Model Pretrained on 10% of data\n",
        "\n",
        "model_12_pred_probs = model_12.predict(val_sentences)\n",
        "model_12_pred_probs[:10]"
      ],
      "metadata": {
        "colab": {
          "base_uri": "https://localhost:8080/"
        },
        "id": "Lqsgppjj3wWn",
        "outputId": "1bdc255e-8f2e-4e39-ec63-44943e4ca161"
      },
      "execution_count": 132,
      "outputs": [
        {
          "output_type": "execute_result",
          "data": {
            "text/plain": [
              "array([[0.20074615],\n",
              "       [0.81670403],\n",
              "       [0.9899024 ],\n",
              "       [0.21040004],\n",
              "       [0.7498216 ],\n",
              "       [0.73232317],\n",
              "       [0.9841689 ],\n",
              "       [0.9793088 ],\n",
              "       [0.9454522 ],\n",
              "       [0.11514432]], dtype=float32)"
            ]
          },
          "metadata": {},
          "execution_count": 132
        }
      ]
    },
    {
      "cell_type": "code",
      "source": [
        "# Turn pred Probs into labels\n",
        "model_12_preds = tf.squeeze(tf.round(model_12_pred_probs))\n",
        "model_12_preds[:10]"
      ],
      "metadata": {
        "colab": {
          "base_uri": "https://localhost:8080/"
        },
        "id": "RkzePTTt4PpE",
        "outputId": "53145176-4a8e-4a38-e84f-385a7959c643"
      },
      "execution_count": 133,
      "outputs": [
        {
          "output_type": "execute_result",
          "data": {
            "text/plain": [
              "<tf.Tensor: shape=(10,), dtype=float32, numpy=array([0., 1., 1., 0., 1., 1., 1., 1., 1., 0.], dtype=float32)>"
            ]
          },
          "metadata": {},
          "execution_count": 133
        }
      ]
    },
    {
      "cell_type": "code",
      "source": [
        "# Evaluate Model 12 Predictions\n",
        "\n",
        "model_12_results = calculate_results(y_true = val_labels,\n",
        "                                     y_pred = model_12_preds)\n",
        "model_12_results"
      ],
      "metadata": {
        "colab": {
          "base_uri": "https://localhost:8080/"
        },
        "id": "NCynRc7D4d9j",
        "outputId": "f5d8d937-f683-48dc-a702-3949e7a2628b"
      },
      "execution_count": 134,
      "outputs": [
        {
          "output_type": "execute_result",
          "data": {
            "text/plain": [
              "{'F1': 0.8114314841586915,\n",
              " 'Recall': 0.8123359580052494,\n",
              " 'accuracy': 81.23359580052494,\n",
              " 'precision': 0.8129238565064447}"
            ]
          },
          "metadata": {},
          "execution_count": 134
        }
      ]
    },
    {
      "cell_type": "code",
      "source": [
        "baseline_results"
      ],
      "metadata": {
        "colab": {
          "base_uri": "https://localhost:8080/"
        },
        "id": "GQ7s1PrD43aH",
        "outputId": "d90f9a67-a3ba-4e6f-ea55-bf892e768edc"
      },
      "execution_count": 135,
      "outputs": [
        {
          "output_type": "execute_result",
          "data": {
            "text/plain": [
              "{'F1': 0.7862189758049549,\n",
              " 'Recall': 0.7926509186351706,\n",
              " 'accuracy': 79.26509186351706,\n",
              " 'precision': 0.8111390004213173}"
            ]
          },
          "metadata": {},
          "execution_count": 135
        }
      ]
    },
    {
      "cell_type": "code",
      "source": [
        "# Making Better Dataset Split (No Data Leakage)\n",
        "\n",
        "train_sentences_90_percent, train_sentences_10_percent, train_labels_90_percent, train_labels_10_percent = train_test_split(np.array(train_sentences),\n",
        "                                                                                                                            train_labels,\n",
        "                                                                                                                            test_size=0.1,\n",
        "                                                                                                                            random_state=42)"
      ],
      "metadata": {
        "id": "eqfF4G9D5DjG"
      },
      "execution_count": 136,
      "outputs": []
    },
    {
      "cell_type": "code",
      "source": [
        "# Check No of Each Labels in Updated Method \n",
        "\n",
        "pd.Series(np.array(train_labels_10_percent)).value_counts()"
      ],
      "metadata": {
        "colab": {
          "base_uri": "https://localhost:8080/"
        },
        "id": "lvsAuEKE6U_d",
        "outputId": "777863c5-9dc9-4eb6-edce-6af71d4cddf4"
      },
      "execution_count": 137,
      "outputs": [
        {
          "output_type": "execute_result",
          "data": {
            "text/plain": [
              "0    415\n",
              "1    271\n",
              "dtype: int64"
            ]
          },
          "metadata": {},
          "execution_count": 137
        }
      ]
    },
    {
      "cell_type": "markdown",
      "source": [
        "**Be Careful When You Creating Training , Validation (Test Splits That You Don't leak Data)**"
      ],
      "metadata": {
        "id": "N1nYceFH6ok9"
      }
    },
    {
      "cell_type": "code",
      "source": [
        "# Clone model_6 but reset weights\n",
        "model_13 = tf.keras.models.clone_model(model_11)\n",
        "\n",
        "# Compile model\n",
        "model_13.compile(loss=\"binary_crossentropy\",\n",
        "                optimizer=tf.keras.optimizers.Adam(),\n",
        "                metrics=[\"accuracy\"])\n",
        "\n",
        "# Get a summary (will be same as model_6)\n",
        "model_13.summary()"
      ],
      "metadata": {
        "colab": {
          "base_uri": "https://localhost:8080/"
        },
        "id": "NxYP_PT36nQM",
        "outputId": "f891cc48-85da-4476-fe9a-7e875b10f419"
      },
      "execution_count": 138,
      "outputs": [
        {
          "output_type": "stream",
          "name": "stdout",
          "text": [
            "Model: \"model_11_USE\"\n",
            "_________________________________________________________________\n",
            " Layer (type)                Output Shape              Param #   \n",
            "=================================================================\n",
            " USE (KerasLayer)            (None, 512)               256797824 \n",
            "                                                                 \n",
            " dense_16 (Dense)            (None, 64)                32832     \n",
            "                                                                 \n",
            " dense_17 (Dense)            (None, 1)                 65        \n",
            "                                                                 \n",
            "=================================================================\n",
            "Total params: 256,830,721\n",
            "Trainable params: 32,897\n",
            "Non-trainable params: 256,797,824\n",
            "_________________________________________________________________\n"
          ]
        }
      ]
    },
    {
      "cell_type": "code",
      "source": [
        "# Fit the model to 10% of the training data\n",
        "model_13_history = model_13.fit(x=train_sentences_10_percent,\n",
        "                              y=train_labels_10_percent,\n",
        "                              epochs=5,\n",
        "                              validation_data=(val_sentences, val_labels),\n",
        "                              callbacks=[create_tensorboard_callback(SAVE_DIR, \"10_percent_tf_hub_sentence_encoder_updated_and_accurate\")])"
      ],
      "metadata": {
        "colab": {
          "base_uri": "https://localhost:8080/"
        },
        "id": "U-tJJT1k7IYd",
        "outputId": "de25b3bb-3c51-404b-e87d-b529b95bd0b1"
      },
      "execution_count": 139,
      "outputs": [
        {
          "output_type": "stream",
          "name": "stdout",
          "text": [
            "Saving TensorBoard log files to: model_logs/10_percent_tf_hub_sentence_encoder_updated_and_accurate/20220416-191454\n",
            "Epoch 1/5\n",
            "22/22 [==============================] - 4s 70ms/step - loss: 0.6645 - accuracy: 0.6910 - val_loss: 0.6432 - val_accuracy: 0.7139\n",
            "Epoch 2/5\n",
            "22/22 [==============================] - 1s 36ms/step - loss: 0.5858 - accuracy: 0.8134 - val_loss: 0.5831 - val_accuracy: 0.7533\n",
            "Epoch 3/5\n",
            "22/22 [==============================] - 1s 48ms/step - loss: 0.5078 - accuracy: 0.8192 - val_loss: 0.5296 - val_accuracy: 0.7756\n",
            "Epoch 4/5\n",
            "22/22 [==============================] - 1s 48ms/step - loss: 0.4447 - accuracy: 0.8367 - val_loss: 0.5018 - val_accuracy: 0.7730\n",
            "Epoch 5/5\n",
            "22/22 [==============================] - 1s 47ms/step - loss: 0.4038 - accuracy: 0.8469 - val_loss: 0.4890 - val_accuracy: 0.7808\n"
          ]
        }
      ]
    },
    {
      "cell_type": "code",
      "source": [
        "# Make Prediction Probabilities\n",
        "\n",
        "model_13_pred_probs = model_13.predict(val_sentences)\n",
        "model_13_pred_probs[:10]"
      ],
      "metadata": {
        "colab": {
          "base_uri": "https://localhost:8080/"
        },
        "id": "Jj1a0THf7U5K",
        "outputId": "c849b160-fb20-4d9e-c828-58ab0161d8d3"
      },
      "execution_count": 140,
      "outputs": [
        {
          "output_type": "execute_result",
          "data": {
            "text/plain": [
              "array([[0.24533714],\n",
              "       [0.8119821 ],\n",
              "       [0.89617014],\n",
              "       [0.28888038],\n",
              "       [0.55419296],\n",
              "       [0.8313162 ],\n",
              "       [0.8217431 ],\n",
              "       [0.8508134 ],\n",
              "       [0.8462016 ],\n",
              "       [0.11956443]], dtype=float32)"
            ]
          },
          "metadata": {},
          "execution_count": 140
        }
      ]
    },
    {
      "cell_type": "code",
      "source": [
        "# Turning Preds into labels\n",
        "model_13_preds = tf.squeeze(tf.round(model_13_pred_probs))\n",
        "model_13_preds[:10]"
      ],
      "metadata": {
        "colab": {
          "base_uri": "https://localhost:8080/"
        },
        "id": "WMVCVetL71z5",
        "outputId": "4610c6dc-e431-40a1-824a-dc06d5b6aef3"
      },
      "execution_count": 141,
      "outputs": [
        {
          "output_type": "execute_result",
          "data": {
            "text/plain": [
              "<tf.Tensor: shape=(10,), dtype=float32, numpy=array([0., 1., 1., 0., 1., 1., 1., 1., 1., 0.], dtype=float32)>"
            ]
          },
          "metadata": {},
          "execution_count": 141
        }
      ]
    },
    {
      "cell_type": "code",
      "source": [
        "# Calculate Results\n",
        "\n",
        "model_13_results = calculate_results(y_true= val_labels,\n",
        "                                     y_pred = model_13_preds)\n",
        "model_13_results"
      ],
      "metadata": {
        "colab": {
          "base_uri": "https://localhost:8080/"
        },
        "id": "f0zSA1Ld8WbY",
        "outputId": "c7ffb86f-d59c-467a-deb3-a2f4fae90b17"
      },
      "execution_count": 142,
      "outputs": [
        {
          "output_type": "execute_result",
          "data": {
            "text/plain": [
              "{'F1': 0.777681907957685,\n",
              " 'Recall': 0.7808398950131233,\n",
              " 'accuracy': 78.08398950131233,\n",
              " 'precision': 0.7856875884556138}"
            ]
          },
          "metadata": {},
          "execution_count": 142
        }
      ]
    },
    {
      "cell_type": "code",
      "source": [
        "baseline_results"
      ],
      "metadata": {
        "colab": {
          "base_uri": "https://localhost:8080/"
        },
        "id": "tKSoxdq28h9x",
        "outputId": "26b74cbb-960b-42f9-e7b4-1966f198d8d6"
      },
      "execution_count": 143,
      "outputs": [
        {
          "output_type": "execute_result",
          "data": {
            "text/plain": [
              "{'F1': 0.7862189758049549,\n",
              " 'Recall': 0.7926509186351706,\n",
              " 'accuracy': 79.26509186351706,\n",
              " 'precision': 0.8111390004213173}"
            ]
          },
          "metadata": {},
          "execution_count": 143
        }
      ]
    },
    {
      "cell_type": "markdown",
      "source": [
        "## **Compairing The Performance of Each Of the Model**\n",
        "\n",
        "**Combine Model Results into DataFrame**"
      ],
      "metadata": {
        "id": "4-7lE1d08rjH"
      }
    },
    {
      "cell_type": "code",
      "source": [
        "all_model_results=  pd.DataFrame({\n",
        "    '0_baseline': baseline_results,\n",
        "    '1_Simple_Dense': model_1_results,\n",
        "    '2_LSTM' : model_2_results,\n",
        "    '3_LSTM_Part_2' : model_3_results,\n",
        "    '4_LSTM_Part_3': model_4_results,\n",
        "    '5_GRU': model_5_results,\n",
        "    '6_GRU_Part_2': model_6_results,\n",
        "    '7_GRU_Part_3': model_7_results,\n",
        "    '8_Bidirectional': model_8_results,\n",
        "    '9_Bidirectional_part_2': model_9_results,\n",
        "    '10_Conv_1D':model_10_results,\n",
        "    '11_tf_hub_USE_Encoder': model_11_results,\n",
        "    '12_Tf_Hub_USE_Encoder_10_percent': model_12_results,\n",
        "    '13_tf_Hub_USE_Encoder_10_Percent_Updated': model_13_results\n",
        "})\n",
        "\n",
        "all_model_results = all_model_results.transpose()\n",
        "all_model_results"
      ],
      "metadata": {
        "colab": {
          "base_uri": "https://localhost:8080/",
          "height": 488
        },
        "id": "PVHPDySC8okB",
        "outputId": "71fbecf4-a688-493d-e35c-b6bf7c325c53"
      },
      "execution_count": 144,
      "outputs": [
        {
          "output_type": "execute_result",
          "data": {
            "text/plain": [
              "                                           accuracy  precision    Recall  \\\n",
              "0_baseline                                79.265092   0.811139  0.792651   \n",
              "1_Simple_Dense                            77.690289   0.782224  0.776903   \n",
              "2_LSTM                                    77.559055   0.778046  0.775591   \n",
              "3_LSTM_Part_2                             74.671916   0.747413  0.746719   \n",
              "4_LSTM_Part_3                             74.540682   0.745657  0.745407   \n",
              "5_GRU                                     75.196850   0.753441  0.751969   \n",
              "6_GRU_Part_2                              60.892388   0.716748  0.608924   \n",
              "7_GRU_Part_3                              75.065617   0.750342  0.750656   \n",
              "8_Bidirectional                           73.490814   0.735867  0.734908   \n",
              "9_Bidirectional_part_2                    74.671916   0.752419  0.746719   \n",
              "10_Conv_1D                                75.196850   0.753441  0.751969   \n",
              "11_tf_hub_USE_Encoder                     81.233596   0.812301  0.812336   \n",
              "12_Tf_Hub_USE_Encoder_10_percent          81.233596   0.812924  0.812336   \n",
              "13_tf_Hub_USE_Encoder_10_Percent_Updated  78.083990   0.785688  0.780840   \n",
              "\n",
              "                                                F1  \n",
              "0_baseline                                0.786219  \n",
              "1_Simple_Dense                            0.773452  \n",
              "2_LSTM                                    0.773229  \n",
              "3_LSTM_Part_2                             0.744632  \n",
              "4_LSTM_Part_3                             0.743641  \n",
              "5_GRU                                     0.749505  \n",
              "6_GRU_Part_2                              0.636619  \n",
              "7_GRU_Part_3                              0.749614  \n",
              "8_Bidirectional                           0.735205  \n",
              "9_Bidirectional_part_2                    0.741943  \n",
              "10_Conv_1D                                0.749505  \n",
              "11_tf_hub_USE_Encoder                     0.811807  \n",
              "12_Tf_Hub_USE_Encoder_10_percent          0.811431  \n",
              "13_tf_Hub_USE_Encoder_10_Percent_Updated  0.777682  "
            ],
            "text/html": [
              "\n",
              "  <div id=\"df-2a8ac177-ed76-488f-a4d3-936c10be93b7\">\n",
              "    <div class=\"colab-df-container\">\n",
              "      <div>\n",
              "<style scoped>\n",
              "    .dataframe tbody tr th:only-of-type {\n",
              "        vertical-align: middle;\n",
              "    }\n",
              "\n",
              "    .dataframe tbody tr th {\n",
              "        vertical-align: top;\n",
              "    }\n",
              "\n",
              "    .dataframe thead th {\n",
              "        text-align: right;\n",
              "    }\n",
              "</style>\n",
              "<table border=\"1\" class=\"dataframe\">\n",
              "  <thead>\n",
              "    <tr style=\"text-align: right;\">\n",
              "      <th></th>\n",
              "      <th>accuracy</th>\n",
              "      <th>precision</th>\n",
              "      <th>Recall</th>\n",
              "      <th>F1</th>\n",
              "    </tr>\n",
              "  </thead>\n",
              "  <tbody>\n",
              "    <tr>\n",
              "      <th>0_baseline</th>\n",
              "      <td>79.265092</td>\n",
              "      <td>0.811139</td>\n",
              "      <td>0.792651</td>\n",
              "      <td>0.786219</td>\n",
              "    </tr>\n",
              "    <tr>\n",
              "      <th>1_Simple_Dense</th>\n",
              "      <td>77.690289</td>\n",
              "      <td>0.782224</td>\n",
              "      <td>0.776903</td>\n",
              "      <td>0.773452</td>\n",
              "    </tr>\n",
              "    <tr>\n",
              "      <th>2_LSTM</th>\n",
              "      <td>77.559055</td>\n",
              "      <td>0.778046</td>\n",
              "      <td>0.775591</td>\n",
              "      <td>0.773229</td>\n",
              "    </tr>\n",
              "    <tr>\n",
              "      <th>3_LSTM_Part_2</th>\n",
              "      <td>74.671916</td>\n",
              "      <td>0.747413</td>\n",
              "      <td>0.746719</td>\n",
              "      <td>0.744632</td>\n",
              "    </tr>\n",
              "    <tr>\n",
              "      <th>4_LSTM_Part_3</th>\n",
              "      <td>74.540682</td>\n",
              "      <td>0.745657</td>\n",
              "      <td>0.745407</td>\n",
              "      <td>0.743641</td>\n",
              "    </tr>\n",
              "    <tr>\n",
              "      <th>5_GRU</th>\n",
              "      <td>75.196850</td>\n",
              "      <td>0.753441</td>\n",
              "      <td>0.751969</td>\n",
              "      <td>0.749505</td>\n",
              "    </tr>\n",
              "    <tr>\n",
              "      <th>6_GRU_Part_2</th>\n",
              "      <td>60.892388</td>\n",
              "      <td>0.716748</td>\n",
              "      <td>0.608924</td>\n",
              "      <td>0.636619</td>\n",
              "    </tr>\n",
              "    <tr>\n",
              "      <th>7_GRU_Part_3</th>\n",
              "      <td>75.065617</td>\n",
              "      <td>0.750342</td>\n",
              "      <td>0.750656</td>\n",
              "      <td>0.749614</td>\n",
              "    </tr>\n",
              "    <tr>\n",
              "      <th>8_Bidirectional</th>\n",
              "      <td>73.490814</td>\n",
              "      <td>0.735867</td>\n",
              "      <td>0.734908</td>\n",
              "      <td>0.735205</td>\n",
              "    </tr>\n",
              "    <tr>\n",
              "      <th>9_Bidirectional_part_2</th>\n",
              "      <td>74.671916</td>\n",
              "      <td>0.752419</td>\n",
              "      <td>0.746719</td>\n",
              "      <td>0.741943</td>\n",
              "    </tr>\n",
              "    <tr>\n",
              "      <th>10_Conv_1D</th>\n",
              "      <td>75.196850</td>\n",
              "      <td>0.753441</td>\n",
              "      <td>0.751969</td>\n",
              "      <td>0.749505</td>\n",
              "    </tr>\n",
              "    <tr>\n",
              "      <th>11_tf_hub_USE_Encoder</th>\n",
              "      <td>81.233596</td>\n",
              "      <td>0.812301</td>\n",
              "      <td>0.812336</td>\n",
              "      <td>0.811807</td>\n",
              "    </tr>\n",
              "    <tr>\n",
              "      <th>12_Tf_Hub_USE_Encoder_10_percent</th>\n",
              "      <td>81.233596</td>\n",
              "      <td>0.812924</td>\n",
              "      <td>0.812336</td>\n",
              "      <td>0.811431</td>\n",
              "    </tr>\n",
              "    <tr>\n",
              "      <th>13_tf_Hub_USE_Encoder_10_Percent_Updated</th>\n",
              "      <td>78.083990</td>\n",
              "      <td>0.785688</td>\n",
              "      <td>0.780840</td>\n",
              "      <td>0.777682</td>\n",
              "    </tr>\n",
              "  </tbody>\n",
              "</table>\n",
              "</div>\n",
              "      <button class=\"colab-df-convert\" onclick=\"convertToInteractive('df-2a8ac177-ed76-488f-a4d3-936c10be93b7')\"\n",
              "              title=\"Convert this dataframe to an interactive table.\"\n",
              "              style=\"display:none;\">\n",
              "        \n",
              "  <svg xmlns=\"http://www.w3.org/2000/svg\" height=\"24px\"viewBox=\"0 0 24 24\"\n",
              "       width=\"24px\">\n",
              "    <path d=\"M0 0h24v24H0V0z\" fill=\"none\"/>\n",
              "    <path d=\"M18.56 5.44l.94 2.06.94-2.06 2.06-.94-2.06-.94-.94-2.06-.94 2.06-2.06.94zm-11 1L8.5 8.5l.94-2.06 2.06-.94-2.06-.94L8.5 2.5l-.94 2.06-2.06.94zm10 10l.94 2.06.94-2.06 2.06-.94-2.06-.94-.94-2.06-.94 2.06-2.06.94z\"/><path d=\"M17.41 7.96l-1.37-1.37c-.4-.4-.92-.59-1.43-.59-.52 0-1.04.2-1.43.59L10.3 9.45l-7.72 7.72c-.78.78-.78 2.05 0 2.83L4 21.41c.39.39.9.59 1.41.59.51 0 1.02-.2 1.41-.59l7.78-7.78 2.81-2.81c.8-.78.8-2.07 0-2.86zM5.41 20L4 18.59l7.72-7.72 1.47 1.35L5.41 20z\"/>\n",
              "  </svg>\n",
              "      </button>\n",
              "      \n",
              "  <style>\n",
              "    .colab-df-container {\n",
              "      display:flex;\n",
              "      flex-wrap:wrap;\n",
              "      gap: 12px;\n",
              "    }\n",
              "\n",
              "    .colab-df-convert {\n",
              "      background-color: #E8F0FE;\n",
              "      border: none;\n",
              "      border-radius: 50%;\n",
              "      cursor: pointer;\n",
              "      display: none;\n",
              "      fill: #1967D2;\n",
              "      height: 32px;\n",
              "      padding: 0 0 0 0;\n",
              "      width: 32px;\n",
              "    }\n",
              "\n",
              "    .colab-df-convert:hover {\n",
              "      background-color: #E2EBFA;\n",
              "      box-shadow: 0px 1px 2px rgba(60, 64, 67, 0.3), 0px 1px 3px 1px rgba(60, 64, 67, 0.15);\n",
              "      fill: #174EA6;\n",
              "    }\n",
              "\n",
              "    [theme=dark] .colab-df-convert {\n",
              "      background-color: #3B4455;\n",
              "      fill: #D2E3FC;\n",
              "    }\n",
              "\n",
              "    [theme=dark] .colab-df-convert:hover {\n",
              "      background-color: #434B5C;\n",
              "      box-shadow: 0px 1px 3px 1px rgba(0, 0, 0, 0.15);\n",
              "      filter: drop-shadow(0px 1px 2px rgba(0, 0, 0, 0.3));\n",
              "      fill: #FFFFFF;\n",
              "    }\n",
              "  </style>\n",
              "\n",
              "      <script>\n",
              "        const buttonEl =\n",
              "          document.querySelector('#df-2a8ac177-ed76-488f-a4d3-936c10be93b7 button.colab-df-convert');\n",
              "        buttonEl.style.display =\n",
              "          google.colab.kernel.accessAllowed ? 'block' : 'none';\n",
              "\n",
              "        async function convertToInteractive(key) {\n",
              "          const element = document.querySelector('#df-2a8ac177-ed76-488f-a4d3-936c10be93b7');\n",
              "          const dataTable =\n",
              "            await google.colab.kernel.invokeFunction('convertToInteractive',\n",
              "                                                     [key], {});\n",
              "          if (!dataTable) return;\n",
              "\n",
              "          const docLinkHtml = 'Like what you see? Visit the ' +\n",
              "            '<a target=\"_blank\" href=https://colab.research.google.com/notebooks/data_table.ipynb>data table notebook</a>'\n",
              "            + ' to learn more about interactive tables.';\n",
              "          element.innerHTML = '';\n",
              "          dataTable['output_type'] = 'display_data';\n",
              "          await google.colab.output.renderOutput(dataTable, element);\n",
              "          const docLink = document.createElement('div');\n",
              "          docLink.innerHTML = docLinkHtml;\n",
              "          element.appendChild(docLink);\n",
              "        }\n",
              "      </script>\n",
              "    </div>\n",
              "  </div>\n",
              "  "
            ]
          },
          "metadata": {},
          "execution_count": 144
        }
      ]
    },
    {
      "cell_type": "code",
      "source": [
        "#Reduce The Accuracy To the same scale as other metrics\n",
        "\n",
        "all_model_results['accuracy'] = all_model_results['accuracy']/100"
      ],
      "metadata": {
        "id": "WQUe_im4Kc7o"
      },
      "execution_count": 145,
      "outputs": []
    },
    {
      "cell_type": "code",
      "source": [
        "#Plot and Compare all of the kind of model_results\n",
        "all_model_results.plot(kind=\"bar\", figsize=(10, 7)).legend(bbox_to_anchor=(1.0, 1.0));"
      ],
      "metadata": {
        "colab": {
          "base_uri": "https://localhost:8080/",
          "height": 647
        },
        "id": "wuypEMPPKxrR",
        "outputId": "e7d8700c-d761-431c-83d0-86affc514040"
      },
      "execution_count": 146,
      "outputs": [
        {
          "output_type": "display_data",
          "data": {
            "text/plain": [
              "<Figure size 720x504 with 1 Axes>"
            ],
            "image/png": "[encoded data removed]"
          },
          "metadata": {
            "needs_background": "light"
          }
        }
      ]
    },
    {
      "cell_type": "code",
      "source": [
        "#Sort Model results by f1-score\n",
        "\n",
        "all_model_results.sort_values(\"F1\", ascending=False)[\"F1\"].plot(kind=\"bar\", figsize=(10, 7));"
      ],
      "metadata": {
        "colab": {
          "base_uri": "https://localhost:8080/",
          "height": 647
        },
        "id": "B2JsziZoLE7x",
        "outputId": "5ec755e1-58ec-4896-8efe-fd416e507879"
      },
      "execution_count": 147,
      "outputs": [
        {
          "output_type": "display_data",
          "data": {
            "text/plain": [
              "<Figure size 720x504 with 1 Axes>"
            ],
            "image/png": "[encoded data removed]"
          },
          "metadata": {
            "needs_background": "light"
          }
        }
      ]
    },
    {
      "cell_type": "markdown",
      "source": [
        "## **Uploading Model Training Logs**"
      ],
      "metadata": {
        "id": "3GLimKm9MEgJ"
      }
    },
    {
      "cell_type": "code",
      "source": [
        "!tensorboard dev upload --logdir ./model_logs/ \\\n",
        "  --name  'NLP Modelling Fundamentals'  \\\n",
        "  --description 'Compairing Multiple Different Types of Model Architecture' \\\n",
        "  --one_shot"
      ],
      "metadata": {
        "colab": {
          "base_uri": "https://localhost:8080/"
        },
        "id": "iT-0N6_5L2Fk",
        "outputId": "a21cbb8a-5d2c-47ef-dad1-d935b9c80213"
      },
      "execution_count": 148,
      "outputs": [
        {
          "output_type": "stream",
          "name": "stdout",
          "text": [
            "\n",
            "***** TensorBoard Uploader *****\n",
            "\n",
            "This will upload your TensorBoard logs to https://tensorboard.dev/ from\n",
            "the following directory:\n",
            "\n",
            "./model_logs/\n",
            "\n",
            "This TensorBoard will be visible to everyone. Do not upload sensitive\n",
            "data.\n",
            "\n",
            "Your use of this service is subject to Google's Terms of Service\n",
            "<https://policies.google.com/terms> and Privacy Policy\n",
            "<https://policies.google.com/privacy>, and TensorBoard.dev's Terms of Service\n",
            "<https://tensorboard.dev/policy/terms/>.\n",
            "\n",
            "This notice will not be shown again while you are logged into the uploader.\n",
            "To log out, run `tensorboard dev auth revoke`.\n",
            "\n",
            "Continue? (yes/NO) yes\n",
            "\n",
            "Please visit this URL to authorize this application: https://accounts.google.com/o/oauth2/auth?response_type=code&client_id=373649185512-8v619h5kft38l4456nm2dj4ubeqsrvh6.apps.googleusercontent.com&redirect_uri=urn%3Aietf%3Awg%3Aoauth%3A2.0%3Aoob&scope=openid+https%3A%2F%2Fwww.googleapis.com%2Fauth%2Fuserinfo.email&state=ysCVhz5noLbQ9Jl40c1XLk7L2PxEUn&prompt=consent&access_type=offline\n",
            "Enter the authorization code: 4/1AX4XfWjxJBmZRilVviwgxNL8K1wOvlewoRdhVab_2P4YEw4p-KN11GXQ2Q8\n",
            "\n",
            "\n",
            "New experiment created. View your TensorBoard at: https://tensorboard.dev/experiment/FK3nJCR3RoiL78aamEczbg/\n",
            "\n",
            "\u001b[1m[2022-04-16T19:17:21]\u001b[0m Started scanning logdir.\n",
            "\u001b[1m[2022-04-16T19:17:38]\u001b[0m Total uploaded: 390 scalars, 0 tensors, 13 binary objects (6.4 MB)\n",
            "\u001b[1m[2022-04-16T19:17:38]\u001b[0m Done scanning logdir.\n",
            "\n",
            "\n",
            "Done. View your TensorBoard at https://tensorboard.dev/experiment/FK3nJCR3RoiL78aamEczbg/\n"
          ]
        }
      ]
    },
    {
      "cell_type": "markdown",
      "source": [
        "## **Saving and Loading Pretrained Model**\n",
        "\n",
        "**There are Two Formats to Save Model**\n",
        "\n",
        "**1-HDF5 Format**\n",
        "\n",
        "**2- Saved Model Format (By-Default)**\n",
        "\n",
        "**We Saved TF Hub Feature Extractor Model**"
      ],
      "metadata": {
        "id": "m2f9XUoNOGQp"
      }
    },
    {
      "cell_type": "code",
      "source": [
        "model_12.save('model_12.h5')"
      ],
      "metadata": {
        "id": "u4042_VVMepQ"
      },
      "execution_count": 149,
      "outputs": []
    },
    {
      "cell_type": "code",
      "source": [
        "#Loaded The Model \n",
        "\n",
        "loaded_model_12 = tf.keras.models.load_model('model_12.h5',\n",
        "                                             custom_objects={\"KerasLayer\": hub.KerasLayer})"
      ],
      "metadata": {
        "id": "eZwK4CBNPEqf"
      },
      "execution_count": 150,
      "outputs": []
    },
    {
      "cell_type": "code",
      "source": [
        "# How Does Our Loaded Model Perform \n",
        "\n",
        "loaded_model_12.evaluate(val_sentences, val_labels)"
      ],
      "metadata": {
        "colab": {
          "base_uri": "https://localhost:8080/"
        },
        "id": "PDEI_S4aPjgX",
        "outputId": "541899f8-8cde-4834-e0bf-e807e01067ba"
      },
      "execution_count": 151,
      "outputs": [
        {
          "output_type": "stream",
          "name": "stdout",
          "text": [
            "24/24 [==============================] - 1s 15ms/step - loss: 0.4261 - accuracy: 0.8123\n"
          ]
        },
        {
          "output_type": "execute_result",
          "data": {
            "text/plain": [
              "[0.4261447787284851, 0.8123359680175781]"
            ]
          },
          "metadata": {},
          "execution_count": 151
        }
      ]
    },
    {
      "cell_type": "code",
      "source": [
        "# Lets Save to the Saved Model\n",
        "\n",
        "model_12.save('model_12_saved_model_format')"
      ],
      "metadata": {
        "colab": {
          "base_uri": "https://localhost:8080/"
        },
        "id": "rnTAA2NDQW7T",
        "outputId": "df21c203-39f0-4e40-c689-3accbc61417a"
      },
      "execution_count": 152,
      "outputs": [
        {
          "output_type": "stream",
          "name": "stderr",
          "text": [
            "WARNING:absl:Function `_wrapped_model` contains input name(s) USE_input with unsupported characters which will be renamed to use_input in the SavedModel.\n"
          ]
        },
        {
          "output_type": "stream",
          "name": "stdout",
          "text": [
            "INFO:tensorflow:Assets written to: model_12_saved_model_format/assets\n"
          ]
        },
        {
          "output_type": "stream",
          "name": "stderr",
          "text": [
            "INFO:tensorflow:Assets written to: model_12_saved_model_format/assets\n"
          ]
        }
      ]
    },
    {
      "cell_type": "code",
      "source": [
        "#Load in The Model from Saved Model Format\n",
        "\n",
        "loaded_model_12_saved_model_format = tf.keras.models.load_model('model_12_saved_model_format') \n",
        "loaded_model_12_saved_model_format"
      ],
      "metadata": {
        "colab": {
          "base_uri": "https://localhost:8080/"
        },
        "id": "pyfGCSy8Qiw7",
        "outputId": "faef7031-b60c-44ea-fbf4-8874a3fc727e"
      },
      "execution_count": 153,
      "outputs": [
        {
          "output_type": "execute_result",
          "data": {
            "text/plain": [
              "<keras.engine.sequential.Sequential at 0x7f58f1994d10>"
            ]
          },
          "metadata": {},
          "execution_count": 153
        }
      ]
    },
    {
      "cell_type": "code",
      "source": [
        "# Evaluate The Model in Saved Model Format\n",
        "\n",
        "loaded_model_12_saved_model_format.evaluate(val_sentences, val_labels)"
      ],
      "metadata": {
        "colab": {
          "base_uri": "https://localhost:8080/"
        },
        "id": "-8P96HVwRAIF",
        "outputId": "806adc58-9aec-4a0e-8f4e-00a53faf2ed0"
      },
      "execution_count": 154,
      "outputs": [
        {
          "output_type": "stream",
          "name": "stdout",
          "text": [
            "24/24 [==============================] - 1s 16ms/step - loss: 0.4261 - accuracy: 0.8123\n"
          ]
        },
        {
          "output_type": "execute_result",
          "data": {
            "text/plain": [
              "[0.4261447787284851, 0.8123359680175781]"
            ]
          },
          "metadata": {},
          "execution_count": 154
        }
      ]
    },
    {
      "cell_type": "markdown",
      "source": [
        "## **Finding Most Wrong Examples**\n",
        "\n",
        "**If our Best model is still isn't perfect, what examples is it getting wrong**\n",
        "\n",
        "**And of Those Wrong Examples which one is it getting wrong (Those Prediction Probabilites closet to opposite one)**\n",
        "\n"
      ],
      "metadata": {
        "id": "kAQmTBn1RXc-"
      }
    },
    {
      "cell_type": "code",
      "source": [
        "# Download Pretrained Model\n",
        "\n",
        "!wget https://storage.googleapis.com/ztm_tf_course/08_model_6_USE_feature_extractor.zip\n",
        "unzip_data('08_model_6_USE_feature_extractor.zip')"
      ],
      "metadata": {
        "colab": {
          "base_uri": "https://localhost:8080/"
        },
        "id": "uEoLg-bmRNnG",
        "outputId": "fa7c109d-4c98-406b-ca46-1ea8ae20d1eb"
      },
      "execution_count": 155,
      "outputs": [
        {
          "output_type": "stream",
          "name": "stdout",
          "text": [
            "--2022-04-16 19:18:08--  https://storage.googleapis.com/ztm_tf_course/08_model_6_USE_feature_extractor.zip\n",
            "Resolving storage.googleapis.com (storage.googleapis.com)... 64.233.189.128, 108.177.97.128, 108.177.125.128, ...\n",
            "Connecting to storage.googleapis.com (storage.googleapis.com)|64.233.189.128|:443... connected.\n",
            "HTTP request sent, awaiting response... 200 OK\n",
            "Length: 960779165 (916M) [application/zip]\n",
            "Saving to: ‘08_model_6_USE_feature_extractor.zip’\n",
            "\n",
            "08_model_6_USE_feat 100%[===================>] 916.27M  55.1MB/s    in 15s     \n",
            "\n",
            "2022-04-16 19:18:25 (61.1 MB/s) - ‘08_model_6_USE_feature_extractor.zip’ saved [960779165/960779165]\n",
            "\n"
          ]
        }
      ]
    },
    {
      "cell_type": "code",
      "source": [
        "# Import Previously Trained Model\n",
        "\n",
        "model_12_pretrained = tf.keras.models.load_model('08_model_6_USE_feature_extractor')\n",
        "\n",
        "model_12_pretrained"
      ],
      "metadata": {
        "colab": {
          "base_uri": "https://localhost:8080/"
        },
        "id": "snWmO6BMVeJn",
        "outputId": "8a040c31-9241-4115-db5a-35a4a0ba0239"
      },
      "execution_count": 156,
      "outputs": [
        {
          "output_type": "stream",
          "name": "stdout",
          "text": [
            "WARNING:tensorflow:SavedModel saved prior to TF 2.5 detected when loading Keras model. Please ensure that you are saving the model with model.save() or tf.keras.models.save_model(), *NOT* tf.saved_model.save(). To confirm, there should be a file named \"keras_metadata.pb\" in the SavedModel directory.\n"
          ]
        },
        {
          "output_type": "stream",
          "name": "stderr",
          "text": [
            "WARNING:tensorflow:SavedModel saved prior to TF 2.5 detected when loading Keras model. Please ensure that you are saving the model with model.save() or tf.keras.models.save_model(), *NOT* tf.saved_model.save(). To confirm, there should be a file named \"keras_metadata.pb\" in the SavedModel directory.\n"
          ]
        },
        {
          "output_type": "execute_result",
          "data": {
            "text/plain": [
              "<keras.engine.sequential.Sequential at 0x7f57caf8e090>"
            ]
          },
          "metadata": {},
          "execution_count": 156
        }
      ]
    },
    {
      "cell_type": "code",
      "source": [
        "# Make Predictions With Loaded Model From GS\n",
        "\n",
        "model_12_pretrained_pred_probs = model_12_pretrained.predict(val_sentences)\n",
        "model_12_pretrained_preds = tf.squeeze(tf.round(model_12_pretrained_pred_probs))\n",
        "model_12_pretrained_preds[:10]"
      ],
      "metadata": {
        "colab": {
          "base_uri": "https://localhost:8080/"
        },
        "id": "_8RslRCJYV8M",
        "outputId": "7d5352e3-6e99-4208-9fcf-76ddb83c15fc"
      },
      "execution_count": 157,
      "outputs": [
        {
          "output_type": "execute_result",
          "data": {
            "text/plain": [
              "<tf.Tensor: shape=(10,), dtype=float32, numpy=array([0., 1., 1., 0., 1., 1., 1., 1., 1., 0.], dtype=float32)>"
            ]
          },
          "metadata": {},
          "execution_count": 157
        }
      ]
    },
    {
      "cell_type": "code",
      "source": [
        "# Create DataFrame with Validation Sentences , Validation Labels and Performing Model Prediction\n",
        "\n",
        "val_df = pd.DataFrame({\n",
        "    'text': val_sentences,\n",
        "    'target': val_labels,\n",
        "    'pred': model_12_pretrained_preds,\n",
        "    'pred_prob': tf.squeeze(model_12_pretrained_pred_probs)\n",
        "})\n",
        "\n",
        "val_df.head()"
      ],
      "metadata": {
        "colab": {
          "base_uri": "https://localhost:8080/",
          "height": 206
        },
        "id": "O0ReneUOZ8qy",
        "outputId": "b40a138c-5ce5-44a0-942a-099f034a0c7c"
      },
      "execution_count": 158,
      "outputs": [
        {
          "output_type": "execute_result",
          "data": {
            "text/plain": [
              "                                                text  target  pred  pred_prob\n",
              "0  DFR EP016 Monthly Meltdown - On Dnbheaven 2015...       0   0.0   0.159757\n",
              "1  FedEx no longer to transport bioterror germs i...       0   1.0   0.747162\n",
              "2  Gunmen kill four in El Salvador bus attack: Su...       1   1.0   0.988749\n",
              "3  @camilacabello97 Internally and externally scr...       1   0.0   0.196229\n",
              "4  Radiation emergency #preparedness starts with ...       1   1.0   0.707808"
            ],
            "text/html": [
              "\n",
              "  <div id=\"df-fabcb594-51c7-45f6-94ce-59f125997d71\">\n",
              "    <div class=\"colab-df-container\">\n",
              "      <div>\n",
              "<style scoped>\n",
              "    .dataframe tbody tr th:only-of-type {\n",
              "        vertical-align: middle;\n",
              "    }\n",
              "\n",
              "    .dataframe tbody tr th {\n",
              "        vertical-align: top;\n",
              "    }\n",
              "\n",
              "    .dataframe thead th {\n",
              "        text-align: right;\n",
              "    }\n",
              "</style>\n",
              "<table border=\"1\" class=\"dataframe\">\n",
              "  <thead>\n",
              "    <tr style=\"text-align: right;\">\n",
              "      <th></th>\n",
              "      <th>text</th>\n",
              "      <th>target</th>\n",
              "      <th>pred</th>\n",
              "      <th>pred_prob</th>\n",
              "    </tr>\n",
              "  </thead>\n",
              "  <tbody>\n",
              "    <tr>\n",
              "      <th>0</th>\n",
              "      <td>DFR EP016 Monthly Meltdown - On Dnbheaven 2015...</td>\n",
              "      <td>0</td>\n",
              "      <td>0.0</td>\n",
              "      <td>0.159757</td>\n",
              "    </tr>\n",
              "    <tr>\n",
              "      <th>1</th>\n",
              "      <td>FedEx no longer to transport bioterror germs i...</td>\n",
              "      <td>0</td>\n",
              "      <td>1.0</td>\n",
              "      <td>0.747162</td>\n",
              "    </tr>\n",
              "    <tr>\n",
              "      <th>2</th>\n",
              "      <td>Gunmen kill four in El Salvador bus attack: Su...</td>\n",
              "      <td>1</td>\n",
              "      <td>1.0</td>\n",
              "      <td>0.988749</td>\n",
              "    </tr>\n",
              "    <tr>\n",
              "      <th>3</th>\n",
              "      <td>@camilacabello97 Internally and externally scr...</td>\n",
              "      <td>1</td>\n",
              "      <td>0.0</td>\n",
              "      <td>0.196229</td>\n",
              "    </tr>\n",
              "    <tr>\n",
              "      <th>4</th>\n",
              "      <td>Radiation emergency #preparedness starts with ...</td>\n",
              "      <td>1</td>\n",
              "      <td>1.0</td>\n",
              "      <td>0.707808</td>\n",
              "    </tr>\n",
              "  </tbody>\n",
              "</table>\n",
              "</div>\n",
              "      <button class=\"colab-df-convert\" onclick=\"convertToInteractive('df-fabcb594-51c7-45f6-94ce-59f125997d71')\"\n",
              "              title=\"Convert this dataframe to an interactive table.\"\n",
              "              style=\"display:none;\">\n",
              "        \n",
              "  <svg xmlns=\"http://www.w3.org/2000/svg\" height=\"24px\"viewBox=\"0 0 24 24\"\n",
              "       width=\"24px\">\n",
              "    <path d=\"M0 0h24v24H0V0z\" fill=\"none\"/>\n",
              "    <path d=\"M18.56 5.44l.94 2.06.94-2.06 2.06-.94-2.06-.94-.94-2.06-.94 2.06-2.06.94zm-11 1L8.5 8.5l.94-2.06 2.06-.94-2.06-.94L8.5 2.5l-.94 2.06-2.06.94zm10 10l.94 2.06.94-2.06 2.06-.94-2.06-.94-.94-2.06-.94 2.06-2.06.94z\"/><path d=\"M17.41 7.96l-1.37-1.37c-.4-.4-.92-.59-1.43-.59-.52 0-1.04.2-1.43.59L10.3 9.45l-7.72 7.72c-.78.78-.78 2.05 0 2.83L4 21.41c.39.39.9.59 1.41.59.51 0 1.02-.2 1.41-.59l7.78-7.78 2.81-2.81c.8-.78.8-2.07 0-2.86zM5.41 20L4 18.59l7.72-7.72 1.47 1.35L5.41 20z\"/>\n",
              "  </svg>\n",
              "      </button>\n",
              "      \n",
              "  <style>\n",
              "    .colab-df-container {\n",
              "      display:flex;\n",
              "      flex-wrap:wrap;\n",
              "      gap: 12px;\n",
              "    }\n",
              "\n",
              "    .colab-df-convert {\n",
              "      background-color: #E8F0FE;\n",
              "      border: none;\n",
              "      border-radius: 50%;\n",
              "      cursor: pointer;\n",
              "      display: none;\n",
              "      fill: #1967D2;\n",
              "      height: 32px;\n",
              "      padding: 0 0 0 0;\n",
              "      width: 32px;\n",
              "    }\n",
              "\n",
              "    .colab-df-convert:hover {\n",
              "      background-color: #E2EBFA;\n",
              "      box-shadow: 0px 1px 2px rgba(60, 64, 67, 0.3), 0px 1px 3px 1px rgba(60, 64, 67, 0.15);\n",
              "      fill: #174EA6;\n",
              "    }\n",
              "\n",
              "    [theme=dark] .colab-df-convert {\n",
              "      background-color: #3B4455;\n",
              "      fill: #D2E3FC;\n",
              "    }\n",
              "\n",
              "    [theme=dark] .colab-df-convert:hover {\n",
              "      background-color: #434B5C;\n",
              "      box-shadow: 0px 1px 3px 1px rgba(0, 0, 0, 0.15);\n",
              "      filter: drop-shadow(0px 1px 2px rgba(0, 0, 0, 0.3));\n",
              "      fill: #FFFFFF;\n",
              "    }\n",
              "  </style>\n",
              "\n",
              "      <script>\n",
              "        const buttonEl =\n",
              "          document.querySelector('#df-fabcb594-51c7-45f6-94ce-59f125997d71 button.colab-df-convert');\n",
              "        buttonEl.style.display =\n",
              "          google.colab.kernel.accessAllowed ? 'block' : 'none';\n",
              "\n",
              "        async function convertToInteractive(key) {\n",
              "          const element = document.querySelector('#df-fabcb594-51c7-45f6-94ce-59f125997d71');\n",
              "          const dataTable =\n",
              "            await google.colab.kernel.invokeFunction('convertToInteractive',\n",
              "                                                     [key], {});\n",
              "          if (!dataTable) return;\n",
              "\n",
              "          const docLinkHtml = 'Like what you see? Visit the ' +\n",
              "            '<a target=\"_blank\" href=https://colab.research.google.com/notebooks/data_table.ipynb>data table notebook</a>'\n",
              "            + ' to learn more about interactive tables.';\n",
              "          element.innerHTML = '';\n",
              "          dataTable['output_type'] = 'display_data';\n",
              "          await google.colab.output.renderOutput(dataTable, element);\n",
              "          const docLink = document.createElement('div');\n",
              "          docLink.innerHTML = docLinkHtml;\n",
              "          element.appendChild(docLink);\n",
              "        }\n",
              "      </script>\n",
              "    </div>\n",
              "  </div>\n",
              "  "
            ]
          },
          "metadata": {},
          "execution_count": 158
        }
      ]
    },
    {
      "cell_type": "code",
      "source": [
        "# Find The Wrong Predicton and Sort by Prediction Probabilities \n",
        "\n",
        "most_wrong = val_df[val_df['target']!= val_df['pred']].sort_values('pred_prob', ascending=False)\n",
        "most_wrong"
      ],
      "metadata": {
        "colab": {
          "base_uri": "https://localhost:8080/",
          "height": 424
        },
        "id": "KX_hgQuvbC8x",
        "outputId": "dc0f6941-df38-4ab9-9672-56f03d623666"
      },
      "execution_count": 159,
      "outputs": [
        {
          "output_type": "execute_result",
          "data": {
            "text/plain": [
              "                                                  text  target  pred  \\\n",
              "31   ? High Skies - Burning Buildings ? http://t.co...       0   1.0   \n",
              "759  FedEx will no longer transport bioterror patho...       0   1.0   \n",
              "628  @noah_anyname That's where the concentration c...       0   1.0   \n",
              "209  Ashes 2015: AustraliaÛªs collapse at Trent Br...       0   1.0   \n",
              "251  @AshGhebranious civil rights continued in the ...       0   1.0   \n",
              "..                                                 ...     ...   ...   \n",
              "411  @SoonerMagic_ I mean I'm a fan but I don't nee...       1   0.0   \n",
              "233                    I get to smoke my shit in peace       1   0.0   \n",
              "38   Why are you deluged with low self-image? Take ...       1   0.0   \n",
              "244  Reddit Will Now QuarantineÛ_ http://t.co/pkUA...       1   0.0   \n",
              "23   Ron &amp; Fez - Dave's High School Crush https...       1   0.0   \n",
              "\n",
              "     pred_prob  \n",
              "31    0.910196  \n",
              "759   0.876982  \n",
              "628   0.852300  \n",
              "209   0.835454  \n",
              "251   0.827213  \n",
              "..         ...  \n",
              "411   0.043918  \n",
              "233   0.042087  \n",
              "38    0.038998  \n",
              "244   0.038949  \n",
              "23    0.037186  \n",
              "\n",
              "[140 rows x 4 columns]"
            ],
            "text/html": [
              "\n",
              "  <div id=\"df-c0d07d05-d510-46d5-9779-e69b9e20e744\">\n",
              "    <div class=\"colab-df-container\">\n",
              "      <div>\n",
              "<style scoped>\n",
              "    .dataframe tbody tr th:only-of-type {\n",
              "        vertical-align: middle;\n",
              "    }\n",
              "\n",
              "    .dataframe tbody tr th {\n",
              "        vertical-align: top;\n",
              "    }\n",
              "\n",
              "    .dataframe thead th {\n",
              "        text-align: right;\n",
              "    }\n",
              "</style>\n",
              "<table border=\"1\" class=\"dataframe\">\n",
              "  <thead>\n",
              "    <tr style=\"text-align: right;\">\n",
              "      <th></th>\n",
              "      <th>text</th>\n",
              "      <th>target</th>\n",
              "      <th>pred</th>\n",
              "      <th>pred_prob</th>\n",
              "    </tr>\n",
              "  </thead>\n",
              "  <tbody>\n",
              "    <tr>\n",
              "      <th>31</th>\n",
              "      <td>? High Skies - Burning Buildings ? http://t.co...</td>\n",
              "      <td>0</td>\n",
              "      <td>1.0</td>\n",
              "      <td>0.910196</td>\n",
              "    </tr>\n",
              "    <tr>\n",
              "      <th>759</th>\n",
              "      <td>FedEx will no longer transport bioterror patho...</td>\n",
              "      <td>0</td>\n",
              "      <td>1.0</td>\n",
              "      <td>0.876982</td>\n",
              "    </tr>\n",
              "    <tr>\n",
              "      <th>628</th>\n",
              "      <td>@noah_anyname That's where the concentration c...</td>\n",
              "      <td>0</td>\n",
              "      <td>1.0</td>\n",
              "      <td>0.852300</td>\n",
              "    </tr>\n",
              "    <tr>\n",
              "      <th>209</th>\n",
              "      <td>Ashes 2015: AustraliaÛªs collapse at Trent Br...</td>\n",
              "      <td>0</td>\n",
              "      <td>1.0</td>\n",
              "      <td>0.835454</td>\n",
              "    </tr>\n",
              "    <tr>\n",
              "      <th>251</th>\n",
              "      <td>@AshGhebranious civil rights continued in the ...</td>\n",
              "      <td>0</td>\n",
              "      <td>1.0</td>\n",
              "      <td>0.827213</td>\n",
              "    </tr>\n",
              "    <tr>\n",
              "      <th>...</th>\n",
              "      <td>...</td>\n",
              "      <td>...</td>\n",
              "      <td>...</td>\n",
              "      <td>...</td>\n",
              "    </tr>\n",
              "    <tr>\n",
              "      <th>411</th>\n",
              "      <td>@SoonerMagic_ I mean I'm a fan but I don't nee...</td>\n",
              "      <td>1</td>\n",
              "      <td>0.0</td>\n",
              "      <td>0.043918</td>\n",
              "    </tr>\n",
              "    <tr>\n",
              "      <th>233</th>\n",
              "      <td>I get to smoke my shit in peace</td>\n",
              "      <td>1</td>\n",
              "      <td>0.0</td>\n",
              "      <td>0.042087</td>\n",
              "    </tr>\n",
              "    <tr>\n",
              "      <th>38</th>\n",
              "      <td>Why are you deluged with low self-image? Take ...</td>\n",
              "      <td>1</td>\n",
              "      <td>0.0</td>\n",
              "      <td>0.038998</td>\n",
              "    </tr>\n",
              "    <tr>\n",
              "      <th>244</th>\n",
              "      <td>Reddit Will Now QuarantineÛ_ http://t.co/pkUA...</td>\n",
              "      <td>1</td>\n",
              "      <td>0.0</td>\n",
              "      <td>0.038949</td>\n",
              "    </tr>\n",
              "    <tr>\n",
              "      <th>23</th>\n",
              "      <td>Ron &amp;amp; Fez - Dave's High School Crush https...</td>\n",
              "      <td>1</td>\n",
              "      <td>0.0</td>\n",
              "      <td>0.037186</td>\n",
              "    </tr>\n",
              "  </tbody>\n",
              "</table>\n",
              "<p>140 rows × 4 columns</p>\n",
              "</div>\n",
              "      <button class=\"colab-df-convert\" onclick=\"convertToInteractive('df-c0d07d05-d510-46d5-9779-e69b9e20e744')\"\n",
              "              title=\"Convert this dataframe to an interactive table.\"\n",
              "              style=\"display:none;\">\n",
              "        \n",
              "  <svg xmlns=\"http://www.w3.org/2000/svg\" height=\"24px\"viewBox=\"0 0 24 24\"\n",
              "       width=\"24px\">\n",
              "    <path d=\"M0 0h24v24H0V0z\" fill=\"none\"/>\n",
              "    <path d=\"M18.56 5.44l.94 2.06.94-2.06 2.06-.94-2.06-.94-.94-2.06-.94 2.06-2.06.94zm-11 1L8.5 8.5l.94-2.06 2.06-.94-2.06-.94L8.5 2.5l-.94 2.06-2.06.94zm10 10l.94 2.06.94-2.06 2.06-.94-2.06-.94-.94-2.06-.94 2.06-2.06.94z\"/><path d=\"M17.41 7.96l-1.37-1.37c-.4-.4-.92-.59-1.43-.59-.52 0-1.04.2-1.43.59L10.3 9.45l-7.72 7.72c-.78.78-.78 2.05 0 2.83L4 21.41c.39.39.9.59 1.41.59.51 0 1.02-.2 1.41-.59l7.78-7.78 2.81-2.81c.8-.78.8-2.07 0-2.86zM5.41 20L4 18.59l7.72-7.72 1.47 1.35L5.41 20z\"/>\n",
              "  </svg>\n",
              "      </button>\n",
              "      \n",
              "  <style>\n",
              "    .colab-df-container {\n",
              "      display:flex;\n",
              "      flex-wrap:wrap;\n",
              "      gap: 12px;\n",
              "    }\n",
              "\n",
              "    .colab-df-convert {\n",
              "      background-color: #E8F0FE;\n",
              "      border: none;\n",
              "      border-radius: 50%;\n",
              "      cursor: pointer;\n",
              "      display: none;\n",
              "      fill: #1967D2;\n",
              "      height: 32px;\n",
              "      padding: 0 0 0 0;\n",
              "      width: 32px;\n",
              "    }\n",
              "\n",
              "    .colab-df-convert:hover {\n",
              "      background-color: #E2EBFA;\n",
              "      box-shadow: 0px 1px 2px rgba(60, 64, 67, 0.3), 0px 1px 3px 1px rgba(60, 64, 67, 0.15);\n",
              "      fill: #174EA6;\n",
              "    }\n",
              "\n",
              "    [theme=dark] .colab-df-convert {\n",
              "      background-color: #3B4455;\n",
              "      fill: #D2E3FC;\n",
              "    }\n",
              "\n",
              "    [theme=dark] .colab-df-convert:hover {\n",
              "      background-color: #434B5C;\n",
              "      box-shadow: 0px 1px 3px 1px rgba(0, 0, 0, 0.15);\n",
              "      filter: drop-shadow(0px 1px 2px rgba(0, 0, 0, 0.3));\n",
              "      fill: #FFFFFF;\n",
              "    }\n",
              "  </style>\n",
              "\n",
              "      <script>\n",
              "        const buttonEl =\n",
              "          document.querySelector('#df-c0d07d05-d510-46d5-9779-e69b9e20e744 button.colab-df-convert');\n",
              "        buttonEl.style.display =\n",
              "          google.colab.kernel.accessAllowed ? 'block' : 'none';\n",
              "\n",
              "        async function convertToInteractive(key) {\n",
              "          const element = document.querySelector('#df-c0d07d05-d510-46d5-9779-e69b9e20e744');\n",
              "          const dataTable =\n",
              "            await google.colab.kernel.invokeFunction('convertToInteractive',\n",
              "                                                     [key], {});\n",
              "          if (!dataTable) return;\n",
              "\n",
              "          const docLinkHtml = 'Like what you see? Visit the ' +\n",
              "            '<a target=\"_blank\" href=https://colab.research.google.com/notebooks/data_table.ipynb>data table notebook</a>'\n",
              "            + ' to learn more about interactive tables.';\n",
              "          element.innerHTML = '';\n",
              "          dataTable['output_type'] = 'display_data';\n",
              "          await google.colab.output.renderOutput(dataTable, element);\n",
              "          const docLink = document.createElement('div');\n",
              "          docLink.innerHTML = docLinkHtml;\n",
              "          element.appendChild(docLink);\n",
              "        }\n",
              "      </script>\n",
              "    </div>\n",
              "  </div>\n",
              "  "
            ]
          },
          "metadata": {},
          "execution_count": 159
        }
      ]
    },
    {
      "cell_type": "code",
      "source": [
        "# Lets Remind Ourselves of Target Labels\n",
        "\n",
        "# 0-Not Disaster #1- Disaster"
      ],
      "metadata": {
        "id": "VGNarJglbeRV"
      },
      "execution_count": 160,
      "outputs": []
    },
    {
      "cell_type": "markdown",
      "source": [
        "## **Visualize Most Wrong Prediction (Check out False Positive)**"
      ],
      "metadata": {
        "id": "2Pw6kAOObqbP"
      }
    },
    {
      "cell_type": "code",
      "source": [
        "for row in most_wrong[:10].itertuples():\n",
        "  _,text,target,pred,pred_prob = row\n",
        "  print(f\"Target : {target}, Pred : {pred} , Prob : {pred_prob}\")\n",
        "  print(f\"Text : \\n{text}\\n\")\n",
        "  print('---\\n')"
      ],
      "metadata": {
        "colab": {
          "base_uri": "https://localhost:8080/"
        },
        "id": "7YTN6Q1Wbprh",
        "outputId": "b4fc628d-d5f4-4564-e6b7-38b07b91a96c"
      },
      "execution_count": 161,
      "outputs": [
        {
          "output_type": "stream",
          "name": "stdout",
          "text": [
            "Target : 0, Pred : 1.0 , Prob : 0.9101957678794861\n",
            "Text : \n",
            "? High Skies - Burning Buildings ? http://t.co/uVq41i3Kx2 #nowplaying\n",
            "\n",
            "---\n",
            "\n",
            "Target : 0, Pred : 1.0 , Prob : 0.8769820928573608\n",
            "Text : \n",
            "FedEx will no longer transport bioterror pathogens in wake of anthrax lab mishaps http://t.co/lHpgxc4b8J\n",
            "\n",
            "---\n",
            "\n",
            "Target : 0, Pred : 1.0 , Prob : 0.8523001074790955\n",
            "Text : \n",
            "@noah_anyname That's where the concentration camps and mass murder come in. \n",
            " \n",
            "EVERY. FUCKING. TIME.\n",
            "\n",
            "---\n",
            "\n",
            "Target : 0, Pred : 1.0 , Prob : 0.8354544043540955\n",
            "Text : \n",
            "Ashes 2015: AustraliaÛªs collapse at Trent Bridge among worst in history: England bundled out Australia for 60 ... http://t.co/t5TrhjUAU0\n",
            "\n",
            "---\n",
            "\n",
            "Target : 0, Pred : 1.0 , Prob : 0.8272134065628052\n",
            "Text : \n",
            "@AshGhebranious civil rights continued in the 60s. And what about trans-generational trauma? if anything we should listen to the Americans.\n",
            "\n",
            "---\n",
            "\n",
            "Target : 0, Pred : 1.0 , Prob : 0.814815878868103\n",
            "Text : \n",
            "@SonofLiberty357 all illuminated by the brightly burning buildings all around the town!\n",
            "\n",
            "---\n",
            "\n",
            "Target : 0, Pred : 1.0 , Prob : 0.8108396530151367\n",
            "Text : \n",
            "[55436] 1950 LIONEL TRAINS SMOKE LOCOMOTIVES WITH MAGNE-TRACTION INSTRUCTIONS http://t.co/xEZBs3sq0y http://t.co/C2x0QoKGlY\n",
            "\n",
            "---\n",
            "\n",
            "Target : 0, Pred : 1.0 , Prob : 0.8031218647956848\n",
            "Text : \n",
            "@madonnamking RSPCA site multiple 7 story high rise buildings next to low density character residential in an area that floods\n",
            "\n",
            "---\n",
            "\n",
            "Target : 0, Pred : 1.0 , Prob : 0.7669008374214172\n",
            "Text : \n",
            "@freefromwolves GodsLove &amp; #thankU brother Danny for RT of NEW VIDEO http://t.co/cybKsXHF7d The Coming Apocalyptic US Earthquake &amp; Tsunami\n",
            "\n",
            "---\n",
            "\n",
            "Target : 0, Pred : 1.0 , Prob : 0.7666251063346863\n",
            "Text : \n",
            "Air Group is here to the rescue! We have 24/7 Emergency Service! Learn more about it here - http://t.co/9lyx7zMtHE http://t.co/5PbC96rTMJ\n",
            "\n",
            "---\n",
            "\n"
          ]
        }
      ]
    },
    {
      "cell_type": "markdown",
      "source": [
        "## **Making & Visualize Predictions On Test DataFrame**"
      ],
      "metadata": {
        "id": "Fw51uLqUdEqh"
      }
    },
    {
      "cell_type": "code",
      "source": [
        "test_sentences = test_df['text'].to_list()\n",
        "test_sentences[:5]\n",
        "test_samples = random.sample(test_sentences, 10)\n",
        "for test_samples in test_samples:\n",
        "  pred_prob = tf.squeeze(model_12_pretrained.predict([test_samples]))\n",
        "  pred = tf.round(pred_prob)\n",
        "  print(f\"Pred : {int(pred)} , Prob : {pred_prob}\")\n",
        "  print(f\"Text :\\n {test_samples}\\n\")\n",
        "  print('---\\n')"
      ],
      "metadata": {
        "colab": {
          "base_uri": "https://localhost:8080/"
        },
        "id": "SxzQ6FOkdAGG",
        "outputId": "d44b53b8-1579-4e87-f2bb-abf7fb5b88c6"
      },
      "execution_count": 163,
      "outputs": [
        {
          "output_type": "stream",
          "name": "stdout",
          "text": [
            "Pred : 1 , Prob : 0.726610541343689\n",
            "Text :\n",
            " @Vixuhn rip arson\n",
            "\n",
            "---\n",
            "\n",
            "Pred : 1 , Prob : 0.9648390412330627\n",
            "Text :\n",
            " Calgary takes another beating from summer storms; City activates emergency plan http://t.co/u59DmRnlTK\n",
            "\n",
            "---\n",
            "\n",
            "Pred : 0 , Prob : 0.34154731035232544\n",
            "Text :\n",
            " #BigData Deluge is out! http://t.co/khatZh7agZ\n",
            "\n",
            "---\n",
            "\n",
            "Pred : 0 , Prob : 0.09631282091140747\n",
            "Text :\n",
            " NOOOOOOOOO! Don't do that!\n",
            "\n",
            "---\n",
            "\n",
            "Pred : 1 , Prob : 0.8640731573104858\n",
            "Text :\n",
            " Criminals Who Hijack Lorries And Buses Arrested In Enugu (PHOTO) http://t.co/5cZ7eM9OTr\n",
            "\n",
            "---\n",
            "\n",
            "Pred : 1 , Prob : 0.7963244318962097\n",
            "Text :\n",
            " @RockBottomRadFM Is one of the challenges on Tough Enough rescuing people from burning buildings?\n",
            "\n",
            "---\n",
            "\n",
            "Pred : 1 , Prob : 0.6388809084892273\n",
            "Text :\n",
            " 12000 Nigerian refugees repatriated from Cameroon http://t.co/LeLYa0vDOg read /////\n",
            "\n",
            "---\n",
            "\n",
            "Pred : 1 , Prob : 0.9526054263114929\n",
            "Text :\n",
            " Multiple houses/buildings on fire in Kalispell http://t.co/1iyThVshgF\n",
            "\n",
            "---\n",
            "\n",
            "Pred : 0 , Prob : 0.05925457179546356\n",
            "Text :\n",
            " Reddit Will Now Quarantine Offensive Content &gt;&gt; http://t.co/WcIzstXk4f\n",
            "\n",
            "---\n",
            "\n",
            "Pred : 0 , Prob : 0.47392043471336365\n",
            "Text :\n",
            " #ScienceDaily Parental experience may help coral offspring survive climate change http://t.co/M2tJoxkCoU\n",
            "\n",
            "---\n",
            "\n"
          ]
        }
      ]
    },
    {
      "cell_type": "markdown",
      "source": [
        "## **The Speed/Score Trade Off**"
      ],
      "metadata": {
        "id": "KMpJGQ2k1xYW"
      }
    },
    {
      "cell_type": "code",
      "source": [
        "#Lets Make A Function To Measure Time of Prediction \n",
        "\n",
        "import time\n",
        "def pred_timer(model, sample):\n",
        "  '''\n",
        "  Times How Long A Model Takes To Make Prediction on samples\n",
        "  '''\n",
        "\n",
        "  start_time = time.perf_counter() #Gets Start Time\n",
        "  model.predict(sample)\n",
        "  end_time = time.perf_counter()\n",
        "  total_time= end_time - start_time\n",
        "  time_per_pred = total_time/len(sample)\n",
        "  return total_time, time_per_pred "
      ],
      "metadata": {
        "id": "961Wnse81rFA"
      },
      "execution_count": 164,
      "outputs": []
    },
    {
      "cell_type": "code",
      "source": [
        "#Calculate TFHUB Sentence Encoder Time Per Second Per Pred\n",
        "\n",
        "model_12_total_pred_time, model_12_time_per_pred = pred_timer(model = model_12_pretrained, sample = val_sentences)\n",
        "model_12_total_pred_time, model_12_time_per_pred"
      ],
      "metadata": {
        "colab": {
          "base_uri": "https://localhost:8080/"
        },
        "id": "UOsJPdAJ3AcN",
        "outputId": "1ac8fa4c-8275-4024-c680-11a8e5af4cf0"
      },
      "execution_count": 166,
      "outputs": [
        {
          "output_type": "execute_result",
          "data": {
            "text/plain": [
              "(0.4634606470003746, 0.0006082160721789693)"
            ]
          },
          "metadata": {},
          "execution_count": 166
        }
      ]
    },
    {
      "cell_type": "code",
      "source": [
        "# Calculate Our Baseline Times Per Pred\n",
        "\n",
        "model_0_total_pred_time, model_0_time_per_pred = pred_timer(model= model_0, sample= val_sentences)\n",
        "model_0_total_pred_time, model_0_time_per_pred"
      ],
      "metadata": {
        "colab": {
          "base_uri": "https://localhost:8080/"
        },
        "id": "Lq1s8OWI3w1Z",
        "outputId": "7fa99a05-a605-42e0-ce44-20c4a95806fc"
      },
      "execution_count": 167,
      "outputs": [
        {
          "output_type": "execute_result",
          "data": {
            "text/plain": [
              "(0.0705168770000455, 9.254183333339303e-05)"
            ]
          },
          "metadata": {},
          "execution_count": 167
        }
      ]
    },
    {
      "cell_type": "markdown",
      "source": [
        "## **Visual The Graph**"
      ],
      "metadata": {
        "id": "dfUgDXut5G6C"
      }
    },
    {
      "cell_type": "code",
      "source": [
        "import matplotlib.pyplot as plt\n",
        "plt.figure(figsize=(10,7))\n",
        "plt.scatter(model_0_total_pred_time, baseline_results['F1'], label = 'baseline')\n",
        "plt.scatter(model_12_time_per_pred, model_12_results['F1'], label='tf_hub_sentence')\n",
        "plt.legend()\n",
        "plt.title('F1-Score Versus Time Per Predictions')\n",
        "plt.xlabel('Time Per Predictions')\n",
        "plt.ylabel('F1-Score');"
      ],
      "metadata": {
        "colab": {
          "base_uri": "https://localhost:8080/",
          "height": 458
        },
        "id": "UTtwKHFP40sg",
        "outputId": "70a7353f-c64c-4ca5-b475-e5dbe63c1101"
      },
      "execution_count": 170,
      "outputs": [
        {
          "output_type": "display_data",
          "data": {
            "text/plain": [
              "<Figure size 720x504 with 1 Axes>"
            ],
            "image/png": "[encoded data removed]"
          },
          "metadata": {
            "needs_background": "light"
          }
        }
      ]
    },
    {
      "cell_type": "code",
      "source": [
        "import matplotlib.pyplot as plt\n",
        "plt.figure(figsize=(10,7))\n",
        "plt.scatter(model_0_total_pred_time, baseline_results['F1'], label = 'baseline')\n",
        "plt.scatter(model_12_time_per_pred, model_10_results['F1'], label='tf_hub_sentence')\n",
        "plt.legend()\n",
        "plt.title('F1-Score Versus Time Per Predictions')\n",
        "plt.xlabel('Time Per Predictions')\n",
        "plt.ylabel('F1-Score');"
      ],
      "metadata": {
        "colab": {
          "base_uri": "https://localhost:8080/",
          "height": 458
        },
        "id": "OFsFAGsk65A5",
        "outputId": "c27da44f-fa2a-4474-a3c1-84bd222afac9"
      },
      "execution_count": 173,
      "outputs": [
        {
          "output_type": "display_data",
          "data": {
            "text/plain": [
              "<Figure size 720x504 with 1 Axes>"
            ],
            "image/png": "[encoded data removed]"
          },
          "metadata": {
            "needs_background": "light"
          }
        }
      ]
    },
    {
      "cell_type": "markdown",
      "source": [
        "# **1-Check Whether The Tweet is Disaster or Not!**"
      ],
      "metadata": {
        "id": "mRG7Clnw9ppr"
      }
    },
    {
      "cell_type": "markdown",
      "source": [
        "### **Sample Tweet**"
      ],
      "metadata": {
        "id": "pA1BOKd697lB"
      }
    },
    {
      "cell_type": "code",
      "source": [
        "sample_tweet_1 = 'Reports that the smoke in Beirut sky contains nitric acid, which is toxic. Please share and refrain from stepping outside unless urge'"
      ],
      "metadata": {
        "id": "TcS6v-0S9Bq3"
      },
      "execution_count": 195,
      "outputs": []
    },
    {
      "cell_type": "markdown",
      "source": [
        "### **Predict Tweet**"
      ],
      "metadata": {
        "id": "ssHQpDIg995N"
      }
    },
    {
      "cell_type": "code",
      "source": [
        "def predict_on_sentence(model, sentence):\n",
        "  \"\"\"\n",
        "  Uses model to make a prediction on sentence.\n",
        "\n",
        "  Returns the sentence, the predicted label and the prediction probability.\n",
        "  \"\"\"\n",
        "  pred_prob = model.predict([sentence])\n",
        "  pred_label = tf.squeeze(tf.round(pred_prob)).numpy()\n",
        "  print(f\"Pred: {pred_label}\", \"(real disaster)\" if pred_label > 0 else \"(not real disaster)\", f\"Prob: {pred_prob[0][0]}\")\n",
        "  print(f\"Text:\\n{sentence}\")"
      ],
      "metadata": {
        "id": "681xe4AC-KiO"
      },
      "execution_count": 196,
      "outputs": []
    },
    {
      "cell_type": "code",
      "source": [
        "# Predict on diaster Tweet 1\n",
        "predict_on_sentence(model=model_12, \n",
        "                    sentence=sample_tweet_1)"
      ],
      "metadata": {
        "colab": {
          "base_uri": "https://localhost:8080/"
        },
        "id": "m95pn-nJ9yNZ",
        "outputId": "9f520620-9992-4733-9741-f803de5aa315"
      },
      "execution_count": 197,
      "outputs": [
        {
          "output_type": "stream",
          "name": "stdout",
          "text": [
            "Pred: 1.0 (real disaster) Prob: 0.8591172099113464\n",
            "Text:\n",
            "Reports that the smoke in Beirut sky contains nitric acid, which is toxic. Please share and refrain from stepping outside unless urge\n"
          ]
        }
      ]
    },
    {
      "cell_type": "code",
      "source": [
        ""
      ],
      "metadata": {
        "id": "A4Y1_P0x-Fe9"
      },
      "execution_count": null,
      "outputs": []
    }
  ]
}